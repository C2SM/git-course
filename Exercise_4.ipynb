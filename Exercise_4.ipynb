{
 "cells": [
  {
   "cell_type": "markdown",
   "id": "pressing-building",
   "metadata": {},
   "source": [
    "## Exercise 4\n",
    "\n",
    "## Goals\n",
    "   * Exercise the typical Git-workflow\n",
    "   \n",
    "## Structure\n",
    "In this exercise we wont learn any new git-commands. We rather repeat all commands and workflows learned in the\n",
    "previous exercises. To do so we work on the *partyplan.txt* document, and simulate a possible workflow. \n",
    "Because it is all repetition, there is less explanation provided.\n",
    "\n",
    "The raw outline of this workflow:\n",
    "   * Add food and people\n",
    "   * Ben does not bring juice\n",
    "   * Add schedule to document\n",
    "   * \"Accidentially\" delete all files, recover it\n",
    "   * Change schedule in another branch\n",
    "   * Create two additional branches for different music options\n",
    "   * Merge new schedule into master\n",
    "   * Delete merged branch\n",
    "   * Merge your preferred music branch into master and delete merged branch\n",
    "\n",
    "In order to allow a smooth exercise, there are some functions written by C2SM in the file *helpers.sh* that are **NOT** part of Git. For this exercise we us the following functions from that file:\n",
    "   * **reset:** It will delete the *work* folder and enable you a clean restart of the exercise in case you completely mess it up\n",
    "   * **init_empty_folder:** create and empty folder and enter it."
   ]
  },
  {
   "cell_type": "markdown",
   "id": "domestic-passion",
   "metadata": {},
   "source": [
    "### Checkout files at some point in the Git history"
   ]
  },
  {
   "cell_type": "code",
   "execution_count": null,
   "id": "interesting-bridal",
   "metadata": {},
   "outputs": [],
   "source": [
    "# execute this code at the very beginning to initialize the exercise properly\n",
    "source helpers.sh"
   ]
  },
  {
   "cell_type": "code",
   "execution_count": null,
   "id": "fantastic-sessions",
   "metadata": {},
   "outputs": [],
   "source": [
    "## only execute in case of (serious) trouble ##\n",
    "## it will delete your entire work-directory ##\n",
    "reset"
   ]
  },
  {
   "cell_type": "markdown",
   "id": "informative-zimbabwe",
   "metadata": {},
   "source": [
    "#### Important Remark:"
   ]
  },
  {
   "cell_type": "code",
   "execution_count": null,
   "id": "limited-meaning",
   "metadata": {
    "scrolled": true
   },
   "outputs": [],
   "source": [
    "# this line will create an emtpy directory\n",
    "init_empty_folder\n"
   ]
  },
  {
   "cell_type": "code",
   "execution_count": null,
   "id": "guilty-theater",
   "metadata": {},
   "outputs": [],
   "source": [
    "# init git-repository\n"
   ]
  },
  {
   "cell_type": "code",
   "execution_count": null,
   "id": "weird-stress",
   "metadata": {},
   "outputs": [],
   "source": [
    "# execute \"ls -a\" to also see the hidden git-folder\n"
   ]
  },
  {
   "cell_type": "markdown",
   "id": "judicial-trouble",
   "metadata": {},
   "source": [
    "Add participants (Julia, Ben and Lea).  \n",
    "Julia brings chips, Ben brings juice and Lea brings vine. \n",
    "\n",
    "To edit *partyplan.txt*, follow the instructions below:\n",
    "   * Click on *File* -> *Open* in the headers section of the notebook\n",
    "   * Go to folder *work* and enter *party_planning*\n",
    "   * Open *partyplan.txt*\n",
    "   * Change file\n",
    "   * Save changes by clicking on *File* -> *Save*\n",
    "\n",
    "Please us this way of editing files throughout the exercise.\n"
   ]
  },
  {
   "cell_type": "code",
   "execution_count": null,
   "id": "acceptable-hungarian",
   "metadata": {},
   "outputs": [],
   "source": [
    "# commit your changes\n"
   ]
  },
  {
   "cell_type": "markdown",
   "id": "middle-rider",
   "metadata": {},
   "source": [
    "Ben does not brings any food to the party!    \n",
    "\n",
    "Adapt your document accordingly."
   ]
  },
  {
   "cell_type": "code",
   "execution_count": null,
   "id": "large-catalyst",
   "metadata": {},
   "outputs": [],
   "source": [
    "# commit the adapted \"partyplan.txt\"\n"
   ]
  }
 ],
 "metadata": {
  "kernelspec": {
   "display_name": "Bash",
   "language": "bash",
   "name": "bash"
  },
  "language_info": {
   "codemirror_mode": "shell",
   "file_extension": ".sh",
   "mimetype": "text/x-sh",
   "name": "bash"
  }
 },
 "nbformat": 4,
 "nbformat_minor": 5
}
