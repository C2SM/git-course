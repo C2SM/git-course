{
 "cells": [
  {
   "cell_type": "markdown",
   "id": "brutal-anger",
   "metadata": {},
   "source": [
    "# Basic Unix Command\n",
    "\n",
    "In this Git course some very basic unix commands will be used.\n"
    "This document describes **ALL** commands needed below:\n",
    "\n",
    "   * **ls:** list all files/folders in current directory\n",
    "   \n",
    "   * **cd:** change directory, e.g. *cd test* will go to folder 'test'. To go one directory up, type *cd ..** \n",
    "   \n",
    "   * **cat:** concatenate files, in our case we only use it to display the content of text file, e.g. *cat my_file.txt* prints the content of *my_file.txt* to the terminal.\n",
    "   \n",
    "   * **source:** run script in the current shell, this means that all variables and functions defined in that file will be available in the current shell\n",
    "   \n",
    "   * **echo:** display a line of text\n",
    "   \n",
    "   * **>:** redirect ouput to file/device after *>*, overwrites already existing file\n",
    "   * **>>:** redirect output to file/device after *>>*, does not delete already existing file.\n",
    "   * **mkdir:** create directory/folder, e.g. *mkdir test* will create directory 'test' "
   ]
  },
  {
   "cell_type": "code",
   "execution_count": null,
   "id": "stunning-cabin",
   "metadata": {},
   "outputs": [],
   "source": []
  }
 ],
 "metadata": {
  "kernelspec": {
   "display_name": "Bash",
   "language": "bash",
   "name": "bash"
  },
  "language_info": {
   "codemirror_mode": "shell",
   "file_extension": ".sh",
   "mimetype": "text/x-sh",
   "name": "bash"
  }
 },
 "nbformat": 4,
 "nbformat_minor": 5
}
