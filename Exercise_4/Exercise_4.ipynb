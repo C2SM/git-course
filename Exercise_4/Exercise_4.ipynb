{
 "cells": [
  {
   "cell_type": "markdown",
   "metadata": {},
   "source": [
    "## Exercise 4\n",
    "\n",
    "## Goals\n",
    "   * Exercise the typical Git workflow\n",
    "   \n",
    "## Structure\n",
    "In this exercise we won't learn any new git commands. We rather repeat all commands and workflows learned in the\n",
    "previous exercises. To do so we work on the *partyplan.txt* document and simulate a possible workflow. \n",
    "Because it is all repetition, there is less explanation provided.\n",
    "\n",
    "The raw outline of this workflow:\n",
    "   * Add food and people\n",
    "   * Ben does not bring juice\n",
    "   * Add schedule to document\n",
    "   * Ben changes his mind again: brings food as well\n",
    "   * \"Accidentially\" delete all files, recover it\n",
    "   * Change schedule in another branch\n",
    "   * Create two additional branches for different music options\n",
    "   * Merge new schedule into master\n",
    "   * Delete merged branch\n",
    "   * Merge your preferred music branch into master and delete merged branch\n",
    "\n",
    "In order to allow a smooth exercise, there are some functions written by C2SM in the file *helpers.sh* that are **NOT** part of Git. For this exercise we us the following functions from that file:\n",
    "   * **init_exercise:** It will create the *work* directory and navigate into it \n",
    "   * **reset:** It will delete the *work* folder and enable you a clean restart of the exercise in case you completely mess it up\n",
    "   * **init_empty_folder:** create and empty folder and enter it."
   ]
  },
  {
   "cell_type": "markdown",
   "metadata": {},
   "source": [
    "### Exercise typical Git workflow"
   ]
  },
  {
   "cell_type": "code",
   "execution_count": 3,
   "metadata": {},
   "outputs": [],
   "source": [
    "# execute this code at the very beginning to initialize the exercise properly\n",
    "source ../helpers.sh\n",
    "init_exercise"
   ]
  },
  {
   "cell_type": "code",
   "execution_count": 4,
   "metadata": {},
   "outputs": [
    {
     "name": "stdout",
     "output_type": "stream",
     "text": [
      "Go back to /Users/juckerj/Desktop/git_course/notebook\n",
      "Restore clean working directory\n",
      "Here we go again!\n"
     ]
    }
   ],
   "source": [
    "## only execute in case of (serious) trouble ##\n",
    "## it will delete your entire work directory ##\n",
    "reset"
   ]
  },
  {
   "cell_type": "markdown",
   "metadata": {},
   "source": [
    "#### Important Remark:"
   ]
  },
  {
   "cell_type": "code",
   "execution_count": 5,
   "metadata": {
    "scrolled": true
   },
   "outputs": [],
   "source": [
    "# this line will create an emtpy directory\n",
    "init_empty_folder\n"
   ]
  },
  {
   "cell_type": "code",
   "execution_count": null,
   "metadata": {},
   "outputs": [],
   "source": [
    "# init git repository\n"
   ]
  },
  {
   "cell_type": "code",
   "execution_count": null,
   "metadata": {},
   "outputs": [],
   "source": [
    "# execute \"ls -a\" to also see the hidden git-folder\n"
   ]
  },
  {
   "cell_type": "markdown",
   "metadata": {},
   "source": [
    "Add participants (Julia, Ben and Lea).  \n",
    "Julia brings chips, Ben brings juice and Lea brings wine. \n",
    "\n",
    "To edit *partyplan.txt*, follow the instructions below:\n",
    "   * Click on *File* -> *Open* in the headers section of the notebook\n",
    "   * Go to folder *work* and enter *party_planning*\n",
    "   * Open *partyplan.txt*\n",
    "   * Change file\n",
    "   * Save changes by clicking on *File* -> *Save*\n",
    "\n",
    "Please us this way of editing files throughout the exercise.\n"
   ]
  },
  {
   "cell_type": "code",
   "execution_count": null,
   "metadata": {},
   "outputs": [],
   "source": [
    "# commit your changes\n"
   ]
  },
  {
   "cell_type": "markdown",
   "metadata": {},
   "source": [
    "Ben does not brings any food to the party!    \n",
    "\n",
    "Adapt your document accordingly."
   ]
  },
  {
   "cell_type": "code",
   "execution_count": null,
   "metadata": {},
   "outputs": [],
   "source": [
    "# commit the adapted \"partyplan.txt\"\n"
   ]
  },
  {
   "cell_type": "markdown",
   "metadata": {},
   "source": [
    "The party needs a rough schedule of what is happening:\n",
    "   * Door opening\n",
    "   * Start Music\n",
    "   * Happy Hour\n",
    "\n",
    "Implement these points into your document."
   ]
  },
  {
   "cell_type": "code",
   "execution_count": 1,
   "metadata": {},
   "outputs": [],
   "source": [
    "# commit your changes\n"
   ]
  },
  {
   "cell_type": "markdown",
   "metadata": {},
   "source": [
    "Check if all of your changes are really tracked by Git.\n"
   ]
  },
  {
   "cell_type": "code",
   "execution_count": null,
   "metadata": {},
   "outputs": [],
   "source": [
    "# git status\n",
    "\n",
    "# git log\n"
   ]
  },
  {
   "cell_type": "markdown",
   "metadata": {},
   "source": [
    "In case you don't have any untracked changes in your repository move on to the next part of this exercise.\n",
    "\n",
    "\n",
    "\n",
    "**It is already late at night, our concentration is not very high anymore...**\n",
    "\n",
    "By *accident* we delete all of our existing files..."
   ]
  },
  {
   "cell_type": "code",
   "execution_count": null,
   "metadata": {},
   "outputs": [],
   "source": [
    "# CAUTION: executing this panel deletes all files in the current directory\n",
    "rm *"
   ]
  },
  {
   "cell_type": "markdown",
   "metadata": {},
   "source": [
    "Thanks to Git we can easily restore files, even if they are deleted."
   ]
  },
  {
   "cell_type": "code",
   "execution_count": null,
   "metadata": {},
   "outputs": [],
   "source": [
    "# restore deleted files\n"
   ]
  },
  {
   "cell_type": "markdown",
   "metadata": {},
   "source": [
    "As a next step create a new branch and edit the schedule there, because we are not sure about the expected delay yet:\n",
    "   * Postpone the door opening for 2 hours"
   ]
  },
  {
   "cell_type": "code",
   "execution_count": null,
   "metadata": {},
   "outputs": [],
   "source": [
    "# create new branch and adjust schedule\n"
   ]
  },
  {
   "cell_type": "code",
   "execution_count": null,
   "metadata": {},
   "outputs": [],
   "source": [
    "# commit changes"
   ]
  },
  {
   "cell_type": "markdown",
   "metadata": {},
   "source": [
    "Switch to branch *master* and checkout another branch on top of it.\n",
    "Implement the following changes to the document:\n",
    "   * The music played will be *Classical Music*\n",
    "   * The music will be for two hours"
   ]
  },
  {
   "cell_type": "code",
   "execution_count": null,
   "metadata": {},
   "outputs": [],
   "source": [
    "# create new branch and adapt music played\n"
   ]
  },
  {
   "cell_type": "code",
   "execution_count": null,
   "metadata": {},
   "outputs": [],
   "source": [
    "# commit changes\n"
   ]
  },
  {
   "cell_type": "markdown",
   "metadata": {},
   "source": [
    "Switch to branch *master* and checkout another branch on top of it.\n",
    "Implement the following changes to the document:\n",
    "   * The music played will be *Dj-Set Techno*\n",
    "   * The music will be for 6 hours"
   ]
  },
  {
   "cell_type": "code",
   "execution_count": null,
   "metadata": {},
   "outputs": [],
   "source": [
    "# create new branch and adapt music played\n"
   ]
  },
  {
   "cell_type": "code",
   "execution_count": 2,
   "metadata": {},
   "outputs": [],
   "source": [
    "# commit changes\n"
   ]
  },
  {
   "cell_type": "markdown",
   "metadata": {},
   "source": [
    "It's time to get an overview of what we just did.\n",
    "Our repository has currently 4 branches (names may be different for your case:\n",
    "   * master (base version of all subsequent branches)\n",
    "   * schedule (later door opening)\n",
    "   * classic_music (classical music for 2 hours)\n",
    "   * dj_set (Dj-Set with Techno for 6 hours)\n",
    "   \n",
    "Ensure your repository contains the same amount of different branches."
   ]
  },
  {
   "cell_type": "code",
   "execution_count": 6,
   "metadata": {},
   "outputs": [],
   "source": [
    "# display all branches of the Git repository\n"
   ]
  },
  {
   "cell_type": "markdown",
   "metadata": {},
   "source": [
    "The delay of the door-opening is confirmed.\n",
    "Therefore merge the branch *schedule* into master.\n",
    "\n",
    "**Remark:** Make sure you are in the master branch before starting the merge, because Git always merges a branch **into** your current branch.\n"
   ]
  },
  {
   "cell_type": "code",
   "execution_count": 7,
   "metadata": {},
   "outputs": [],
   "source": [
    "# merge schedule branch into master\n"
   ]
  },
  {
   "cell_type": "markdown",
   "metadata": {},
   "source": [
    "Inspect the document and make sure the changes from the merged branch are present.\n",
    "\n",
    "If everything is ok, make a commit"
   ]
  },
  {
   "cell_type": "code",
   "execution_count": null,
   "metadata": {},
   "outputs": [],
   "source": [
    "# commit merge\n"
   ]
  },
  {
   "cell_type": "code",
   "execution_count": 8,
   "metadata": {},
   "outputs": [],
   "source": [
    "# follow good practice and delete merged branch\n"
   ]
  },
  {
   "cell_type": "markdown",
   "metadata": {},
   "source": [
    "The last step of the planning is to choose one of the music options.\n",
    "Decide what music you prefer.\n",
    "\n",
    "Merge the corresponding branch into master."
   ]
  },
  {
   "cell_type": "code",
   "execution_count": null,
   "metadata": {},
   "outputs": [],
   "source": [
    "# merge your preferred music into master\n"
   ]
  },
  {
   "cell_type": "code",
   "execution_count": null,
   "metadata": {},
   "outputs": [],
   "source": [
    "# delete merged branch\n"
   ]
  },
  {
   "cell_type": "markdown",
   "metadata": {},
   "source": [
    "There is one unused branch left in our repository.\n",
    "We want to keep the repository clean and nice. So please delete the unmerged branch as well.\n",
    "\n",
    "**Remark:** Since we did not merge the remaining branch, a different option is needed to *git branch*"
   ]
  },
  {
   "cell_type": "code",
   "execution_count": 3,
   "metadata": {},
   "outputs": [],
   "source": [
    "# delete unused branche\n"
   ]
  },
  {
   "cell_type": "markdown",
   "metadata": {},
   "source": [
    "**Congrats** \n",
    "\n",
    "You already new the most essential Git commands for the local use of Git.\n",
    "\n",
    "Further exercises will focus more on typical workflows with remote servers like GitHub or Gitlab."
   ]
  }
 ],
 "metadata": {
  "kernelspec": {
   "display_name": "Teaching - bash",
   "language": "bash",
   "name": "bash"
  },
  "language_info": {
   "codemirror_mode": "shell",
   "file_extension": ".sh",
   "mimetype": "text/x-sh",
   "name": "bash"
  }
 },
 "nbformat": 4,
 "nbformat_minor": 5
}
