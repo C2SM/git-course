{
 "cells": [
  {
   "cell_type": "markdown",
   "id": "executed-paris",
   "metadata": {},
   "source": [
    "## Exercise 4\n",
    "\n",
    "## Goals\n",
    "   * Practice the typical Git workflow\n",
    "   \n",
    "## Structure\n",
    "In this exercise we won't learn any new Git commands. We rather repeat all commands and workflows learned in the\n",
    "previous exercises. To do so we work on the *conference_schedule.txt* document and simulate a possible workflow.\n",
    "Because it is all repetition, there is less explanation provided.\n",
    "\n",
    "The raw outline of this workflow:\n",
    "   * Add events\n",
    "   * Change events\n",
    "   * Add more events\n",
    "   * \"Accidentially\" delete all files, recover it\n",
    "   * Change one event in another branch (alternative schedule)\n",
    "   * Create two additional branches for different evening activity options\n",
    "   * Merge the alternative schedule into main\n",
    "   * Delete merged branch\n",
    "   * Merge your preferred evening activity into main\n",
    "   * Delete merged branch and unused branch\n",
    "\n",
    "In order to allow a smooth exercise, there are some functions written by C2SM in the file *helpers.sh* that are **NOT** part of Git. For this exercise we us the following functions from that file:\n",
    "\n",
    "   * **init_exercise:** It will create the *work* directory and navigate into it \n",
    "   * **reset:** It will delete the *work* folder and enable you a clean restart of the exercise in case you completely mess it up\n",
    "   * **init_empty_folder:** create the directory `conference_planning` and the empty file `conference_schedule.txt` in it.\n",
    "   \n",
    "_**Reminder:** all text enclosed with `<>` denotes a placeholder to be replaced by a specific string appropriate in your context._\n",
    "\n",
    "_**Reminder:** Always run `git commit` and `git merge` with a git message `-m <meaningful_message>`. Otherwise Git may try to open the Git editor, which does not work on jupyter notebook and will break your current session._\n",
    "\n",
    "### Initialization"
   ]
  },
  {
   "cell_type": "code",
   "execution_count": null,
   "id": "beginning-cassette",
   "metadata": {},
   "outputs": [],
   "source": [
    "# check current directory with \"pwd\"\n",
    "pwd\n",
    "# go to folder of this exercise using \"cd\"\n"
   ]
  },
  {
   "cell_type": "code",
   "execution_count": null,
   "id": "developing-jamaica",
   "metadata": {},
   "outputs": [],
   "source": [
    "# execute this code at the very beginning to initialize the exercise properly\n",
    "source ../helpers.sh\n",
    "init_exercise"
   ]
  },
  {
   "cell_type": "markdown",
   "id": "loaded-pontiac",
   "metadata": {},
   "source": [
    "***\n",
    "### Optional: clear notebook and restart\n",
    "**In case you mess up your notebook completely,  \n",
    "execute** ***reset*** **in the following cell. This will restore a clean environment!**\n"
   ]
  },
  {
   "cell_type": "code",
   "execution_count": null,
   "id": "individual-domain",
   "metadata": {},
   "outputs": [],
   "source": [
    "## only execute in case of (serious) trouble ##\n",
    "## it will delete your entire work directory ##\n",
    "reset"
   ]
  },
  {
   "cell_type": "markdown",
   "id": "boring-enzyme",
   "metadata": {},
   "source": [
    "***\n",
    "## Exercise\n",
    "\n",
    "### Exercise typical Git workflow"
   ]
  },
  {
   "cell_type": "code",
   "execution_count": null,
   "id": "greenhouse-quest",
   "metadata": {},
   "outputs": [],
   "source": [
    "# this line will create the directory `conference_planning` and the empty file `conference_schedule.txt` in it\n",
    "init_directory_with_empty_file"
   ]
  },
  {
   "cell_type": "code",
   "execution_count": null,
   "id": "massive-asbestos",
   "metadata": {},
   "outputs": [],
   "source": [
    "# init git repository\n"
   ]
  },
  {
   "cell_type": "code",
   "execution_count": null,
   "id": "prompt-looking",
   "metadata": {},
   "outputs": [],
   "source": [
    "# execute \"ls -a\" to also see the hidden git-folder\n"
   ]
  },
  {
   "cell_type": "markdown",
   "id": "committed-brass",
   "metadata": {},
   "source": [
    "Add the events: talk, coffee break, workshop\n",
    "\n",
    "Remember to do all modifications of the schedules directly via Jupyter Notebooks:\n",
    "   * Go to folder *~/Exercise_4/work/conference_planning*\n",
    "   * Open *conference_schedule.txt*\n",
    "   * Change file\n",
    "   * Save changes by clicking on *File* -> *Save*\n",
    "   \n",
    "**Don't forget to save your modifications before coming back!**\n",
    "\n",
    "Please use this way of editing files throughout the exercise."
   ]
  },
  {
   "cell_type": "code",
   "execution_count": null,
   "id": "frank-responsibility",
   "metadata": {},
   "outputs": [],
   "source": [
    "# commit your changes\n"
   ]
  },
  {
   "cell_type": "markdown",
   "id": "valid-wallpaper",
   "metadata": {},
   "source": [
    "The workshop was cancelled and we will do a poster session instead.\n",
    "\n",
    "Adapt your document accordingly."
   ]
  },
  {
   "cell_type": "code",
   "execution_count": null,
   "id": "ranking-arrival",
   "metadata": {},
   "outputs": [],
   "source": [
    "# commit the adapted \"conference_schedule.txt\"\n"
   ]
  },
  {
   "cell_type": "markdown",
   "id": "smart-craft",
   "metadata": {},
   "source": [
    "We go on with the planning. Add those three events:\n",
    "   * Lunch break\n",
    "   * Another talk\n",
    "   * Second poster session\n",
    "\n",
    "Implement these points into your document."
   ]
  },
  {
   "cell_type": "code",
   "execution_count": null,
   "id": "mature-night",
   "metadata": {},
   "outputs": [],
   "source": [
    "# commit your changes\n"
   ]
  },
  {
   "cell_type": "markdown",
   "id": "fifty-recall",
   "metadata": {},
   "source": [
    "Check if all of your changes are really tracked by Git.\n"
   ]
  },
  {
   "cell_type": "code",
   "execution_count": null,
   "id": "polished-source",
   "metadata": {},
   "outputs": [],
   "source": [
    "# git status\n",
    "\n",
    "# git log\n"
   ]
  },
  {
   "cell_type": "markdown",
   "id": "floating-conditions",
   "metadata": {},
   "source": [
    "In case you don't have any untracked changes in your repository move on to the next part of this exercise.\n",
    "\n",
    "\n",
    "\n",
    "**It is already late at night, our concentration is not very high anymore...**\n",
    "\n",
    "By *accident* we delete all of our existing files..."
   ]
  },
  {
   "cell_type": "code",
   "execution_count": null,
   "id": "integral-shaft",
   "metadata": {},
   "outputs": [],
   "source": [
    "# CAUTION: executing this panel deletes all files in the current directory\n",
    "rm *"
   ]
  },
  {
   "cell_type": "markdown",
   "id": "miniature-humor",
   "metadata": {},
   "source": [
    "Thanks to Git we can easily restore files, even if they are deleted."
   ]
  },
  {
   "cell_type": "code",
   "execution_count": null,
   "id": "useful-spotlight",
   "metadata": {},
   "outputs": [],
   "source": [
    "# restore deleted files\n"
   ]
  },
  {
   "cell_type": "markdown",
   "id": "greatest-classification",
   "metadata": {},
   "source": [
    "As a next step create a new branch and edit the schedule there, because we are not sure yet if Professor X will accept the talk in the morning.\n",
    "   * Change talk to workshop"
   ]
  },
  {
   "cell_type": "code",
   "execution_count": null,
   "id": "purple-conspiracy",
   "metadata": {},
   "outputs": [],
   "source": [
    "# create new branch and adjust schedule\n"
   ]
  },
  {
   "cell_type": "code",
   "execution_count": null,
   "id": "trying-ideal",
   "metadata": {},
   "outputs": [],
   "source": [
    "# commit changes\n"
   ]
  },
  {
   "cell_type": "markdown",
   "id": "determined-classification",
   "metadata": {},
   "source": [
    "Switch back to branch *main* and create another branch on top of it.\n",
    "We want to plan an evening activity but are not sure what it will be:\n",
    "   * Add an evening activity"
   ]
  },
  {
   "cell_type": "code",
   "execution_count": null,
   "id": "single-contribution",
   "metadata": {},
   "outputs": [],
   "source": [
    "# switch to main, create new branch and add an evening activity\n"
   ]
  },
  {
   "cell_type": "code",
   "execution_count": null,
   "id": "minus-matrix",
   "metadata": {},
   "outputs": [],
   "source": [
    "# commit changes\n"
   ]
  },
  {
   "cell_type": "markdown",
   "id": "major-implement",
   "metadata": {},
   "source": [
    "Switch to branch *main* and create another branch on top of it:\n",
    "   * Add an alternative evening activity"
   ]
  },
  {
   "cell_type": "code",
   "execution_count": null,
   "id": "abroad-ownership",
   "metadata": {},
   "outputs": [],
   "source": [
    "# switch to main, create new branch and add evening activity\n"
   ]
  },
  {
   "cell_type": "code",
   "execution_count": null,
   "id": "informative-infrared",
   "metadata": {},
   "outputs": [],
   "source": [
    "# commit changes\n"
   ]
  },
  {
   "cell_type": "markdown",
   "id": "extreme-figure",
   "metadata": {},
   "source": [
    "It's time to get an overview of what we just did.\n",
    "Our repository has currently 4 branches (names may be different for your case):\n",
    "   * main (base version of all subsequent branches)\n",
    "   * alternative_talk (workshop instead of talk)\n",
    "   * evening_activity (First planned activity)\n",
    "   * evening_activity_alternative (Alternative activity)\n",
    "   \n",
    "Ensure your repository contains the same amount of different branches."
   ]
  },
  {
   "cell_type": "code",
   "execution_count": null,
   "id": "congressional-exception",
   "metadata": {},
   "outputs": [],
   "source": [
    "# display all branches of the Git repository\n"
   ]
  },
  {
   "cell_type": "markdown",
   "id": "registered-england",
   "metadata": {},
   "source": [
    "The talk in the morning has not been accepted.\n",
    "Therefore merge the branch *alternative_talk* into main.\n",
    "\n",
    "**Remark:** Make sure you are in the main branch before starting the merge, because Git always merges a branch **into** your current branch.\n"
   ]
  },
  {
   "cell_type": "code",
   "execution_count": null,
   "id": "breeding-partition",
   "metadata": {},
   "outputs": [],
   "source": [
    "# merge schedule branch into the main branch\n"
   ]
  },
  {
   "cell_type": "markdown",
   "id": "linear-lecture",
   "metadata": {},
   "source": [
    "Inspect the document and make sure the changes from the merged branch are present.\n",
    "\n",
    "If everything is ok, make a commit"
   ]
  },
  {
   "cell_type": "code",
   "execution_count": null,
   "id": "capital-protocol",
   "metadata": {},
   "outputs": [],
   "source": [
    "# commit merge\n"
   ]
  },
  {
   "cell_type": "code",
   "execution_count": null,
   "id": "brown-northern",
   "metadata": {},
   "outputs": [],
   "source": [
    "# follow good practice and delete merged branches\n"
   ]
  },
  {
   "cell_type": "markdown",
   "id": "certified-parks",
   "metadata": {},
   "source": [
    "The last step of the planning is to choose one of the two evening activities.\n",
    "Decide which one you prefer.\n",
    "\n",
    "Merge the corresponding branch into main."
   ]
  },
  {
   "cell_type": "code",
   "execution_count": null,
   "id": "accepted-modification",
   "metadata": {},
   "outputs": [],
   "source": [
    "# merge your preferred evening activity into main\n"
   ]
  },
  {
   "cell_type": "code",
   "execution_count": null,
   "id": "measured-corner",
   "metadata": {},
   "outputs": [],
   "source": [
    "# delete merged branch\n"
   ]
  },
  {
   "cell_type": "markdown",
   "id": "solid-monte",
   "metadata": {},
   "source": [
    "There is one unused branch left in our repository.\n",
    "We want to keep the repository clean and nice. So please delete the unmerged branch as well.\n",
    "\n",
    "**Remark:** Since we did not merge the remaining branch, a different option is needed to *git branch*"
   ]
  },
  {
   "cell_type": "code",
   "execution_count": null,
   "id": "flush-alliance",
   "metadata": {},
   "outputs": [],
   "source": [
    "# delete unused branch\n"
   ]
  },
  {
   "cell_type": "markdown",
   "id": "quarterly-homework",
   "metadata": {},
   "source": [
    "**Congrats** \n",
    "\n",
    "You already know the most essential Git commands for the local use of Git.\n",
    "\n",
    "Further exercises will focus more on typical workflows with remote servers like GitHub or Gitlab."
   ]
  }
 ],
 "metadata": {
  "kernelspec": {
   "display_name": "Bash",
   "language": "bash",
   "name": "bash"
  },
  "language_info": {
   "codemirror_mode": "shell",
   "file_extension": ".sh",
   "mimetype": "text/x-sh",
   "name": "bash"
  }
 },
 "nbformat": 4,
 "nbformat_minor": 5
}
