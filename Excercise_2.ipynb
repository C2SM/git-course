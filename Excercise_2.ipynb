{
 "cells": [
  {
   "cell_type": "markdown",
   "id": "informational-broadcasting",
   "metadata": {},
   "source": [
    "## Excercise 2\n",
    "\n",
    "## Goals\n",
    "   * Learn how to work with branches and switch between them using git checkout\n",
    "   * Use git checkout to get file-versions along their Git-history"
   ]
  },
  {
   "cell_type": "code",
   "execution_count": null,
   "id": "therapeutic-enough",
   "metadata": {},
   "outputs": [],
   "source": [
    "# execute this code at the very beginning\n",
    "source helpers.sh"
   ]
  },
  {
   "cell_type": "markdown",
   "id": "postal-cooper",
   "metadata": {},
   "source": [
    "### Important Remark:\n",
    "**In case you mess up your notebook completely,  \n",
    "execute** ***reset*** **below this cell, it will restore a clean environment!**"
   ]
  },
  {
   "cell_type": "code",
   "execution_count": null,
   "id": "cheap-arcade",
   "metadata": {},
   "outputs": [],
   "source": [
    "## only execute in case of (serious) trouble ##\n",
    "## it will delete your entire work-directory ##\n",
    "reset"
   ]
  },
  {
   "cell_type": "code",
   "execution_count": null,
   "id": "capable-insert",
   "metadata": {},
   "outputs": [],
   "source": [
    "# this line will setup a simple Git-repository for you\n",
    "init_simple_repo"
   ]
  },
  {
   "cell_type": "markdown",
   "id": "working-jimmy",
   "metadata": {},
   "source": [
    "### Learn how to work with branches and switch between them using git checkout\n",
    "In the output above we see two flyers:\n",
    "   * flyer_A\n",
    "   * flyer_B\n",
    "   \n",
    "We now want to put more information for our guests into the flyers.\n",
    "To keep everything in order we do this in two different Git-branches\n",
    "one each for flyer_A and flyer_B. \n",
    "\n",
    "**So lets start!**"
   ]
  },
  {
   "cell_type": "code",
   "execution_count": 1,
   "id": "complex-employment",
   "metadata": {},
   "outputs": [],
   "source": [
    "# create a new branch for flyer_A\n",
    "# use \"git checkout -b meaningful_branch_name\" to create a new branch\n",
    "\n"
   ]
  },
  {
   "cell_type": "markdown",
   "id": "differential-giant",
   "metadata": {},
   "source": [
    "From now on, we do all modifications of the flyers directly via Jupyter Notebooks.\n",
    "   * Click on *File* -> *Open* in the headers section of the notebook\n",
    "   * Go to folder *work* and enter *party_planning*\n",
    "   * Open *flyer_A*\n",
    "   * Add more information to your flyer, i.e. music, dresscode, etc.\n",
    "   \n",
    "**Do no forget to save your modifications before coming back!**\n",
    "\n",
    "After saving, we run *git status* to see if git tracked our changes."
   ]
  },
  {
   "cell_type": "code",
   "execution_count": null,
   "id": "ordinary-arcade",
   "metadata": {},
   "outputs": [],
   "source": [
    "# see if git tracked our changes\n",
    "\n"
   ]
  },
  {
   "cell_type": "markdown",
   "id": "coral-pilot",
   "metadata": {},
   "source": [
    "The output should looks as follows:\n",
    "```\n",
    "On branch party_A\n",
    "Changes not staged for commit:\n",
    "  (use \"git add <file>...\" to update what will be committed)\n",
    "  (use \"git restore <file>...\" to discard changes in working directory)\n",
    "\tmodified:   flyer_A\n",
    "\n",
    "no changes added to commit (use \"git add\" and/or \"git commit -a\")\n",
    "```\n",
    "\n",
    "Do a commit with these changes..."
   ]
  },
  {
   "cell_type": "code",
   "execution_count": 2,
   "id": "italian-legislation",
   "metadata": {},
   "outputs": [],
   "source": [
    "# add flyer_A and commit it\n"
   ]
  },
  {
   "cell_type": "markdown",
   "id": "usual-freeze",
   "metadata": {},
   "source": [
    "For the planning of the other party we want to use another Git branch. To not loose track of all the different branches, Git provides the   \n",
    "*git branch -a*  \n",
    "to see all branches of a repository.\n",
    "The * indicates our current branch."
   ]
  },
  {
   "cell_type": "code",
   "execution_count": 3,
   "id": "loved-ecology",
   "metadata": {},
   "outputs": [],
   "source": [
    "# see all branches of our Git repository\n"
   ]
  },
  {
   "cell_type": "markdown",
   "id": "least-conservation",
   "metadata": {},
   "source": [
    "We can switch easily between these branches using the *git checkout* function.\n",
    "Don't worry -> Git will keep all your work done in this branch."
   ]
  },
  {
   "cell_type": "code",
   "execution_count": 4,
   "id": "municipal-architect",
   "metadata": {},
   "outputs": [],
   "source": [
    "# go back to branch master using \"git checkout master\"\n",
    "\n"
   ]
  },
  {
   "cell_type": "markdown",
   "id": "stainless-islam",
   "metadata": {},
   "source": [
    "Create a new branch for flyer_B and extend the flyer_B in that branch similar as already done for flyer_A"
   ]
  },
  {
   "cell_type": "code",
   "execution_count": 5,
   "id": "angry-falls",
   "metadata": {},
   "outputs": [],
   "source": [
    "# create a new branch and edit flyer_B\n"
   ]
  },
  {
   "cell_type": "code",
   "execution_count": 6,
   "id": "removable-prayer",
   "metadata": {},
   "outputs": [],
   "source": [
    "# add and commit your changes\n"
   ]
  },
  {
   "cell_type": "code",
   "execution_count": 7,
   "id": "connected-joyce",
   "metadata": {},
   "outputs": [],
   "source": [
    "# see again all branches of our Gir repository\n",
    "\n"
   ]
  },
  {
   "cell_type": "markdown",
   "id": "recent-security",
   "metadata": {},
   "source": [
    "The output should look similar to:\n",
    "\n",
    "```\n",
    "  master\n",
    "  party_A\n",
    "* party_B\n",
    "```\n",
    "\n",
    "Or git repository now contains:\n",
    "  * branch *party_A* with modifications of flyer_A\n",
    "  * branch *party_B* with modifications of flyer_B\n",
    "  * branch *master* with the initial version of flyer_A and flyer_B\n",
    "  \n",
    "With git checkout it is so easy to jump between these branches and modify our flyers further.\n"
   ]
  }
 ],
 "metadata": {
  "kernelspec": {
   "display_name": "Bash",
   "language": "bash",
   "name": "bash"
  },
  "language_info": {
   "codemirror_mode": "shell",
   "file_extension": ".sh",
   "mimetype": "text/x-sh",
   "name": "bash"
  }
 },
 "nbformat": 4,
 "nbformat_minor": 5
}
