{
 "cells": [
  {
   "cell_type": "markdown",
   "id": "pressing-building",
   "metadata": {},
   "source": [
    "## Exercise 3\n",
    "\n",
    "## Goals\n",
    "   * Checkout files at some point in the Git history\n",
    "   * Merge two branches (without merge-conflicts), delete unused branches"
   ]
  },
  {
   "cell_type": "markdown",
   "id": "domestic-passion",
   "metadata": {},
   "source": [
    "### Checkout files at some point in the Git history"
   ]
  },
  {
   "cell_type": "code",
   "execution_count": null,
   "id": "interesting-bridal",
   "metadata": {},
   "outputs": [],
   "source": [
    "# execute this code at the very beginning\n",
    "source helpers.sh"
   ]
  },
  {
   "cell_type": "code",
   "execution_count": null,
   "id": "fantastic-sessions",
   "metadata": {},
   "outputs": [],
   "source": [
    "## only execute in case of (serious) trouble ##\n",
    "## it will delete your entire work-directory ##\n",
    "reset"
   ]
  },
  {
   "cell_type": "code",
   "execution_count": null,
   "id": "limited-meaning",
   "metadata": {
    "scrolled": true
   },
   "outputs": [],
   "source": [
    "# this line will setup a simple Git-repository for you\n",
    "init_broken_repo"
   ]
  },
  {
   "cell_type": "markdown",
   "id": "judicial-trouble",
   "metadata": {},
   "source": [
    "To see the flyers text, follow the instructions below:\n",
    "   * Click on *File* -> *Open* in the headers section of the notebook\n",
    "   * Go to folder *work* and enter *party_planning*\n",
    "   * Open *flyer_A* and *flyer_B*\n",
    "   \n",
    "As you can see, the music at both of our parties is *Classical Music*.\n",
    "\n",
    "Initially we planned to play *Metal Music* on both of our parties (see output above),  \n",
    "but had to cancel it because of our neighbours.\n",
    "\n",
    "Our neighbours were loud too last night, so we decide to play *Metal Music*.\n",
    "To not do the work twice, we want to reuse the flyers we designed in the first place.\n",
    "\n",
    "We can use *git checkout* to get any version of a file along its Git history.\n",
    "\n",
    "Simply execute *git checkout speficic_commit_hash*.\n",
    "\n",
    "Let's try it out for flyer_A first!\n"
   ]
  },
  {
   "cell_type": "code",
   "execution_count": null,
   "id": "acceptable-hungarian",
   "metadata": {},
   "outputs": [],
   "source": [
    "# checkout the version of flyer_A at commit: Metal Music added\n",
    "# \"git checkout commit_hash file_to_checkout\"\n"
   ]
  },
  {
   "cell_type": "markdown",
   "id": "middle-rider",
   "metadata": {},
   "source": [
    "Refresh the jupyter notebook page showing flyer_A and have a look at it.\n",
    "You see, we now play Heavy Metal again.\n",
    "\n",
    "Do the same for flyer_B as well."
   ]
  },
  {
   "cell_type": "code",
   "execution_count": null,
   "id": "large-catalyst",
   "metadata": {},
   "outputs": [],
   "source": [
    "# checkout flyer_B at commit Metal Music added\n"
   ]
  },
  {
   "cell_type": "code",
   "execution_count": null,
   "id": "conservative-reading",
   "metadata": {},
   "outputs": [],
   "source": [
    "# check if git tracked our changes\n",
    "\n",
    "# commit our updated flyers (the git add was done automatically as part of git checkout)\n"
   ]
  },
  {
   "cell_type": "code",
   "execution_count": null,
   "id": "raising-phase",
   "metadata": {},
   "outputs": [],
   "source": [
    "# git log to see the Git-history\n"
   ]
  },
  {
   "cell_type": "markdown",
   "id": "arctic-watershed",
   "metadata": {},
   "source": [
    "Every *commit hash* is unique, so you can checkout files back in time **and** across different branches.\n",
    "\n",
    "All of a sudden we decide to not play music at party A. Therefore\n",
    "checkout flyer_B at commit: add happy-hour"
   ]
  },
  {
   "cell_type": "code",
   "execution_count": null,
   "id": "optical-milton",
   "metadata": {},
   "outputs": [],
   "source": [
    "# checkout flyer_B at right commit\n",
    "\n",
    "# commit flyer_B"
   ]
  },
  {
   "cell_type": "code",
   "execution_count": null,
   "id": "latter-video",
   "metadata": {},
   "outputs": [],
   "source": [
    "# execute git log --oneline for short summary\n"
   ]
  },
  {
   "cell_type": "markdown",
   "id": "entertaining-dominican",
   "metadata": {},
   "source": [
    "Your output should look similar to:\n",
    "```\n",
    "ba7fe4c (HEAD -> master) no music at party B\n",
    "a4a4680 restore Metal Music\n",
    "d0f3bb8 Classical Music added\n",
    "7ac8e02 Metal Music added\n",
    "f44e084 add happy-hour\n",
    "8cc15a0 add opening time\n",
    "973be54 add flyer_B\n",
    "31793c8 add flyer_A\n",
    "```\n"
   ]
  },
  {
   "cell_type": "markdown",
   "id": "sweet-female",
   "metadata": {},
   "source": [
    "### Merge two branches (without merge-conflicts)\n",
    "In this part of the excercise we continue writing on our *flyer_A*.\n",
    "There are two sections in flyer_A to modify in a seperate branch:\n",
    "   * dresscode\n",
    "   * VIP-guests"
   ]
  },
  {
   "cell_type": "code",
   "execution_count": null,
   "id": "comparative-means",
   "metadata": {},
   "outputs": [],
   "source": [
    "# checkout a new branch for the dresscode\n"
   ]
  },
  {
   "cell_type": "markdown",
   "id": "endless-craft",
   "metadata": {},
   "source": [
    "To edit the flyers text, follow the instructions below:\n",
    "   * Click on *File* -> *Open* in the headers section of the notebook\n",
    "   * Go to folder *work* and enter *party_planning*\n",
    "   * Open *flyer_A*\n",
    "   * Edit text\n",
    "   \n",
    "**Do not forget to save flyer_A before coming back here**"
   ]
  },
  {
   "cell_type": "code",
   "execution_count": null,
   "id": "healthy-certification",
   "metadata": {},
   "outputs": [],
   "source": [
    "# make commit\n"
   ]
  },
  {
   "cell_type": "code",
   "execution_count": null,
   "id": "short-church",
   "metadata": {},
   "outputs": [],
   "source": [
    "# go back to branch master using git checkout\n",
    "\n"
   ]
  },
  {
   "cell_type": "code",
   "execution_count": null,
   "id": "ranging-california",
   "metadata": {},
   "outputs": [],
   "source": [
    "# checkout a new branch for the VIP-guests\n"
   ]
  },
  {
   "cell_type": "markdown",
   "id": "behavioral-gates",
   "metadata": {},
   "source": [
    "**To edit the flyers, follow the instructions above!**"
   ]
  },
  {
   "cell_type": "code",
   "execution_count": null,
   "id": "dependent-airfare",
   "metadata": {},
   "outputs": [],
   "source": [
    "# make commit\n"
   ]
  },
  {
   "cell_type": "code",
   "execution_count": null,
   "id": "anonymous-spotlight",
   "metadata": {},
   "outputs": [],
   "source": [
    "# go back to branch master\n"
   ]
  },
  {
   "cell_type": "markdown",
   "id": "dirty-florence",
   "metadata": {},
   "source": [
    "*git branch -a* should output something like that:\n",
    "```\n",
    "  VIP\n",
    "  dresscode\n",
    "* master\n",
    "```"
   ]
  },
  {
   "cell_type": "markdown",
   "id": "coupled-clark",
   "metadata": {},
   "source": [
    "Let's put the pieces of the flyer together. For that we use the *git merge* functionality.  \n",
    "It allows us to merge files with different text from different branches.\n",
    "\n",
    "\n",
    "To merge all modification from branch *VIP* into branch *master* we type:\n",
    "\n",
    "*git merge VIP*"
   ]
  },
  {
   "cell_type": "code",
   "execution_count": null,
   "id": "hourly-removal",
   "metadata": {},
   "outputs": [],
   "source": [
    "# merge VIP into master\n"
   ]
  },
  {
   "cell_type": "code",
   "execution_count": null,
   "id": "crude-lexington",
   "metadata": {},
   "outputs": [],
   "source": [
    "# commit your merge (git add is automatically done by git merge)\n"
   ]
  },
  {
   "cell_type": "code",
   "execution_count": null,
   "id": "antique-depth",
   "metadata": {},
   "outputs": [],
   "source": [
    "# display content of flyer_A usin \"cat\"\n"
   ]
  },
  {
   "cell_type": "markdown",
   "id": "angry-associate",
   "metadata": {},
   "source": [
    "**As you see, we succesfully took over our changes from branch VIP**\n",
    "\n",
    "Let's do the same, but for the modifications in branch *dresscode*"
   ]
  },
  {
   "cell_type": "code",
   "execution_count": null,
   "id": "eight-belfast",
   "metadata": {},
   "outputs": [],
   "source": [
    "# merge dresscode into master\n"
   ]
  },
  {
   "cell_type": "code",
   "execution_count": null,
   "id": "rubber-society",
   "metadata": {},
   "outputs": [],
   "source": [
    "# commit your merge (git add is automatically done by git merge)\n"
   ]
  },
  {
   "cell_type": "code",
   "execution_count": null,
   "id": "devoted-evanescence",
   "metadata": {},
   "outputs": [],
   "source": [
    "# display content of flyer_A usin \"cat\"\n"
   ]
  },
  {
   "cell_type": "markdown",
   "id": "hindu-penalty",
   "metadata": {},
   "source": [
    "Your git log looks the following:\n",
    "```\n",
    "82414b3 (HEAD -> master) merge VIP\n",
    "aa563f9 (dresscode) add dresscode\n",
    "8d56ebc (VIP) add VIP\n",
    "a74572e Classical Music added\n",
    "56fab47 Metal Music added\n",
    "f6ecd48 add happy-hour\n",
    "51448ea add opening time\n",
    "a39a076 add flyer_B\n",
    "a0ffdf8 add flyer_A\n",
    "```"
   ]
  },
  {
   "cell_type": "markdown",
   "id": "challenging-nickel",
   "metadata": {},
   "source": [
    "After merging it is good practice to delete merged branches.  \n",
    "\n",
    "The command *git branch -d branch_to_delete* can do this."
   ]
  },
  {
   "cell_type": "code",
   "execution_count": null,
   "id": "outside-yahoo",
   "metadata": {},
   "outputs": [],
   "source": [
    "# delete branch VIP\n"
   ]
  },
  {
   "cell_type": "code",
   "execution_count": null,
   "id": "solar-labor",
   "metadata": {},
   "outputs": [],
   "source": [
    "# delete branch dresscode\n"
   ]
  },
  {
   "cell_type": "markdown",
   "id": "fitting-fence",
   "metadata": {},
   "source": [
    "**Congrats, your Git-skill are getting better and better!**"
   ]
  }
 ],
 "metadata": {
  "kernelspec": {
   "display_name": "Bash",
   "language": "bash",
   "name": "bash"
  },
  "language_info": {
   "codemirror_mode": "shell",
   "file_extension": ".sh",
   "mimetype": "text/x-sh",
   "name": "bash"
  }
 },
 "nbformat": 4,
 "nbformat_minor": 5
}
