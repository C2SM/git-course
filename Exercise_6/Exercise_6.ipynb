{
 "cells": [
  {
   "cell_type": "markdown",
   "id": "bearing-impact",
   "metadata": {},
   "source": [
    "# Exercise 6\n",
    "\n",
    "# Goal\n",
    "* Deal with merge conflicts\n",
    "\n",
    "_**Reminder:** all text enclosed with `<>` denotes a placeholder to be replaced by a specific string appropriate in your context._\n",
    "\n",
    "_**Reminder:** What we refer to as the **main** branch may be called **master** branch depending on your version of Git._\n",
    "\n",
    "### Initialization"
   ]
  },
  {
   "cell_type": "code",
   "execution_count": null,
   "id": "infrared-dayton",
   "metadata": {},
   "outputs": [],
   "source": [
    "# check current directory with \"pwd\"\n",
    "pwd\n",
    "# go to folder of this exercise using \"cd\"\n"
   ]
  },
  {
   "cell_type": "code",
   "execution_count": null,
   "id": "specialized-edition",
   "metadata": {},
   "outputs": [],
   "source": [
    "# execute this code at the very beginning to get access to the helper functions\n",
    "source ../helpers.sh\n",
    "init_exercise"
   ]
  },
  {
   "cell_type": "markdown",
   "id": "atomic-chair",
   "metadata": {},
   "source": [
    "***\n",
    "### Optional: clear notebook and restart\n",
    "**In case you mess up your notebook completely,  \n",
    "execute** ***reset*** **in the following cell. This will restore a clean environment!**\n"
   ]
  },
  {
   "cell_type": "code",
   "execution_count": null,
   "id": "educational-capture",
   "metadata": {},
   "outputs": [],
   "source": [
    "## only execute in case of (serious) trouble ##\n",
    "## it will delete your entire work-directory ##\n",
    "reset"
   ]
  },
  {
   "cell_type": "markdown",
   "id": "returning-reality",
   "metadata": {},
   "source": [
    "***\n",
    "## Exercise\n",
    "\n",
    "In this exercise we are going to use the same simple repository that we used in Exercise 2. Let's initialize it with our helper function.   \n"
   ]
  },
  {
   "cell_type": "code",
   "execution_count": null,
   "id": "excellent-anniversary",
   "metadata": {},
   "outputs": [],
   "source": [
    "# this line will setup a simple Git-repository\n",
    "init_repo_remote"
   ]
  },
  {
   "cell_type": "markdown",
   "id": "3a32a9d8",
   "metadata": {},
   "source": [
    "### Make changes in the main branch and commit them\n",
    "Remember to do all modifications of the schedules directly via Jupyter Notebooks:\n",
    "   * Go to folder ~*Exercise_6/work/conference_planning*\n",
    "   * Open *schedule_day1*\n",
    "   * Add more information to your schedule, i.e. talks, workshops, etc."
   ]
  },
  {
   "cell_type": "code",
   "execution_count": null,
   "id": "765eca4c",
   "metadata": {},
   "outputs": [],
   "source": [
    "# Change the workshop to a poster session and commit\n"
   ]
  },
  {
   "cell_type": "markdown",
   "id": "unusual-perfume",
   "metadata": {},
   "source": [
    "### Add a remote repository\n",
    "\n",
    "Let's add a remote repository to our local repository.  \n",
    "\n",
    "The setup script has already created one that you can use at: \n",
    "\n",
    "**../conference_planning_remote**\n",
    "\n",
    "Use the line above as *remote_path* to the remote repository."
   ]
  },
  {
   "cell_type": "code",
   "execution_count": null,
   "id": "discrete-affiliation",
   "metadata": {},
   "outputs": [],
   "source": [
    "# use \"git remote add <some_remote_name> <remote_path>\" to add the remote \n"
   ]
  },
  {
   "cell_type": "code",
   "execution_count": null,
   "id": "complicated-fifth",
   "metadata": {},
   "outputs": [],
   "source": [
    "# Get information from remote branch with \"git fetch <my_remote>\n",
    "\n",
    "# Check which branches are available\n"
   ]
  },
  {
   "cell_type": "code",
   "execution_count": null,
   "id": "9f3a660d",
   "metadata": {},
   "outputs": [],
   "source": [
    "# Switch to updated_schedules\n"
   ]
  },
  {
   "cell_type": "code",
   "execution_count": null,
   "id": "limiting-snowboard",
   "metadata": {},
   "outputs": [],
   "source": [
    "# Change workshop to talk and commit\n"
   ]
  },
  {
   "cell_type": "markdown",
   "id": "ef95def7",
   "metadata": {},
   "source": [
    "It is decided that the schedule will look like the one on the updated_schedules branch. Therfore, we want to merge this branch into the main branch."
   ]
  },
  {
   "cell_type": "code",
   "execution_count": null,
   "id": "8832fdb5",
   "metadata": {
    "scrolled": true
   },
   "outputs": [],
   "source": [
    "# Go to main branch and merge the updated_schedules branch\n",
    "# make sure to always add a commit message when merging with -m <my commit message>\n"
   ]
  },
  {
   "cell_type": "markdown",
   "id": "automatic-underground",
   "metadata": {},
   "source": [
    "If you've done everything \"right\", something has gone \"wrong\" and the output should look like the following:\n",
    "```\n",
    "CONFLICT (content): Merge conflict in schedule_day1\n",
    "Automatic merge failed; fix conflicts and then commit the result.\n",
    "```\n",
    "\n",
    "We apparently run into a merge conflict. This happened because we did changes on the main branch and the updated_schedules branch at the same part of the file and Git doesn't know which changes it should take. Let's see how to solve this. \n",
    "\n",
    "Have a look into the file \"schedule_day1\". You will see something like this:\n",
    "``` \n",
    "<<<<<<< HEAD\n",
    "13:30-15:00: Poster session\n",
    "=======\n",
    "13:30-15:00: Talk professor C.\n",
    "<<<<<<< updated_schedules \n",
    "```\n",
    "\n",
    "The upper line is the HEAD, referring to the branch you are currently on (here _main_), and the second line refers to the branch you wanted to merge (here _updated_schedules_).\n",
    "\n",
    "There are different ways to solve a merge conflict\n",
    "\n",
    "1) If you are afraid that everything is messed up and you don't know what to do, just run ```git merge --abort``` and everything is set back to what it was before you were trying to merge.\n",
    "\n",
    "2) You can adapt the file directly and delete the lines, which were added by the merge conflict except the lines you want to keep. Now the merge conflict is solved and you can add schedule_day1 and finally make a commit of the merge.\n",
    "\n",
    "3) If you know, you want to just use the file on the HEAD branch (_ours_) or on the merging branch (_theirs_), you can select the preferred version with ```git restore schedule_day1 --ours``` or ```git restore schedule_day1 --theirs``` respectively. The restored file needs to be added before the final merge is being committed.\n",
    "\n",
    "Let's try all of the three versions!"
   ]
  },
  {
   "cell_type": "code",
   "execution_count": null,
   "id": "f07c45df",
   "metadata": {},
   "outputs": [],
   "source": [
    "# Abort the merge commit and check if the file is set back to its previous version\n"
   ]
  },
  {
   "cell_type": "code",
   "execution_count": null,
   "id": "3118e833",
   "metadata": {},
   "outputs": [],
   "source": [
    "# Merge again\n"
   ]
  },
  {
   "cell_type": "markdown",
   "id": "a860a033",
   "metadata": {},
   "source": [
    "Now go to the file and select the solution of the main branch"
   ]
  },
  {
   "cell_type": "code",
   "execution_count": null,
   "id": "5cc018dd",
   "metadata": {},
   "outputs": [],
   "source": [
    "# Commit the merge after doing your changes (add schedule_day1 first)\n"
   ]
  },
  {
   "cell_type": "markdown",
   "id": "3b65883f",
   "metadata": {},
   "source": [
    "To create a new merge conflict adapt the schedule on the main branch on the same line as on the updated schedule branch and commit the changes to the branches respectively."
   ]
  },
  {
   "cell_type": "code",
   "execution_count": null,
   "id": "32de4086",
   "metadata": {},
   "outputs": [],
   "source": [
    "# Make a change and commit on the main branch\n"
   ]
  },
  {
   "cell_type": "code",
   "execution_count": null,
   "id": "761999ea",
   "metadata": {},
   "outputs": [],
   "source": [
    "# Switch to the updated_schedules branch\n"
   ]
  },
  {
   "cell_type": "code",
   "execution_count": null,
   "id": "b1352ccc",
   "metadata": {},
   "outputs": [],
   "source": [
    "# Make a change at the same line and commit\n"
   ]
  },
  {
   "cell_type": "code",
   "execution_count": null,
   "id": "20afb074",
   "metadata": {},
   "outputs": [],
   "source": [
    "# Go back to main branch and try to merge the updated_schedules branch\n"
   ]
  },
  {
   "cell_type": "markdown",
   "id": "58fe9568",
   "metadata": {},
   "source": [
    "Now try to solve the merge conflict with the third solution."
   ]
  },
  {
   "cell_type": "code",
   "execution_count": null,
   "id": "cb2c271a",
   "metadata": {},
   "outputs": [],
   "source": [
    "# Restore the version of your favorite branch\n"
   ]
  },
  {
   "cell_type": "code",
   "execution_count": null,
   "id": "e1a4bcd9",
   "metadata": {},
   "outputs": [],
   "source": [
    "# Commit the merge with your favorite solution (don't forget to add the solution first)\n"
   ]
  },
  {
   "cell_type": "markdown",
   "id": "20bc5bca",
   "metadata": {},
   "source": [
    "We just realized that we forgot an introduction talk to the conference. Switch to the updated_schedules branch and change the first event to \"Introduction\" in schedule_day1 and commit your changes."
   ]
  },
  {
   "cell_type": "code",
   "execution_count": null,
   "id": "81486f4d",
   "metadata": {},
   "outputs": [],
   "source": [
    "# Switch to updated_schedules\n"
   ]
  },
  {
   "cell_type": "code",
   "execution_count": null,
   "id": "aef5c7ae",
   "metadata": {},
   "outputs": [],
   "source": [
    "# Change the first event to \"Introduction\" and commit your changes\"\n"
   ]
  },
  {
   "cell_type": "markdown",
   "id": "c5b0d1f6",
   "metadata": {},
   "source": [
    "What we didn't notice is that someone changed something on the remote branch while we were working on the file. When we now pull try to pull the remote, we will again run into a merge conflict."
   ]
  },
  {
   "cell_type": "code",
   "execution_count": null,
   "id": "66f617f5",
   "metadata": {},
   "outputs": [],
   "source": [
    "# This command will do that \"unnoticed\" change on the remote branch\n",
    "commit_to_remote"
   ]
  },
  {
   "cell_type": "code",
   "execution_count": null,
   "id": "0c247138",
   "metadata": {},
   "outputs": [],
   "source": [
    "# Make sure you are on the updated_schedules branch and try to pull with \"git pull\"\n"
   ]
  },
  {
   "cell_type": "markdown",
   "id": "c1eb1c0a",
   "metadata": {},
   "source": [
    "Unless you already set how to pull in your git config, you will get a message like this:\n",
    "```\n",
    "hint: You have divergent branches and need to specify how to reconcile them.\n",
    "hint: You can do so by running one of the following commands sometime before\n",
    "hint: your next pull:\n",
    "hint: \n",
    "hint:   git config pull.rebase false  # merge\n",
    "hint:   git config pull.rebase true   # rebase\n",
    "hint:   git config pull.ff only       # fast-forward only\n",
    "hint: \n",
    "hint: You can replace \"git config\" with \"git config --global\" to set a default\n",
    "hint: preference for all repositories. You can also pass --rebase, --no-rebase,\n",
    "hint: or --ff-only on the command line to override the configured default per\n",
    "hint: invocation.\n",
    "```\n",
    "Read the hint carefully and choose your preferred setting. If you choose the ```merge```setting, pull requests can be handled the same way as when merging a branch."
   ]
  },
  {
   "cell_type": "code",
   "execution_count": null,
   "id": "37e23497",
   "metadata": {},
   "outputs": [],
   "source": [
    "# Choose your preferred way of pulling\n"
   ]
  },
  {
   "cell_type": "code",
   "execution_count": null,
   "id": "137f6c9a",
   "metadata": {},
   "outputs": [],
   "source": [
    "# Now pull again\n"
   ]
  },
  {
   "cell_type": "markdown",
   "id": "9264d18d",
   "metadata": {},
   "source": [
    "Again, you ran into a merge conflict. Try to fix it with one of the three solutions."
   ]
  },
  {
   "cell_type": "code",
   "execution_count": null,
   "id": "d611139b",
   "metadata": {},
   "outputs": [],
   "source": []
  }
 ],
 "metadata": {
  "kernelspec": {
   "display_name": "Bash",
   "language": "bash",
   "name": "bash"
  },
  "language_info": {
   "codemirror_mode": "shell",
   "file_extension": ".sh",
   "mimetype": "text/x-sh",
   "name": "bash"
  }
 },
 "nbformat": 4,
 "nbformat_minor": 5
}
