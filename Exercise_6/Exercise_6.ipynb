{
 "cells": [
  {
   "cell_type": "markdown",
   "id": "bearing-impact",
   "metadata": {},
   "source": [
    "# Exercise 6\n",
    "\n",
    "# Goal\n",
    "* Deal with merge conflicts\n",
    "\n",
    "_**Reminder:** all text enclosed with `<>` denotes a placeholder to be replaced by a specific string appropriate in your context._\n",
    "\n",
    "_**Reminder:** What we refer to as the **main** branch may be called **master** branch depending on your version of Git._\n",
    "\n",
    "### Initialization"
   ]
  },
  {
   "cell_type": "code",
   "execution_count": null,
   "id": "infrared-dayton",
   "metadata": {},
   "outputs": [],
   "source": [
    "# check current directory with \"pwd\"\n",
    "pwd\n",
    "# go to folder of this exercise using \"cd\"\n"
   ]
  },
  {
   "cell_type": "code",
   "execution_count": null,
   "id": "specialized-edition",
   "metadata": {},
   "outputs": [],
   "source": [
    "# execute this code at the very beginning to get access to the helper functions\n",
    "source ../helpers.sh\n",
    "init_exercise"
   ]
  },
  {
   "cell_type": "markdown",
   "id": "atomic-chair",
   "metadata": {},
   "source": [
    "***\n",
    "### Optional: clear notebook and restart\n",
    "**In case you mess up your notebook completely,  \n",
    "execute** ***reset*** **in the following cell. This will restore a clean environment!**\n"
   ]
  },
  {
   "cell_type": "code",
   "execution_count": null,
   "id": "educational-capture",
   "metadata": {},
   "outputs": [],
   "source": [
    "## only execute in case of (serious) trouble ##\n",
    "## it will delete your entire work-directory ##\n",
    "reset"
   ]
  },
  {
   "cell_type": "markdown",
   "id": "returning-reality",
   "metadata": {},
   "source": [
    "***\n",
    "## Exercise\n",
    "\n",
    "In this exercise we are going to use the same simple repository that we used in Exercise 2. Let's initialize it with our helper function.   \n"
   ]
  },
  {
   "cell_type": "code",
   "execution_count": null,
   "id": "excellent-anniversary",
   "metadata": {},
   "outputs": [],
   "source": [
    "# this line will setup the simple Git-repository from Exercise 2 for you\n",
    "init_simple_repo_remote"
   ]
  },
  {
   "cell_type": "markdown",
   "id": "3a32a9d8",
   "metadata": {},
   "source": [
    "### Make changes in the main branch and commit them\n",
    "Remember to do all modifications of the schedules directly via Jupyter Notebooks:\n",
    "   * Go to folder *work* and enter *conference_planning*\n",
    "   * Open *schedule_day1*\n",
    "   * Add more information to your schedule, i.e. talks, workshops, etc."
   ]
  },
  {
   "cell_type": "code",
   "execution_count": null,
   "id": "765eca4c",
   "metadata": {},
   "outputs": [],
   "source": [
    "# Add events to the daily program in schedule_day1 and commit them\n"
   ]
  },
  {
   "cell_type": "markdown",
   "id": "unusual-perfume",
   "metadata": {},
   "source": [
    "### Add a remote repository\n",
    "\n",
    "Let's add a remote repository to our local repository.  \n",
    "\n",
    "The setup script has already created one that you can use at: \n",
    "\n",
    "**../conference_planning_remote**\n",
    "\n",
    "Use the line above as *remote_path* to the remote repository."
   ]
  },
  {
   "cell_type": "code",
   "execution_count": null,
   "id": "discrete-affiliation",
   "metadata": {},
   "outputs": [],
   "source": [
    "# use \"git remote add <some_remote_name> <remote_path>\" to add the remote \n"
   ]
  },
  {
   "cell_type": "code",
   "execution_count": null,
   "id": "complicated-fifth",
   "metadata": {},
   "outputs": [],
   "source": [
    "# Get information from remote branch with \"git fetch <my_remote>\n",
    "\n",
    "# Check which branches are available\n"
   ]
  },
  {
   "cell_type": "markdown",
   "id": "3c229872",
   "metadata": {},
   "source": [
    "Now make changes in the schedule_day1 file on updated_schedules branch:\n",
    " * Switch to updated_schedules\n",
    " * Add different events to the daily program than in the main branch\n",
    " * commit the changes"
   ]
  },
  {
   "cell_type": "code",
   "execution_count": null,
   "id": "9f3a660d",
   "metadata": {},
   "outputs": [],
   "source": [
    "# Switch to updated_schedules\n"
   ]
  },
  {
   "cell_type": "code",
   "execution_count": null,
   "id": "limiting-snowboard",
   "metadata": {},
   "outputs": [],
   "source": [
    "# Add events to schedule_day1 and commit these changes\n"
   ]
  },
  {
   "cell_type": "markdown",
   "id": "ef95def7",
   "metadata": {},
   "source": [
    "It is decided that the schedule will look like the one on the updated_schedules branch. Therfore, we want to merge this branch into the main branch."
   ]
  },
  {
   "cell_type": "code",
   "execution_count": null,
   "id": "8832fdb5",
   "metadata": {
    "scrolled": true
   },
   "outputs": [],
   "source": [
    "# Go to main branch and merge the updated_schedules branch\n",
    "# make sure to always add a commit message when merging with -m <my commit message>\n"
   ]
  },
  {
   "cell_type": "markdown",
   "id": "automatic-underground",
   "metadata": {},
   "source": [
    "If you've done everything \"right\", something has gone \"wrong\" now and the output should look like the following:\n",
    "```\n",
    "CONFLICT (content): Merge conflict in schedule_day1\n",
    "Automatic merge failed; fix conflicts and then commit the result.\n",
    "```\n",
    "\n",
    "We apparently run into a merge conflict. This happened because we did changes on the main branch and the updated_schedules branch at the same part of the file and Git doesn't know which changes it should take. Let's see how to solve this. \n",
    "\n",
    "Have a look into the file \"schedule_day1\". You will see something like this:\n",
    "``` \n",
    "<<<<<<< HEAD\n",
    "11:15-12:30: Talk professor A.\n",
    "=======\n",
    "11:15-12:30: Workshop\n",
    "<<<<<<< updated_schedules \n",
    "```\n",
    "\n",
    "The upper line is the HEAD, referring to the branch you are currently on (here _main_), and the second line refers to the branch you wanted to merge (here _updated_schedules_).\n",
    "\n",
    "There are different ways to solve a merge conflict\n",
    "\n",
    "1) If you are afraid that everything is messed up and you don't know what to do, just run ```git merge --abort``` and everything is set back to what it was before you were trying to merge.\n",
    "\n",
    "2) You can adapt the file directly and delete the lines, which were added by the merge conflict except the lines you want to keep. Now the merge conflict is solved and you can add schedule_day1 and finally make a commit of the merge.\n",
    "\n",
    "3) If you know, you want to just use the file on the HEAD branch (_ours_) or on the merging branch (_theirs_), you can select the preferred version with ```git restore schedule_day1 --ours``` or ```git restore schedule_day1 --theirs``` respectively. The restored file needs to be added before the final merge is being committed.\n",
    "\n",
    "Let's try all of the three versions!"
   ]
  },
  {
   "cell_type": "code",
   "execution_count": null,
   "id": "f07c45df",
   "metadata": {},
   "outputs": [],
   "source": [
    "# Abort the merge commit and check if the file is set back to its previous version\n"
   ]
  },
  {
   "cell_type": "code",
   "execution_count": null,
   "id": "3118e833",
   "metadata": {},
   "outputs": [],
   "source": [
    "# Merge again and select your preferred solution by editing the file directly\n"
   ]
  },
  {
   "cell_type": "code",
   "execution_count": null,
   "id": "5cc018dd",
   "metadata": {},
   "outputs": [],
   "source": [
    "# Now commit the merge\n"
   ]
  },
  {
   "cell_type": "markdown",
   "id": "3b65883f",
   "metadata": {},
   "source": [
    "You have chosen the wrong the solution and want to go back to the previous version of schedule_day1. Try to remember what we did in Exercise 3 and restore the previous version of schedule_day1.\n",
    "(Hint: ```git restore --source=<specific_commit_hash> <your_schedule>```)"
   ]
  },
  {
   "cell_type": "code",
   "execution_count": null,
   "id": "20afb074",
   "metadata": {},
   "outputs": [],
   "source": [
    "# Undo last commit\n"
   ]
  },
  {
   "cell_type": "markdown",
   "id": "58fe9568",
   "metadata": {},
   "source": [
    "Now try to merge updated_schedules again and try to solve the merge conflict with the third solution."
   ]
  },
  {
   "cell_type": "code",
   "execution_count": null,
   "id": "cb2c271a",
   "metadata": {},
   "outputs": [],
   "source": [
    "# Merge updated_schedules (don't forget the commit message)\n"
   ]
  },
  {
   "cell_type": "code",
   "execution_count": null,
   "id": "e1a4bcd9",
   "metadata": {},
   "outputs": [],
   "source": [
    "# Restore the version of the merging branch or the HEAD branch\n"
   ]
  },
  {
   "cell_type": "code",
   "execution_count": null,
   "id": "6fd992e1",
   "metadata": {},
   "outputs": [],
   "source": [
    "# Add schedule_day1 and commit the merge\n"
   ]
  },
  {
   "cell_type": "markdown",
   "id": "20bc5bca",
   "metadata": {},
   "source": [
    "We just realized that we forgot an introduction talk to the conference. Switch to the updated_schedules branch and change the first event to \"Introduction\" in schedule_day1 and commit your changes."
   ]
  },
  {
   "cell_type": "code",
   "execution_count": null,
   "id": "81486f4d",
   "metadata": {},
   "outputs": [],
   "source": [
    "# Switch to updated_schedules\n"
   ]
  },
  {
   "cell_type": "code",
   "execution_count": null,
   "id": "aef5c7ae",
   "metadata": {},
   "outputs": [],
   "source": [
    "# Change the first event to \"Introduction\" and commit your changes\"\n"
   ]
  },
  {
   "cell_type": "markdown",
   "id": "c5b0d1f6",
   "metadata": {},
   "source": [
    "What we didn't notice is that someone changed something on the remote branch while we were working on the file. When we now pull try to pull the remote, we will again run into a merge conflict."
   ]
  }
 ],
 "metadata": {
  "kernelspec": {
   "display_name": "Bash",
   "language": "bash",
   "name": "bash"
  },
  "language_info": {
   "codemirror_mode": "shell",
   "file_extension": ".sh",
   "mimetype": "text/x-sh",
   "name": "bash"
  }
 },
 "nbformat": 4,
 "nbformat_minor": 5
}
