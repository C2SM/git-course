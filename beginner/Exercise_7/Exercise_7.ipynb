{
 "cells": [
  {
   "cell_type": "markdown",
   "id": "normal-chicago",
   "metadata": {},
   "source": [
    "# Exercise 7\n",
    "\n",
    "# Goals\n",
    "* Access code from a Git web interface\n",
    "* Push code changes to a Git web interface\n",
    "* Examine the code repository on a Git web interface\n",
    "\n",
    "### Initialization"
   ]
  },
  {
   "cell_type": "code",
   "execution_count": null,
   "id": "alone-lunch",
   "metadata": {},
   "outputs": [],
   "source": [
    "# check current directory with \"pwd\"\n",
    "pwd\n",
    "# go to folder of this exercise using \"cd\"\n"
   ]
  },
  {
   "cell_type": "code",
   "execution_count": null,
   "id": "deluxe-transaction",
   "metadata": {},
   "outputs": [],
   "source": [
    "# execute this code at the very beginning to get access to the helper functions\n",
    "source ../helpers.sh\n",
    "init_exercise"
   ]
  },
  {
   "cell_type": "markdown",
   "id": "applied-wings",
   "metadata": {},
   "source": [
    "***\n",
    "### Optional: clear notebook and restart\n",
    "**In case you mess up your notebook completely,  \n",
    "execute** ***reset*** **in the following cell. This will restore a clean environment!**"
   ]
  },
  {
   "cell_type": "code",
   "execution_count": null,
   "id": "prompt-inspector",
   "metadata": {},
   "outputs": [],
   "source": [
    "## only execute in case of (serious) trouble ##\n",
    "## it will delete your entire work-directory ##\n",
    "reset"
   ]
  },
  {
   "cell_type": "markdown",
   "id": "4afe5a33",
   "metadata": {},
   "source": [
    "## Exercise\n",
    "\n",
    "In this exercise we are going to work with a repository we are hosting on the GitHub website.\n",
    "\n",
    "First, let's make a fork of the repository so that you can have your own copy of a C2SM repository to work with.  A fork is a complete copy of a repository into your own account, where you have full permission to make whatever changes you like to your forked repository. To make your fork, open another tab in your browser and navigate here: https://github.com/c2sm/git-example\n",
    "\n",
    "**Use the web interface to make a fork:**\n",
    "\n",
    "![Fork.png](../images/Fork.png)"
   ]
  },
  {
   "cell_type": "markdown",
   "id": "c92c7dc6",
   "metadata": {},
   "source": [
    "### Clone the fork\n",
    "\n",
    "GitHub indicates on the upper left that this repository is a forked one (left arrow).\n",
    "\n",
    "\n",
    "Next, copy your forked repository to your local workspace using the link (right arrow):\n",
    "\n",
    "![Forked_Repo_view.png](../images/Forked_Repo_view.png)"
   ]
  },
  {
   "cell_type": "code",
   "execution_count": 1,
   "id": "circular-truck",
   "metadata": {},
   "outputs": [],
   "source": [
    "# use \"git clone <path_to_repository>\" to download your forked repository\n"
   ]
  },
  {
   "cell_type": "code",
   "execution_count": null,
   "id": "exotic-child",
   "metadata": {},
   "outputs": [],
   "source": [
    "# use \"cd\" to enter the repository\n"
   ]
  },
  {
   "cell_type": "markdown",
   "id": "verified-source",
   "metadata": {},
   "source": [
    "### Examine the repository\n",
    "Let's examine the repository.  Does it have any remotes?  What branches are in it?  "
   ]
  },
  {
   "cell_type": "code",
   "execution_count": null,
   "id": "ceramic-music",
   "metadata": {},
   "outputs": [],
   "source": [
    "# use \"git remote -v\", \"git branch -a\", and \"git status\" to examine the repository\n"
   ]
  },
  {
   "cell_type": "markdown",
   "id": "academic-tucson",
   "metadata": {},
   "source": [
    "You should have seen that your local repository has a remote called \"origin\", which points to your fork on GitHub.  This is the default behavior when you use \"git clone\" to copy a repository.  \n",
    "\n",
    "### Add to local repository\n",
    "Next, let's make a new branch and add a commit to it.  "
   ]
  },
  {
   "cell_type": "code",
   "execution_count": null,
   "id": "textile-pension",
   "metadata": {},
   "outputs": [],
   "source": [
    "# use \"git switch -c <branch_name>\" to make a new branch\n"
   ]
  },
  {
   "cell_type": "markdown",
   "id": "overall-lemon",
   "metadata": {},
   "source": [
    "Make a change in your local repository.\n",
    "Remember to do all modifications of the schedules directly via Jupyter Notebooks.\n",
    "   * Go to folder *work* and enter *git-example*\n",
    "   * Open *schedule_day1.txt*\n",
    "   * Add more information to your schedule, i.e., workshops, talks, poster sessions, etc.\n",
    "   \n",
    "**Don't forget to save your modifications before coming back!**"
   ]
  },
  {
   "cell_type": "code",
   "execution_count": null,
   "id": "unlike-gardening",
   "metadata": {},
   "outputs": [],
   "source": [
    "# add and commit your changes\n"
   ]
  },
  {
   "cell_type": "markdown",
   "id": "95e8ca71",
   "metadata": {},
   "source": [
    "### Send local information to Github\n",
    "\n",
    "Now, let's send our new branch to our GitHub fork."
   ]
  },
  {
   "cell_type": "code",
   "execution_count": null,
   "id": "f32d8fad",
   "metadata": {},
   "outputs": [],
   "source": [
    "# find out current directory\n",
    "pwd"
   ]
  },
  {
   "cell_type": "markdown",
   "id": "278234da",
   "metadata": {},
   "source": [
    "Please open a terminal and go to the directory you get executing the cell above.\n",
    "\n",
    "![Open_Terminal.png](../images/Open_Terminal.png)\n"
   ]
  },
  {
   "cell_type": "markdown",
   "id": "a5c93d5d",
   "metadata": {},
   "source": [
    "### Create user token for https\n",
    "\n",
    "GitHub only allows authorized users to push to repositories.\n",
    "Therefore, we need to create a GitHub user token.\n",
    "\n",
    "Please follow the [description](https://docs.github.com/en/authentication/keeping-your-account-and-data-secure/creating-a-personal-access-token#creating-a-token) provided by GitHub.\n",
    "\n",
    "Once you have a token, you can enter it instead of your password when performing Git operations over HTTPS.\n",
    "\n",
    "**Please save the token at some place, GitHub displays it only once to you.**\n",
    "\n",
    "In our case we use the token to perform the `git push` command in the terminal you just opened:\n",
    "\n",
    "```\n",
    "git push origin <branch_name>\n",
    "Username: your_username\n",
    "Password: your_token\n",
    "```"
   ]
  },
  {
   "cell_type": "markdown",
   "id": "42a2eb3d",
   "metadata": {},
   "source": [
    "### Examine the Github repository\n",
    "\n",
    "Head back to Github and have a look at your forked repository.  \n",
    "\n",
    "Let's use the web interface to examine the repository.  Try the following tasks there:\n",
    "\n",
    "1. Find the list of commits and examine the files for a specific commit.  \n",
    "\n",
    "2. Modify a file and use the web interface to make a new commit on a new branch and automatically create a Pull Request.\n",
    "\n",
    "![Edit_file_PR.png](../images/Edit_file_PR.png)\n",
    "\n",
    "3. Find the Pull Request and have a look at it."
   ]
  },
  {
   "cell_type": "markdown",
   "id": "technological-yorkshire",
   "metadata": {},
   "source": [
    "### Update local repository using git fetch\n",
    "\n",
    "Now, let's get the commit we made on Github into our local repository.   "
   ]
  },
  {
   "cell_type": "code",
   "execution_count": null,
   "id": "amino-vacation",
   "metadata": {},
   "outputs": [],
   "source": [
    "# use \"git fetch origin\" to download the new commit from your fork\n"
   ]
  },
  {
   "cell_type": "code",
   "execution_count": null,
   "id": "federal-dublin",
   "metadata": {},
   "outputs": [],
   "source": [
    "# use \"git status\" to examine your repository\n"
   ]
  },
  {
   "cell_type": "markdown",
   "id": "unique-negative",
   "metadata": {},
   "source": [
    "Our new commit has been downloaded into a remote branch, but is not yet available in our local branch.  Let's use ```git merge``` to update our local branch.    "
   ]
  },
  {
   "cell_type": "code",
   "execution_count": null,
   "id": "charming-syndrome",
   "metadata": {},
   "outputs": [],
   "source": [
    "# use \"git merge <remote_name>/<branch_name> -m '<commit_message>'\" to sync up your local branch with the remote one \n"
   ]
  },
  {
   "cell_type": "markdown",
   "id": "starting-boston",
   "metadata": {},
   "source": [
    "### Update local repository using git pull\n",
    "\n",
    "Let's examine the difference between git fetch and git pull.  We just used git fetch to get a commit from our remote repository, and then we used git merge to include it in our local branch.  \n",
    "\n",
    "First, go back to the web interface and use it to make a new commit by editing a file and again creating a new branch.  \n",
    "\n",
    "Next, let's get that commit into our repository.  "
   ]
  },
  {
   "cell_type": "code",
   "execution_count": null,
   "id": "present-influence",
   "metadata": {},
   "outputs": [],
   "source": [
    "# use \"git pull origin\" to download the new commit from your fork\n"
   ]
  },
  {
   "cell_type": "markdown",
   "id": "alternative-motivation",
   "metadata": {},
   "source": [
    "Have a look at your local branch.  You should see that the commit you made has already been put into your local branch, because git pull does both a git fetch AND a git merge automatically.   "
   ]
  }
 ],
 "metadata": {
  "kernelspec": {
   "display_name": "Bash",
   "language": "bash",
   "name": "bash"
  },
  "language_info": {
   "codemirror_mode": "shell",
   "file_extension": ".sh",
   "mimetype": "text/x-sh",
   "name": "bash"
  }
 },
 "nbformat": 4,
 "nbformat_minor": 5
}
