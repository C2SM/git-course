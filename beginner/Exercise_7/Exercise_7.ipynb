{
 "cells": [
  {
   "cell_type": "markdown",
   "id": "normal-chicago",
   "metadata": {},
   "source": [
    "## Exercise 7\n",
    "\n",
    "## Objective\n",
    "* Access code from a Git web interface\n",
    "* Push code changes to a Git web interface\n",
    "* Examine the code repository on a Git web interface\n",
    "\n",
    "## Helper Functions\n",
    "The following helper functions in the file *helpers.sh* are written by C2SM and are **NOT** **part of Git**. They will set up simple repositories for you that have a short Git history, so that you have something to work with.\n",
    "\n",
    "For this exercise, we will use the following functions from this file:\n",
    "   * **init_exercise:** This will create the *beginners_git* directory in the parent directory of the *git-course* directory. It will also delete any old version of the *beginners_git* directory, so don't use the *beginners_git* directory to save any work.\n",
    "   * **reset:** This will delete the *beginners_git* directory and allows you a clean restart of the exercise in case you messed it up completely.\n",
    "\n",
    "## Remarks\n",
    "_**Reminder:** Any text enclosed in `<>` denotes a placeholder to be replaced with a specific string appropriate to your context, i.e. delete `<>` and replace it with the appropriate word._\n",
    "\n",
    "### Initialization"
   ]
  },
  {
   "cell_type": "code",
   "execution_count": null,
   "id": "alone-lunch",
   "metadata": {},
   "outputs": [],
   "source": [
    "# check current directory with \"pwd\"\n",
    "\n",
    "# in case you are in the wrong directory, navigate to Exercise_7 using \"cd\"\n"
   ]
  },
  {
   "cell_type": "markdown",
   "id": "7474b65f",
   "metadata": {},
   "source": [
    "**To initialize the exercise properly, run this code at the very beginning. Check the Helper Functions section above for more explanation.**"
   ]
  },
  {
   "cell_type": "code",
   "execution_count": null,
   "id": "deluxe-transaction",
   "metadata": {},
   "outputs": [],
   "source": [
    "# source the helpers.sh file to be able to use its functions\n",
    "source ../helpers.sh\n",
    "# init exercise\n",
    "init_exercise"
   ]
  },
  {
   "cell_type": "markdown",
   "id": "applied-wings",
   "metadata": {},
   "source": [
    "***\n",
    "### Optional: clear notebook and restart\n",
    "**In case you messed up your notebook completely, execute** ***reset*** **in the following cell. Check the Helper Functions section above for more explanation.**"
   ]
  },
  {
   "cell_type": "code",
   "execution_count": null,
   "id": "prompt-inspector",
   "metadata": {},
   "outputs": [],
   "source": [
    "## only execute in case of (serious) trouble ##\n",
    "## it will delete your entire beginners_git directory ##\n",
    "reset"
   ]
  },
  {
   "cell_type": "markdown",
   "id": "4afe5a33",
   "metadata": {},
   "source": [
    "## Exercise\n",
    "\n",
    "In this exercise, we will work with a repository hosted on the GitHub website.\n",
    "\n",
    "First, we'll create a fork of the repository so that you can have your own copy of a C2SM repository to work with.  A fork is a complete copy of a repository into your own account, where you have full permission to make any changes you want to your forked repository. To create your fork, open another tab in your browser and navigate here: https://github.com/c2sm/git-example\n",
    "\n",
    "**Use the web interface to make a fork:**\n",
    "\n",
    "![Fork.png](../images/Fork.png)"
   ]
  },
  {
   "cell_type": "markdown",
   "id": "c92c7dc6",
   "metadata": {},
   "source": [
    "### Clone the fork\n",
    "\n",
    "GitHub will indicate at the top left that this repository has been forked (left arrow).\n",
    "\n",
    "\n",
    "Now copy the forked repository to your local workspace using the link (right arrow, dropdown from `Code`). If you have a ssh-key on GitHub that connects your local Git to GitHub, use the SSH link to clone, otherwise use HTTPS.\n",
    "\n",
    "> **Note about SSH**: We strongly recommend that you create an ssh-key for GitHub if you plan to work with it in the future. It will make things much easier! For now, we provide a solution for you to work with HTTPS when going through the example, but it is more complicated.\n",
    "\n",
    "![Forked_Repo_view.png](../images/Forked_Repo_view.png)\n",
    "\n",
    "We don't want the repository in our _git-course_ repository. So make sure you are in the _beginners_git_ directory instead. Use the [Basic Unix Commands](../Unix_Commands.ipynb) we provided to navigate there in case you are in the wrong directory."
   ]
  },
  {
   "cell_type": "code",
   "execution_count": null,
   "id": "9cfec661",
   "metadata": {},
   "outputs": [],
   "source": [
    "# Navigate into beginners_git repo if not there\n"
   ]
  },
  {
   "cell_type": "code",
   "execution_count": null,
   "id": "circular-truck",
   "metadata": {},
   "outputs": [],
   "source": [
    "# use \"git clone <path_to_repository>\" to download your forked repository\n"
   ]
  },
  {
   "cell_type": "code",
   "execution_count": null,
   "id": "exotic-child",
   "metadata": {},
   "outputs": [],
   "source": [
    "# use \"cd\" to enter the repository\n"
   ]
  },
  {
   "cell_type": "markdown",
   "id": "verified-source",
   "metadata": {},
   "source": [
    "### Examine the repository\n",
    "Let's examine the repository.  Does it have any remotes?  What branches are in it?  "
   ]
  },
  {
   "cell_type": "code",
   "execution_count": null,
   "id": "ceramic-music",
   "metadata": {},
   "outputs": [],
   "source": [
    "# use \"git remote -v\", \"git branch -a\", and \"git status\" to examine the repository\n"
   ]
  },
  {
   "cell_type": "markdown",
   "id": "academic-tucson",
   "metadata": {},
   "source": [
    "You should have noticed that your local repository has a remote called \"origin\" pointing to your fork on GitHub.  This is the default behavior when you use `git clone` to copy a repository.\n",
    "\n",
    "### Add to local repository\n",
    "Next, let's create a new branch and add a commit to it."
   ]
  },
  {
   "cell_type": "code",
   "execution_count": null,
   "id": "textile-pension",
   "metadata": {},
   "outputs": [],
   "source": [
    "# use \"git switch -c <branch_name>\" to make a new branch\n"
   ]
  },
  {
   "cell_type": "markdown",
   "id": "overall-lemon",
   "metadata": {},
   "source": [
    "Make a change to your local repository.\n",
    "Remember to make all changes to the schedules directly in Jupyter Notebooks.\n",
    "   * Go to the *git-example* folder (It should be in the parent directory of the _git-course_)\n",
    "   * Open *schedule_day1.txt*\n",
    "   * Add more information to your schedule, i.e., workshops, talks, poster sessions, etc.\n",
    "   \n",
    "**Don't forget to save your changes before coming back!**"
   ]
  },
  {
   "cell_type": "code",
   "execution_count": null,
   "id": "unlike-gardening",
   "metadata": {},
   "outputs": [],
   "source": [
    "# add and commit your changes\n",
    "\n"
   ]
  },
  {
   "cell_type": "markdown",
   "id": "95e8ca71",
   "metadata": {},
   "source": [
    "### Send local information to GitHub\n",
    "\n",
    "Now, let's send our new branch to our GitHub fork."
   ]
  },
  {
   "cell_type": "code",
   "execution_count": null,
   "id": "f32d8fad",
   "metadata": {},
   "outputs": [],
   "source": [
    "# find out current directory\n"
   ]
  },
  {
   "cell_type": "markdown",
   "id": "278234da",
   "metadata": {},
   "source": [
    "Please open a terminal and go to the directory you get by executing the cell above.\n",
    "\n",
    "![Open_Terminal.png](../images/Open_Terminal.png)\n"
   ]
  },
  {
   "cell_type": "markdown",
   "id": "a5c93d5d",
   "metadata": {},
   "source": [
    "### Create user token for HTTPS\n",
    "\n",
    "GitHub only allows authorized users to push to repositories.\n",
    "Therefore, we need to create a GitHub user token.\n",
    "\n",
    "Please follow the description for [Creating a personal access token (classic)](https://docs.github.com/en/authentication/keeping-your-account-and-data-secure/creating-a-personal-access-token#creating-a-personal-access-token-classic) provided by GitHub.\n",
    "\n",
    "Once you have a token, you can enter it instead of your password when performing Git operations over HTTPS.\n",
    "\n",
    "**Please save the token somewhere, GitHub will only show it to you once.**\n",
    "\n",
    "In our case, we use the token to execute the `git push` command in the terminal you just opened. You may get a popup window saying something like _git-credential-osxkeychain wants to use your confidential information stored in “github.com” in your keychain_, click `Deny` and proceed to enter your GitHub username.\n",
    "\n",
    "```\n",
    "git push origin <branch_name>\n",
    "Username: your_username\n",
    "Password: your_token\n",
    "```\n",
    "\n",
    "\n",
    "> **Note about SSH**: With an SSH key, you don't need to create a user token but can push directly, as GitHub already has your information."
   ]
  },
  {
   "cell_type": "markdown",
   "id": "42a2eb3d",
   "metadata": {},
   "source": [
    "### Examine the GitHub repository\n",
    "\n",
    "Go back to GitHub and take a look at your forked repository.  \n",
    "\n",
    "Let's use the web interface to examine the repository. Try the following things there:\n",
    "\n",
    "1. Find the list of commits and examine the files for a specific commit.  \n",
    "\n",
    "2. Change a file and use the web interface to make a new commit to a new branch and automatically create a pull request.\n",
    "\n",
    "![Edit_file_PR.png](../images/Edit_file_PR.png)\n",
    "\n",
    "3. Find the pull request and take a look at it."
   ]
  },
  {
   "cell_type": "markdown",
   "id": "technological-yorkshire",
   "metadata": {},
   "source": [
    "### Update local repository using git fetch\n",
    "\n",
    "Now, let's get the commit we made on GitHub into our local repository.   "
   ]
  },
  {
   "cell_type": "code",
   "execution_count": null,
   "id": "amino-vacation",
   "metadata": {},
   "outputs": [],
   "source": [
    "# use \"git fetch origin\" to download the new commit from your fork\n"
   ]
  },
  {
   "cell_type": "code",
   "execution_count": null,
   "id": "federal-dublin",
   "metadata": {},
   "outputs": [],
   "source": [
    "# use \"git status\" to examine your repository\n"
   ]
  },
  {
   "cell_type": "markdown",
   "id": "unique-negative",
   "metadata": {},
   "source": [
    "Our new commit has been downloaded into a remote branch, but is not yet available in our local branch. Let's use ```git merge``` to update our local branch."
   ]
  },
  {
   "cell_type": "code",
   "execution_count": null,
   "id": "charming-syndrome",
   "metadata": {},
   "outputs": [],
   "source": [
    "# use \"git merge <remote_name>/<branch_name> -m '<commit_message>'\" to sync up your local branch with the remote one \n"
   ]
  },
  {
   "cell_type": "markdown",
   "id": "starting-boston",
   "metadata": {},
   "source": [
    "### Update local repository using git pull\n",
    "\n",
    "Let's examine the difference between `git fetch` and `git pull`. We just used `git fetch` to get a commit from our remote repository, and then we used `git merge` to merge it into our local branch.  \n",
    "\n",
    "First, go back to the web interface and use it to make a new commit by editing a file in the branch you created earlier.\n",
    "\n",
    "Next, let's merge that commit into our repository."
   ]
  },
  {
   "cell_type": "code",
   "execution_count": null,
   "id": "present-influence",
   "metadata": {},
   "outputs": [],
   "source": [
    "# use \"git pull origin\" to download the new commit from your fork\n"
   ]
  },
  {
   "cell_type": "markdown",
   "id": "alternative-motivation",
   "metadata": {},
   "source": [
    "Take a look at your local branch. You should see that the commit you made has already been merged into your local branch automatically, because `git pull` does both `git fetch` AND `git merge` automatically."
   ]
  }
 ],
 "metadata": {
  "kernelspec": {
   "display_name": "Bash",
   "language": "bash",
   "name": "bash"
  },
  "language_info": {
   "codemirror_mode": "shell",
   "file_extension": ".sh",
   "mimetype": "text/x-sh",
   "name": "bash"
  }
 },
 "nbformat": 4,
 "nbformat_minor": 5
}
