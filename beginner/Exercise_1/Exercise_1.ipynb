{
 "cells": [
  {
   "cell_type": "markdown",
   "id": "greatest-yugoslavia",
   "metadata": {},
   "source": [
    "## Exercise 1\n",
    "\n",
    "## Objective\n",
    "* Create a Git repository from scratch\n",
    "* Track changes to files using `git add`, `git status`, and `git commit`\n",
    "* Know the state of the Git repository using `git diff` and `git log`\n",
    "\n",
    "## Structure\n",
    "This exercise consists of short descriptions of specific Git commands, followed by a hands-on part where you will be able to execute the corresponding Git commands.\n",
    "\n",
    "## Helper Functions\n",
    "The following helper functions in the file *helpers.sh* are written by C2SM and are **NOT** **part of Git**. They will set up simple repositories for you that have a short Git history, so that you have something to work with.\n",
    "\n",
    "For this exercise, we will use the following functions from this file:\n",
    "   * **init_exercise:** This will create the *beginners_git* directory in the parent directory of the *git-course* directory. It will also delete any old version of the *beginners_git* directory, so don't use the *beginners_git* directory to save any work.\n",
    "   * **reset:** This will delete the *beginners_git* directory and allows you a clean restart of the exercise in case you messed it up completely.\n",
    "\n",
    "\n",
    "## Remarks   \n",
    "_**Note:** Any text enclosed in `<>` denotes a placeholder to be replaced with a specific string appropriate to your context, i.e. delete `<>` and replace it with the appropriate word._\n",
    "\n",
    "_**Note:** The exercises require you to use basic Unix commands. If you are not familiar with Unix systems, we have listed all the necessary commands in the file [Basic Unix Commands](../Unix_Commands.ipynb)._\n",
    "\n",
    "\n",
    "### Initialization\n",
    "\n",
    "**Start exercises in correct folder:**\n",
    "This exercise (and all the exercises that follow) assume that the shell is already in the folder where the exercise notebooks are located. For some reason, the notebook may not switch to the notebook folder by default. In this case, you will need to manually change the directory in order to complete the exercises.\n",
    "\n",
    "If the `pwd` command returns something like `/home/juckerj/git-course/beginner/Exercise_1`, everything is fine.\n",
    "\n",
    "If it returns something like `/home/juckerj`, change to the correct directory.\n"
   ]
  },
  {
   "cell_type": "code",
   "execution_count": null,
   "id": "aggressive-newcastle",
   "metadata": {},
   "outputs": [],
   "source": [
    "# check current directory with \"pwd\"\n",
    "\n",
    "# go to folder of this exercise using \"cd\"\n"
   ]
  },
  {
   "cell_type": "markdown",
   "id": "f603d8f2",
   "metadata": {},
   "source": [
    "**To initialize the exercise properly, run this code at the very beginning. Check the Helper Functions section above for more explanation.**"
   ]
  },
  {
   "cell_type": "code",
   "execution_count": null,
   "id": "integrated-popularity",
   "metadata": {},
   "outputs": [],
   "source": [
    "# source the helpers.sh file to be able to use its functions\n",
    "source ../helpers.sh\n",
    "# init exercise\n",
    "init_exercise"
   ]
  },
  {
   "cell_type": "markdown",
   "id": "handed-solomon",
   "metadata": {},
   "source": [
    "***\n",
    "### Optional: clear notebook and restart\n",
    "**In case you messed up your notebook completely, execute** ***reset*** **in the following cell. Check the Helper Functions section above for more explanation.**"
   ]
  },
  {
   "cell_type": "code",
   "execution_count": null,
   "id": "compressed-tooth",
   "metadata": {},
   "outputs": [],
   "source": [
    "## only execute in case of (serious) trouble ##\n",
    "## it will delete your entire beginners_git directory ##\n",
    "reset"
   ]
  },
  {
   "cell_type": "markdown",
   "id": "extreme-elements",
   "metadata": {},
   "source": [
    "***\n",
    "## Exercise"
   ]
  },
  {
   "cell_type": "markdown",
   "id": "defc889c",
   "metadata": {},
   "source": [
    "### Global Git configuration settings\n",
    "Before we start using Git, we should set some global configurations. This only needs to be done once, and will be saved for all your future sessions.\n",
    "\n",
    "First of all, we need to tell Git who we are.\n",
    "To do this, run the following lines with your credentials:\n",
    "```\n",
    "git config --global user.name \"<John Doe>\"\n",
    "git config --global user.email \"<my_name@some.domain>\"\n",
    "```\n",
    "**Note:** The email must be identical to the one that is used for your GitHub account."
   ]
  },
  {
   "cell_type": "code",
   "execution_count": null,
   "id": "b35065ff",
   "metadata": {},
   "outputs": [],
   "source": [
    "# tell Git who you are\n",
    "\n"
   ]
  },
  {
   "cell_type": "markdown",
   "id": "6852b073",
   "metadata": {},
   "source": [
    "At the end of this course, you will learn something about repository managers like GitHub. Recently, they changed their naming policy for the initial branch from *master* to *main*. So we want to tell Git to set our default branch name to *main* as well. \n",
    "\n",
    "**Note:** See the official Git documentation (https://git-scm.com/docs/git-init#Documentation/git-init.txt--bltbranch-namegt)."
   ]
  },
  {
   "cell_type": "code",
   "execution_count": null,
   "id": "narrow-clarity",
   "metadata": {},
   "outputs": [],
   "source": [
    "# set 'main' as the default branch name\n",
    "git config --global init.defaultBranch main"
   ]
  },
  {
   "cell_type": "markdown",
   "id": "b16c9a3c",
   "metadata": {},
   "source": [
    "### Create Git repository from scratch\n",
    "> Hint: check the [Basic Unix Commands](../Unix_Commands.ipynb) if you don't know how to do the following."
   ]
  },
  {
   "cell_type": "code",
   "execution_count": null,
   "id": "broad-sword",
   "metadata": {},
   "outputs": [],
   "source": [
    "# create a new folder (e.g. <git_repo>) and navigate to it\n"
   ]
  },
  {
   "cell_type": "code",
   "execution_count": null,
   "id": "6cabbc0b",
   "metadata": {},
   "outputs": [],
   "source": [
    "# use the command \"git init\" to initiate your first Git repository\n"
   ]
  },
  {
   "cell_type": "markdown",
   "id": "affecting-layout",
   "metadata": {},
   "source": [
    "You should now get an output similar to:\n",
    "```\n",
    "Initialized empty Git repository in <parent-dir-of-git-course>/beginners_git/git_repo/.git/\n",
    "```\n",
    "### Make and track changes in files using `git add`, `git commit` and `git status`\n",
    "\n",
    "In a next step you will add some files to your repository.  \n",
    "To do this, we will use the *echo* command in combination with the \">\" operator to direct its\n",
    "output to a file."
   ]
  },
  {
   "cell_type": "code",
   "execution_count": null,
   "id": "further-joining",
   "metadata": {},
   "outputs": [],
   "source": [
    "# create a text file using the echo-command\n",
    "# echo \"<my text for file>\" > first_file.txt\n"
   ]
  },
  {
   "cell_type": "code",
   "execution_count": null,
   "id": "authorized-despite",
   "metadata": {},
   "outputs": [],
   "source": [
    "# use echo and \">\" again to create a second text file\n"
   ]
  },
  {
   "cell_type": "code",
   "execution_count": null,
   "id": "expected-humanitarian",
   "metadata": {},
   "outputs": [],
   "source": [
    "# check the status of your Git repository with \"git status\"\n"
   ]
  },
  {
   "cell_type": "markdown",
   "id": "baking-internet",
   "metadata": {},
   "source": [
    "You should now get an output similar to:\n",
    "\n",
    "\n",
    "```\n",
    "On branch main\n",
    "\n",
    "No commits yet\n",
    "\n",
    "Untracked files:\n",
    "  (use \"git add <file>...\" to include in what will be committed)\n",
    "\tfirst_file.txt\n",
    "\tsecond_file.txt\n",
    "\n",
    "nothing added to commit but untracked files present (use \"git add\" to track)\n",
    "```\n",
    "\n",
    "\n",
    "Git has detected the two new files, but the files are not yet included in the Git repository."
   ]
  },
  {
   "cell_type": "code",
   "execution_count": null,
   "id": "comfortable-polls",
   "metadata": {},
   "outputs": [],
   "source": [
    "# add the files using \"git add\"\n",
    "\n",
    "# check your actions with \"git status\" again\n"
   ]
  },
  {
   "cell_type": "markdown",
   "id": "developing-reducing",
   "metadata": {},
   "source": [
    "Your output should look like this:\n",
    "\n",
    "```\n",
    "On branch main\n",
    "\n",
    "No commits yet\n",
    "\n",
    "Changes to be committed:\n",
    "  (use \"git rm --cached <file>...\" to unstage)\n",
    "\tnew file:   first_file.txt\n",
    "\tnew file:   second_file.txt\n",
    "```\n",
    "\n",
    "The last thing to do is to commit these files.  "
   ]
  },
  {
   "cell_type": "code",
   "execution_count": null,
   "id": "written-childhood",
   "metadata": {},
   "outputs": [],
   "source": [
    "# use \"git commit -m \"<meaningful message>\"\"\n"
   ]
  },
  {
   "cell_type": "markdown",
   "id": "derived-explorer",
   "metadata": {},
   "source": [
    "**Congrats!**  \n",
    "Your files are included in the Git repository.\n",
    "\n",
    "\n",
    "\n",
    "### Know state of Git repository using `git diff` and `git log`\n",
    "Right now we have two files in our Git repository.\n",
    "Let's see what happens when we modify them. We will use the \">>\" operator to append a new line of text to our files."
   ]
  },
  {
   "cell_type": "code",
   "execution_count": null,
   "id": "powered-province",
   "metadata": {},
   "outputs": [],
   "source": [
    "# append a new line of text with \"echo\" and \">>\" to one of the files\n"
   ]
  },
  {
   "cell_type": "code",
   "execution_count": null,
   "id": "current-shelter",
   "metadata": {},
   "outputs": [],
   "source": [
    "# check state of your repository with \"git status\"\n"
   ]
  },
  {
   "cell_type": "markdown",
   "id": "humanitarian-defense",
   "metadata": {},
   "source": [
    "Your output should look similar to:\n",
    "\n",
    "```\n",
    "On branch main\n",
    "Changes not staged for commit:\n",
    "  (use \"git add <file>...\" to update what will be committed)\n",
    "  (use \"git restore <file>...\" to discard changes in working directory)\n",
    "\tmodified:   first_file.txt\n",
    "\n",
    "no changes added to commit (use \"git add\" and/or \"git commit -a\")\n",
    "```\n",
    "\n",
    "\n",
    "When working in a repository, it easily happens that you forget about changes you have made, such as the extra lines you just added. \n",
    "Git provides the `git diff` command to check, what new changes are contained in a file"
   ]
  },
  {
   "cell_type": "code",
   "execution_count": null,
   "id": "confidential-soundtrack",
   "metadata": {},
   "outputs": [],
   "source": [
    "# see local changes of a modified file with \"git diff <your_filename>\"\n"
   ]
  },
  {
   "cell_type": "markdown",
   "id": "enabling-shirt",
   "metadata": {},
   "source": [
    "In the output\n",
    "\n",
    "```\n",
    "diff --git a/first_file b/first_file\n",
    "index 3829ab8..a32d2f3 100644\n",
    "--- a/first_file.txt\n",
    "+++ b/first_file.txt\n",
    "@@ -1 +1,2 @@\n",
    " myfirstline\n",
    "+mysecondline\n",
    "```\n",
    "\n",
    "We see a lot of information, but all that we care about is the last line:  \n",
    "The \"+\" indicates that we have a new line in our file.\n",
    "\n",
    "\n",
    "Let's modify the second file as well."
   ]
  },
  {
   "cell_type": "code",
   "execution_count": null,
   "id": "involved-plaintiff",
   "metadata": {},
   "outputs": [],
   "source": [
    "# add a new line in the second file as well\n"
   ]
  },
  {
   "cell_type": "markdown",
   "id": "featured-indie",
   "metadata": {},
   "source": [
    "The next lecture is starting soon, so let's add and commit our changes for safety reasons."
   ]
  },
  {
   "cell_type": "code",
   "execution_count": null,
   "id": "voluntary-negotiation",
   "metadata": {},
   "outputs": [],
   "source": [
    "# add the two modified files with \"git add\"\n",
    "\n",
    "# use \"git status\" to check if your action was successful\n"
   ]
  },
  {
   "cell_type": "code",
   "execution_count": null,
   "id": "sublime-council",
   "metadata": {},
   "outputs": [],
   "source": [
    "# use \"git commit -m \"<meaningful message>\"\" to commit your files\n"
   ]
  },
  {
   "cell_type": "markdown",
   "id": "dedicated-indian",
   "metadata": {},
   "source": [
    "**Congrats!**   \n",
    "But how many commits do you already have in this repository?\n",
    "Git does all this tracking for us!   \n",
    "\n",
    "The command `git log` allows us to look back in time and explore what commits are contained in our repository."
   ]
  },
  {
   "cell_type": "code",
   "execution_count": null,
   "id": "romantic-sharing",
   "metadata": {},
   "outputs": [],
   "source": [
    "# type \"git log\" to get an overview of the (very short) life of your repository\n"
   ]
  },
  {
   "cell_type": "markdown",
   "id": "ignored-local",
   "metadata": {},
   "source": [
    "Below you see an example how your log could look like:\n",
    "\n",
    "```\n",
    "commit 26c65dd070e995db55ac46d76cdb5052da03f5cb (HEAD -> main)\n",
    "Author: juckerj <jonas.jucker@env.ethz.ch>\n",
    "Date:   Tue Feb 23 17:16:03 2021 +0100\n",
    "\n",
    "    second commit\n",
    "\n",
    "commit 495eb9387e4407f3accb57a8f29d7362eead85bb\n",
    "Author: juckerj <jonas.jucker@env.ethz.ch>\n",
    "Date:   Tue Feb 23 16:09:54 2021 +0100\n",
    "\n",
    "    test\n",
    "```\n",
    "\n",
    "We see the unique hash of each commit, its author, and the date of the commit.\n",
    "These are all very useful things as we will see later in this course."
   ]
  }
 ],
 "metadata": {
  "kernelspec": {
   "display_name": "Bash",
   "language": "bash",
   "name": "bash"
  },
  "language_info": {
   "codemirror_mode": "shell",
   "file_extension": ".sh",
   "mimetype": "text/x-sh",
   "name": "bash"
  }
 },
 "nbformat": 4,
 "nbformat_minor": 5
}
