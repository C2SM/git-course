{
 "cells": [
  {
   "cell_type": "markdown",
   "id": "bearing-impact",
   "metadata": {},
   "source": [
    "## Exercise 5\n",
    "\n",
    "## Objective\n",
    "* Add a remote repository\n",
    "* Explore remote branches\n",
    "* Exchange information with a remote repository\n",
    "\n",
    "## Structure\n",
    "In this exercise we will start to learn about working with remote repositories. A remote repository is usually stored online at GitHub or GitLab. For simplicity, the remote repository for this exercise will be located in the same directory locally, but the workflow would be basically the same.\n",
    "\n",
    "## Helper Functions\n",
    "The following helper functions in the file *helpers.sh* are written by C2SM and are **NOT** **part of Git**. They will set up simple repositories for you that have a short Git history, so that you have something to work with.\n",
    "\n",
    "For this exercise, we will use the following functions from this file:\n",
    "   * **init_exercise:** This will create the *beginners_git* directory in the parent directory of the *git-course* directory. It will also delete any old version of the *beginners_git* directory, so don't use the *beginners_git* directory to save any work.\n",
    "   * **reset:** This will delete the *beginners_git* directory and allows you a clean restart of the exercise in case you messed it up completely.\n",
    "   * **init_simple_repo_remote:** This will create the same simple repository as before, along with a second repository to be used as a remote.\n",
    "\n",
    "## Remarks\n",
    "_**Reminder:** Any text enclosed in `<>` denotes a placeholder to be replaced with a specific string appropriate to your context, i.e. delete `<>` and replace it with the appropriate word._\n",
    "\n",
    "_**Reminder:** Always run `git commit` and `git merge` with a git message `-m <meaningful_message>`. Otherwise Git may try to open the Git editor, which does not work on jupyter notebook and will break your current session._\n",
    "\n",
    "### Initialization"
   ]
  },
  {
   "cell_type": "code",
   "execution_count": null,
   "id": "infrared-dayton",
   "metadata": {},
   "outputs": [],
   "source": [
    "# check current directory with \"pwd\"\n",
    "\n",
    "# go to folder of this exercise using \"cd\"\n"
   ]
  },
  {
   "cell_type": "markdown",
   "id": "0eed24cf",
   "metadata": {},
   "source": [
    "**To initialize the exercise properly, run this code at the very beginning. Check the Helper Functions section above for more explanation.**"
   ]
  },
  {
   "cell_type": "code",
   "execution_count": null,
   "id": "specialized-edition",
   "metadata": {},
   "outputs": [],
   "source": [
    "# source the helpers.sh file to be able to use its functions\n",
    "source ../helpers.sh\n",
    "# init exercise\n",
    "init_exercise"
   ]
  },
  {
   "cell_type": "markdown",
   "id": "atomic-chair",
   "metadata": {},
   "source": [
    "***\n",
    "### Optional: clear notebook and restart\n",
    "**In case you messed up your notebook completely, execute** ***reset*** **in the following cell. Check the Helper Functions section above for more explanation.**"
   ]
  },
  {
   "cell_type": "code",
   "execution_count": null,
   "id": "educational-capture",
   "metadata": {},
   "outputs": [],
   "source": [
    "## only execute in case of (serious) trouble ##\n",
    "## it will delete your entire beginners_git directory ##\n",
    "reset"
   ]
  },
  {
   "cell_type": "markdown",
   "id": "returning-reality",
   "metadata": {},
   "source": [
    "***\n",
    "## Exercise\n",
    "\n",
    "In this exercise, we will use the same simple repository that we used before, along with a remote repository. Let's initialize it with our helper function."
   ]
  },
  {
   "cell_type": "code",
   "execution_count": null,
   "id": "excellent-anniversary",
   "metadata": {},
   "outputs": [],
   "source": [
    "# this line sets up a simple Git repository along with a remote Git repository\n",
    "init_simple_repo_remote"
   ]
  },
  {
   "cell_type": "markdown",
   "id": "unusual-perfume",
   "metadata": {},
   "source": [
    "### Add a remote repository\n",
    "\n",
    "Let's add a remote repository to our local repository.  \n",
    "\n",
    "The setup script has already created one for you to use, which you can find here: \n",
    "\n",
    "**../conference_planning_remote**\n",
    "\n",
    "Use the above line as the *remote_path* to the remote repository."
   ]
  },
  {
   "cell_type": "code",
   "execution_count": null,
   "id": "discrete-affiliation",
   "metadata": {},
   "outputs": [],
   "source": [
    "# use \"git remote add <remote_name> <remote_path>\" to add the remote \n"
   ]
  },
  {
   "cell_type": "code",
   "execution_count": null,
   "id": "complicated-fifth",
   "metadata": {},
   "outputs": [],
   "source": [
    "# use \"git remote -v\" to check that the remote was added correctly\n"
   ]
  },
  {
   "cell_type": "markdown",
   "id": "front-custom",
   "metadata": {},
   "source": [
    "The output should look something like this:\n",
    "```\n",
    "my_remote  ../conference_planning_remote (fetch)\n",
    "my_remote  ../conference_planning_remote (push)\n",
    "```"
   ]
  },
  {
   "cell_type": "markdown",
   "id": "crude-intensity",
   "metadata": {},
   "source": [
    "### Get information from remote\n",
    "\n",
    "So far we have only given our local repository the location of the remote repository. Now, we want to get the information from the remote repository."
   ]
  },
  {
   "cell_type": "code",
   "execution_count": null,
   "id": "viral-examination",
   "metadata": {},
   "outputs": [],
   "source": [
    "# use \"git fetch <remote_name>\" to get information from the remote\n"
   ]
  },
  {
   "cell_type": "code",
   "execution_count": null,
   "id": "disciplinary-packaging",
   "metadata": {},
   "outputs": [],
   "source": [
    "# use \"git branch -a\" to view ALL of the branches in your local repository\n"
   ]
  },
  {
   "cell_type": "markdown",
   "id": "narrow-confidence",
   "metadata": {},
   "source": [
    "The output should look like this:\n",
    "```\n",
    "* main\n",
    "  remotes/my_remote/main\n",
    "  remotes/my_remote/updated_schedules\n",
    "```\n",
    "\n",
    "You can see that you now have a local branch (*main*), and remote branches (*remotes/\\<remote_name>/\\<branch_name>*).\n",
    "### Add remote branch to local repository and make changes\n",
    "\n",
    "The remote repository has a branch called *updated_schedules*.\n",
    "Let's check out this branch to work on it.  "
   ]
  },
  {
   "cell_type": "code",
   "execution_count": null,
   "id": "limiting-snowboard",
   "metadata": {},
   "outputs": [],
   "source": [
    "# use \"git switch updated_schedules\"\n"
   ]
  },
  {
   "cell_type": "markdown",
   "id": "automatic-underground",
   "metadata": {},
   "source": [
    "The output should look like this:\n",
    "```\n",
    "branch 'updated_schedules' set up to track remote branch 'updated_schedules' from 'my_remote/updated_schedules'.\n",
    "Switched to a new branch 'updated_schedules'\n",
    "```\n",
    "\n",
    "Git has automatically created a local branch in our local repository that tracks the remote branch from the remote repository.\n",
    "\n",
    "Now let's make a change to the *updated_schedules* branch.\n",
    "Remember to make all changes to the schedules directly in Jupyter Notebooks:\n",
    "   * Go to folder *beginners_git/conference_planning*\n",
    "   * Open *schedule_day1.txt*\n",
    "   * Add more information to your schedule, i.e. talks, workshops, etc.\n",
    "\n",
    "**Don't forget to save your changes before you come back!**"
   ]
  },
  {
   "cell_type": "code",
   "execution_count": null,
   "id": "cognitive-frederick",
   "metadata": {},
   "outputs": [],
   "source": [
    "# add and commit your changes\n",
    "\n"
   ]
  },
  {
   "cell_type": "code",
   "execution_count": null,
   "id": "destroyed-armenia",
   "metadata": {},
   "outputs": [],
   "source": [
    "# check the status of your repository\n"
   ]
  },
  {
   "cell_type": "markdown",
   "id": "utility-swaziland",
   "metadata": {},
   "source": [
    "The output should look like this:\n",
    "```\n",
    "On branch updated_schedules\n",
    "Your branch is ahead of 'my_remote/updated_schedules' by 1 commit.\n",
    "  (use \"git push\" to publish your local commits)\n",
    "\n",
    "nothing to commit, working tree clean\n",
    "```"
   ]
  },
  {
   "cell_type": "markdown",
   "id": "aboriginal-cowboy",
   "metadata": {},
   "source": [
    "### Send information to remote repository\n",
    "\n",
    "Finally, we want to commit our changes back to the remote repository. To commit to a remote repository, use the `git push` command."
   ]
  },
  {
   "cell_type": "code",
   "execution_count": null,
   "id": "liquid-andrew",
   "metadata": {},
   "outputs": [],
   "source": [
    "# use \"git push\"  \n"
   ]
  },
  {
   "cell_type": "markdown",
   "id": "statutory-naples",
   "metadata": {},
   "source": [
    "The output should look something like this:\n",
    "```\n",
    "Enumerating objects: 5, done.\n",
    "Counting objects: 100% (5/5), done.\n",
    "Delta compression using up to 8 threads\n",
    "Compressing objects: 100% (3/3), done.\n",
    "Writing objects: 100% (3/3), 350 bytes | 350.00 KiB/s, done.\n",
    "Total 3 (delta 1), reused 0 (delta 0), pack-reused 0\n",
    "To ../conference_planning_remote\n",
    "   1dacf13..80e64e8  updated_schedules -> updated_schedules\n",
    "```\n",
    "\n",
    "Now go to the folder *../conference_planning_remote* and check if you can see your changes in *schedule_day1.txt*.\n",
    "Why can you not see them? (Think before you read the solution!)\n",
    "\n",
    "**Solution**: In the remote repository you are still on the *main* branch. To change this, use the [Unix command](../Unix_Commands.ipynb) `cd` to navigate to *../conference_planning_remote* and switch to the *updated_schedules* branch. Can you now see your changes?"
   ]
  },
  {
   "cell_type": "code",
   "execution_count": null,
   "id": "00125033",
   "metadata": {},
   "outputs": [],
   "source": [
    "# Switch to the \"updated_schedule\" branch on the remote repository\n"
   ]
  }
 ],
 "metadata": {
  "kernelspec": {
   "display_name": "Bash",
   "language": "bash",
   "name": "bash"
  },
  "language_info": {
   "codemirror_mode": "shell",
   "file_extension": ".sh",
   "mimetype": "text/x-sh",
   "name": "bash"
  }
 },
 "nbformat": 4,
 "nbformat_minor": 5
}
