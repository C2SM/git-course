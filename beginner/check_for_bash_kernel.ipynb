{
 "cells": [
  {
   "cell_type": "markdown",
   "id": "1f440047-22b4-48cd-927b-e1514cbd6aa7",
   "metadata": {},
   "source": [
    "### Search for bash Kernel installation"
   ]
  },
  {
   "cell_type": "markdown",
   "id": "43c14020-abe2-4011-ab50-75c8c351e8ed",
   "metadata": {},
   "source": [
    "For the Git course, we will be using a special notebook that allows us to write and run commands just like we would in the computer's terminal. To make this possible, we use a special Juypter kernel (bash-kernel) in our Jupyter notebook. Think of it as a plugin that helps your notebook understand and execute terminal commands. We need to make sure that this bash kernel is set up before we start the course. To do this, first run the cell below and follow the steps based on the output of the cell below:"
   ]
  },
  {
   "cell_type": "code",
   "execution_count": null,
   "id": "3d2f9c9f-ea47-41c4-bf48-a70c5068dd51",
   "metadata": {},
   "outputs": [],
   "source": [
    "# import sys\n",
    "import sys\n",
    "\n",
    "# Check if the 'bash_kernel' is installed\n",
    "try:\n",
    "    import bash_kernel\n",
    "    print(\"Bash kernel is installed.\")\n",
    "except ImportError:\n",
    "    print(\"Bash kernel is not installed.\")"
   ]
  },
  {
   "cell_type": "markdown",
   "id": "78b165fd-684b-4596-9be6-b8897aa96d58",
   "metadata": {},
   "source": [
    "### If the above cell returned: Bash kernel is not installed.\n",
    "\n",
    "This means that your bash kernel is not yet installed and you need to install it yourself.\n",
    "\n",
    "* To do so, open a terminal and run the following command:\n",
    "\n",
    "    ```bash\n",
    "    python -m bash_kernel.install\n",
    "    ```\n",
    "* After that, restart this Notebook and run the above cell again to verify that your installation was successful.\n",
    "* Continue with instructions below \"If the above cell returned: Bash kernel is installed\" to select the bash kernel.\n",
    "      \n"
   ]
  },
  {
   "cell_type": "markdown",
   "id": "4a682da3-e797-460a-82f6-954ebe3c7e27",
   "metadata": {
    "jp-MarkdownHeadingCollapsed": true
   },
   "source": [
    "### If the above cell returned: Bash kernel is installed.\n",
    "\n",
    "Perfect! The Kernel is already installed, now we only need to properly select it.\n",
    "\n",
    "* Click on the Kernel selection in the top right of your Jupyter Notebook:\n",
    "\n",
    "<div style=\"text-align: center;\">\n",
    "  <img src=\"images/kernel_selection.png\" style=\"margin: auto;\">\n",
    "</div>\n",
    "\n",
    "* Select the Bash Kernel:\n",
    "\n",
    "<div style=\"text-align: center;\">\n",
    "  <img src=\"images/bash_kernel.png\" style=\"margin: auto;\">\n",
    "</div>\n",
    "\n",
    "\n",
    "\n",
    "\n",
    "***Now you're all set to run Bash commands in your notebook!***\n"
   ]
  }
 ],
 "metadata": {
  "kernelspec": {
   "display_name": "Python 3 (ipykernel)",
   "language": "python",
   "name": "python3"
  },
  "language_info": {
   "codemirror_mode": {
    "name": "ipython",
    "version": 3
   },
   "file_extension": ".py",
   "mimetype": "text/x-python",
   "name": "python",
   "nbconvert_exporter": "python",
   "pygments_lexer": "ipython3",
   "version": "3.9.6"
  }
 },
 "nbformat": 4,
 "nbformat_minor": 5
}
