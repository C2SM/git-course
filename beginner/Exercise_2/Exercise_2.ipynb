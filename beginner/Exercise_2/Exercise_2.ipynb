{
 "cells": [
  {
   "cell_type": "markdown",
   "id": "crude-martial",
   "metadata": {},
   "source": [
    "## Exercise 2\n",
    "\n",
    "## Objective\n",
    "   * Learn how to work with branches and switch between them using `git switch`.\n",
    "   * Note: `git checkout` can be used as an alternative to `git switch`. However, it has different features that have caused confusion among users in the past. So we won't use it here, but show the alternative commands in brackets, as some older Git versions don't have this option yet.\n",
    "\n",
    "## Structure\n",
    "In this exercise, we will work on scheduling a two-day conference using two files that contain the schedules for day 1 and day 2 (*schedule_day1.txt* and *schedule_day2.txt*). To add events to the schedules (e.g., talks, poster sessions, etc.), we will work on separate branches so as not to mix things up.\n",
    "Again, this exercise will consist of short descriptions of specific Git commands, followed by a hands-on part where you will be able to execute the corresponding Git commands.\n",
    "\n",
    "## Helper Functions\n",
    "The following helper functions in the file *helpers.sh* are written by C2SM and are **NOT** **part of Git**. They will set up simple repositories for you that have a short Git history, so that you have something to work with.\n",
    "\n",
    "For this exercise, we will use the following functions from this file:\n",
    "   * **init_exercise:** This will create the *beginners_git* directory in the parent directory of the *git-course* directory. It will also delete any old version of the *beginners_git* directory, so don't use the *beginners_git* directory to save any work.\n",
    "   * **reset:** This will delete the *beginners_git* directory and allows you a clean restart of the exercise in case you messed it up completely.\n",
    "   * **init_simple_repo:** This will set up a Git repository containing a first version of *schedule_day1.txt* and *schedule_day2.txt* on the *main* branch.\n",
    "\n",
    "## Remarks\n",
    "_**Reminder:** Any text enclosed in `<>` denotes a placeholder to be replaced with a specific string appropriate to your context, i.e. delete `<>` and replace it with the appropriate word._\n",
    "\n",
    "_**Note:** Always run `git commit` and `git merge` with a Git message `-m <meaningful_message>`. Otherwise Git may try to open the Git editor, which does not work on jupyter notebook and will break your current session._\n",
    "\n",
    "### Initialization"
   ]
  },
  {
   "cell_type": "code",
   "execution_count": null,
   "id": "formal-wound",
   "metadata": {},
   "outputs": [],
   "source": [
    "# check current directory with \"pwd\"\n",
    "\n",
    "# in case you are in the wrong directory, navigate to Exercise_2 using \"cd\"\n"
   ]
  },
  {
   "cell_type": "markdown",
   "id": "399abef5",
   "metadata": {},
   "source": [
    "**To initialize the exercise properly, run this code at the very beginning. Check the Helper Functions section above for more explanation.**"
   ]
  },
  {
   "cell_type": "code",
   "execution_count": null,
   "id": "logical-malawi",
   "metadata": {},
   "outputs": [],
   "source": [
    "# source the helpers.sh file to be able to use its functions\n",
    "source ../helpers.sh\n",
    "# init exercise\n",
    "init_exercise"
   ]
  },
  {
   "cell_type": "markdown",
   "id": "continent-court",
   "metadata": {},
   "source": [
    "***\n",
    "### Optional: clear notebook and restart\n",
    "**In case you messed up your notebook completely, execute** ***reset*** **in the following cell. Check the Helper Functions section above for more explanation.**"
   ]
  },
  {
   "cell_type": "code",
   "execution_count": null,
   "id": "accessible-municipality",
   "metadata": {},
   "outputs": [],
   "source": [
    "## only execute in case of (serious) trouble ##\n",
    "## it will delete your entire beginners_git directory ##\n",
    "reset"
   ]
  },
  {
   "cell_type": "markdown",
   "id": "rotary-smile",
   "metadata": {},
   "source": [
    "***\n",
    "## Exercise\n",
    "\n",
    "### Learn how to work with branches and switch between them using `git switch`\n",
    "\n",
    "First, we will set up a simple Git repository for you using one of the helper functions:"
   ]
  },
  {
   "cell_type": "code",
   "execution_count": null,
   "id": "1fab8b64",
   "metadata": {},
   "outputs": [],
   "source": [
    "# this line will set up a simple Git repository for you\n",
    "init_simple_repo"
   ]
  },
  {
   "cell_type": "markdown",
   "id": "b5f6b0dd",
   "metadata": {},
   "source": [
    "In the output above we see two files:\n",
    "   * schedule_day1.txt\n",
    "   * schedule_day2.txt\n",
    "   \n",
    "Let's have a look at them using the `cat` command:"
   ]
  },
  {
   "cell_type": "code",
   "execution_count": null,
   "id": "embedded-looking",
   "metadata": {},
   "outputs": [],
   "source": [
    "# display content with cat: \"cat <schedule_dayX.txt>\"\n"
   ]
  },
  {
   "cell_type": "markdown",
   "id": "manual-morning",
   "metadata": {},
   "source": [
    "As you can see, there is still a lot of free time available to add talks, poster sessions, breaks, etc.\n",
    "\n",
    "To keep things organized, we will do this in two different Git branches, one for scheduling day 1 and one for scheduling day 2.\n",
    "\n",
    "**Let's get started!**"
   ]
  },
  {
   "cell_type": "code",
   "execution_count": null,
   "id": "lesbian-military",
   "metadata": {},
   "outputs": [],
   "source": [
    "# create a new branch for planning day 1\n",
    "# use \"git switch -c <meaningful_branch_name A>\" to create a new branch\n",
    "# (Alternative: \"git checkout -b <meaningful_branch_name A>\")\n"
   ]
  },
  {
   "cell_type": "markdown",
   "id": "appreciated-elements",
   "metadata": {},
   "source": [
    "From now on, we will make all modifications to the schedules directly in Jupyter Notebooks.\n",
    "   * On the start page, go to the folder *beginners_git* (outside of *git-course*)\n",
    "   * Navigate to the folder *conference_planning*\n",
    "   * Open *schedule_day1.txt*\n",
    "   * Add more information to the schedule, such as planned talks, poster sessions, lunch, etc.\n",
    "   \n",
    "**Remember to save your changes before you come back!**\n",
    "\n",
    "After saving, we run `git status` to see if Git has tracked our changes."
   ]
  },
  {
   "cell_type": "code",
   "execution_count": null,
   "id": "powered-selling",
   "metadata": {},
   "outputs": [],
   "source": [
    "# see if Git tracked our changes\n"
   ]
  },
  {
   "cell_type": "markdown",
   "id": "decent-polls",
   "metadata": {},
   "source": [
    "The output should look like:\n",
    "```\n",
    "On branch plan_day1\n",
    "Changes not staged for commit:\n",
    "  (use \"git add <file>...\" to update what will be committed)\n",
    "  (use \"git restore <file>...\" to discard changes in working directory)\n",
    "\tmodified:   schedule_day1.txt\n",
    "\n",
    "no changes added to commit (use \"git add\" and/or \"git commit -a\")\n",
    "```\n",
    "\n",
    "Now do a commit with those changes."
   ]
  },
  {
   "cell_type": "code",
   "execution_count": null,
   "id": "recent-cookbook",
   "metadata": {},
   "outputs": [],
   "source": [
    "# add schedule_day1.txt and commit it (don't forget the commit message)\n",
    "\n"
   ]
  },
  {
   "cell_type": "markdown",
   "id": "stylish-contemporary",
   "metadata": {},
   "source": [
    "For the planning of the other day, we want to use another Git branch.\n",
    "To keep track of all the different branches, Git provides the `git branch` command to see all branches of a repository.\n",
    "The * indicates our current branch."
   ]
  },
  {
   "cell_type": "code",
   "execution_count": null,
   "id": "colonial-language",
   "metadata": {},
   "outputs": [],
   "source": [
    "# see all branches of our Git repository\n"
   ]
  },
  {
   "cell_type": "markdown",
   "id": "stunning-illinois",
   "metadata": {},
   "source": [
    "We can easily switch between these branches using the `git switch` command.\n",
    "Don't worry -> Git will keep all your work done on that branch."
   ]
  },
  {
   "cell_type": "code",
   "execution_count": null,
   "id": "therapeutic-permit",
   "metadata": {},
   "outputs": [],
   "source": [
    "# go back to branch main using \"git switch main\"\n",
    "# (Alternative: \"git checkout main\")\n"
   ]
  },
  {
   "cell_type": "markdown",
   "id": "adjacent-angle",
   "metadata": {},
   "source": [
    "Create a new branch for scheduling day 2 and extend the *schedule_day2.txt* file in that branch, similar to what was done for the *schedule_day1.txt* file."
   ]
  },
  {
   "cell_type": "code",
   "execution_count": null,
   "id": "optional-wisdom",
   "metadata": {},
   "outputs": [],
   "source": [
    "# create a new branch for planning day 2\n"
   ]
  },
  {
   "cell_type": "markdown",
   "id": "ef2225b1",
   "metadata": {},
   "source": [
    "Now open *schedule_day2.txt*, make changes, and save them. Proceed to commit your changes."
   ]
  },
  {
   "cell_type": "code",
   "execution_count": null,
   "id": "conscious-rugby",
   "metadata": {},
   "outputs": [],
   "source": [
    "# add and commit your changes\n",
    "\n"
   ]
  },
  {
   "cell_type": "code",
   "execution_count": null,
   "id": "proud-smell",
   "metadata": {},
   "outputs": [],
   "source": [
    "# view all branches of your Git repository again\n"
   ]
  },
  {
   "cell_type": "markdown",
   "id": "afraid-norman",
   "metadata": {},
   "source": [
    "The output should look like this:\n",
    "\n",
    "```\n",
    "  main\n",
    "  plan_day1\n",
    "* plan_day2\n",
    "```\n",
    "\n",
    "Our Git repository now contains:\n",
    "  * Branch *meaningful_branch_name_A* with modifications to *schedule_day1.txt*\n",
    "  * Branch *meaningful_branch_name_B* with modifications to *schedule_day2.txt*\n",
    "  * Branch *main* with the original version of *schedule_day1.txt* and *schedule_day2.txt*\n",
    "  \n",
    "Using `git switch` it is easy to jump between these branches and modify our schedules further.\n",
    "To show its capabilities, we will quickly switch between the branches and see how our schedules change."
   ]
  },
  {
   "cell_type": "code",
   "execution_count": null,
   "id": "applicable-vocabulary",
   "metadata": {},
   "outputs": [],
   "source": [
    "# display the content of schedule_day1.txt and schedule_day2.txt using \"cat\"\n",
    "\n"
   ]
  },
  {
   "cell_type": "code",
   "execution_count": null,
   "id": "oriented-attempt",
   "metadata": {},
   "outputs": [],
   "source": [
    "# switch to the \"main\" branch and do the same again\n",
    "\n",
    "\n"
   ]
  },
  {
   "cell_type": "code",
   "execution_count": null,
   "id": "statutory-green",
   "metadata": {},
   "outputs": [],
   "source": [
    "# switch to the branch for scheduling day 1 and do the same\n",
    "\n",
    "\n"
   ]
  },
  {
   "cell_type": "markdown",
   "id": "88eccb78",
   "metadata": {},
   "source": [
    "You should see that the output for the two files is slightly different depending on which branch you are on."
   ]
  }
 ],
 "metadata": {
  "kernelspec": {
   "display_name": "Bash",
   "language": "bash",
   "name": "bash"
  },
  "language_info": {
   "codemirror_mode": "shell",
   "file_extension": ".sh",
   "mimetype": "text/x-sh",
   "name": "bash"
  }
 },
 "nbformat": 4,
 "nbformat_minor": 5
}
