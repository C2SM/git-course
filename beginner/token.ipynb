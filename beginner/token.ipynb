{
 "cells": [
  {
   "cell_type": "markdown",
   "id": "normal-chicago",
   "metadata": {},
   "source": [
    "## Create a user token to use HTTPS for working with remote repositories\n",
    "GitHub only allows authorized users to push (and pull) to remote repositories.\n",
    "If you do not have an SSH key set up, you need to create a GitHub user token.\n",
    "\n",
    "Please follow the description for [Creating a personal access token (classic)](https://docs.github.com/en/authentication/keeping-your-account-and-data-secure/creating-a-personal-access-token#creating-a-personal-access-token-classic) provided by GitHub.\n",
    "\n",
    "Once you have a token, you can enter it instead of your password when performing Git operations over HTTPS.\n",
    "\n",
    "**Please save the token somewhere, GitHub will only show it to you once.**\n",
    "\n",
    "If you use the token when executing the `git push` command, you may get a popup window saying something like _'git-credential-osxkeychain wants to use your confidential information stored in “github.com” in your keychain'_, click `Deny` and proceed to enter your GitHub username.\n",
    "\n",
    "```\n",
    "git push origin <branch_name>\n",
    "Username: your_username\n",
    "Password: your_token\n",
    "```\n",
    "\n",
    "\n",
    "> **Note about SSH**: With an SSH key, you don't need to create a user token but can push directly, as GitHub already has your information. We highly recommend you to set up an SSH key!"
   ]
  }
 ],
 "metadata": {
  "kernelspec": {
   "display_name": "Bash",
   "language": "bash",
   "name": "bash"
  },
  "language_info": {
   "codemirror_mode": "shell",
   "file_extension": ".sh",
   "mimetype": "text/x-sh",
   "name": "bash"
  }
 },
 "nbformat": 4,
 "nbformat_minor": 5
}
