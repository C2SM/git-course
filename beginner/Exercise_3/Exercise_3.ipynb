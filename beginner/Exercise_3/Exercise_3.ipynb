{
 "cells": [
  {
   "cell_type": "markdown",
   "id": "frequent-pension",
   "metadata": {},
   "source": [
    "## Exercise 3\n",
    "\n",
    "## Objective\n",
    "   * Restore the version of files at some point in the Git history\n",
    "   * Merge two branches (without merge conflicts)\n",
    "   * Delete unused branches\n",
    "   \n",
    "## Structure\n",
    "In this exercise we will continue working on the schedule for the two-day conference using *schedule_day1.txt* and *schedule_day2.txt* for each day's schedule. First, we need to revert the schedules back to a specific commit. Then we modify the same file, but on different branches. Finally, we merge all our changes back to the *main* branch.\n",
    "\n",
    "Again, this exercise will consist of short descriptions of specific Git commands, followed by a hands-on part where you will be able to execute the corresponding Git commands.\n",
    "\n",
    "## Helper Functions\n",
    "The following helper functions in the file *helpers.sh* are written by C2SM and are **NOT** **part of Git**. They will set up simple repositories for you that have a short Git history, so that you have something to work with.\n",
    "\n",
    "For this exercise, we will use the following functions from this file:\n",
    "   * **init_exercise:** This will create the *beginners_git* directory in the parent directory of the *git-course* directory. It will also delete any old version of the *beginners_git* directory, so don't use the *beginners_git* directory to save any work.\n",
    "   * **reset:** This will delete the *beginners_git* directory and allows you a clean restart of the exercise in case you messed it up completely.\n",
    "   * **init_repo:** This sets up a Git repository as in Exercise 2, but with more commits.\n",
    "\n",
    "## Remarks\n",
    "_**Reminder:** Any text enclosed in `<>` denotes a placeholder to be replaced with a specific string appropriate to your context, i.e. delete `<>` and replace it with the appropriate word._\n",
    "\n",
    "_**Reminder:** Always run `git commit` and `git merge` with a git message `-m <meaningful_message>`. Otherwise Git may try to open the Git editor, which does not work on jupyter notebook and will break your current session._\n",
    "\n",
    "### Initialization"
   ]
  },
  {
   "cell_type": "code",
   "execution_count": null,
   "id": "magnetic-price",
   "metadata": {},
   "outputs": [],
   "source": [
    "# check current directory with \"pwd\"\n",
    "\n",
    "# in case you are in the wrong directory, navigate to Exercise_3 using \"cd\"\n"
   ]
  },
  {
   "cell_type": "markdown",
   "id": "37a897d2",
   "metadata": {},
   "source": [
    "**To initialize the exercise properly, run this code at the very beginning. Check the Helper Functions section above for more explanation.**"
   ]
  },
  {
   "cell_type": "code",
   "execution_count": null,
   "id": "cleared-wellington",
   "metadata": {},
   "outputs": [],
   "source": [
    "# source the helpers.sh file to be able to use its functions\n",
    "source ../helpers.sh\n",
    "# init exercise\n",
    "init_exercise"
   ]
  },
  {
   "cell_type": "markdown",
   "id": "listed-shell",
   "metadata": {},
   "source": [
    "***\n",
    "### Optional: clear notebook and restart\n",
    "**In case you messed up your notebook completely, execute** ***reset*** **in the following cell. Check the Helper Functions section above for more explanation.**"
   ]
  },
  {
   "cell_type": "code",
   "execution_count": null,
   "id": "genuine-companion",
   "metadata": {},
   "outputs": [],
   "source": [
    "## only execute in case of (serious) trouble ##\n",
    "## it will delete your entire beginners_git directory ##\n",
    "reset"
   ]
  },
  {
   "cell_type": "markdown",
   "id": "average-while",
   "metadata": {},
   "source": [
    "***\n",
    "## Exercise\n",
    "\n",
    "### Restore versions of files at any point in the Git history\n",
    "\n",
    "First, we will set up a simple Git repository for you using one of the helper functions:"
   ]
  },
  {
   "cell_type": "code",
   "execution_count": null,
   "id": "oriented-labor",
   "metadata": {},
   "outputs": [],
   "source": [
    "# this line will setup a simple Git repository for you\n",
    "init_repo"
   ]
  },
  {
   "cell_type": "markdown",
   "id": "german-tenant",
   "metadata": {},
   "source": [
    "Review the schedules for the two days by opening the files as before:\n",
    "\n",
    "   * On the start page, go to the folder *beginners_git* (outside of *git-course*)\n",
    "   * Navigate to the folder *conference_planning*\n",
    "   * Open *schedule_day1.txt* and *schedule_day2.txt*\n",
    "\n",
    "The schedules for both days start with talks.\n",
    "\n",
    "Originally we planned poster sessions in the morning, but the invited professors only had time in the morning to give their talks, so we changed the poster sessions to talks (see history).\n",
    "\n",
    "However, the professors have now canceled their talks and we want to have the poster sessions in the morning again.\n",
    "\n",
    "To avoid doing the same work twice, we want to reuse the old schedules that we designed in the first place.\n",
    "\n",
    "We can use `git restore` to get any version of a file along its Git history.\n",
    "\n",
    "Just run `git restore --source=<specific_commit_hash> <your_schedule>`.\n",
    "\n",
    "Let's try it out for *schedule_day1.txt* first!"
   ]
  },
  {
   "cell_type": "code",
   "execution_count": null,
   "id": "photographic-reliance",
   "metadata": {},
   "outputs": [],
   "source": [
    "# restore the version of schedule_day1.txt before commit: \"Change poster sessions to talks\"\n",
    "# \"git restore --source=<commit_hash> <file_to_restore>\"\n",
    "# (Alternative - includes \"git add\": \"git checkout <commit_hash> <file_to_restore>\")\n"
   ]
  },
  {
   "cell_type": "markdown",
   "id": "realistic-worship",
   "metadata": {},
   "source": [
    "Refresh the jupyter notebook page with *schedule_day1.txt* and take a look at it.\n",
    "You will see that we now have a poster session in the morning again.\n",
    "\n",
    "Do the same for *schedule_day2.txt*."
   ]
  },
  {
   "cell_type": "code",
   "execution_count": null,
   "id": "political-ontario",
   "metadata": {},
   "outputs": [],
   "source": [
    "# restore schedule_day2.txt before commit \"Change poster sessions to talks\"\n"
   ]
  },
  {
   "cell_type": "code",
   "execution_count": null,
   "id": "changing-romance",
   "metadata": {},
   "outputs": [],
   "source": [
    "# check if Git tracked our changes\n"
   ]
  },
  {
   "cell_type": "code",
   "execution_count": null,
   "id": "2d7c4743",
   "metadata": {},
   "outputs": [],
   "source": [
    "# add and commit your updated schedules\n",
    "\n"
   ]
  },
  {
   "cell_type": "code",
   "execution_count": null,
   "id": "romantic-million",
   "metadata": {},
   "outputs": [],
   "source": [
    "# \"git log\" to see the Git history\n"
   ]
  },
  {
   "cell_type": "markdown",
   "id": "congressional-hands",
   "metadata": {},
   "source": [
    "Each *commit hash* is unique, so you can always go to any version of the tracked files, *even* across different branches.\n",
    "\n",
    "Suddenly we decide to not have the workshop on day 1 anymore. So we restore *schedule_day1.txt* before the \"Add workshops\" commit."
   ]
  },
  {
   "cell_type": "code",
   "execution_count": null,
   "id": "micro-uncle",
   "metadata": {},
   "outputs": [],
   "source": [
    "# restore schedule_day1.txt at right commit\n"
   ]
  },
  {
   "cell_type": "code",
   "execution_count": null,
   "id": "324173f2",
   "metadata": {},
   "outputs": [],
   "source": [
    "# add and commit schedule_day1.txt\n",
    "\n"
   ]
  },
  {
   "cell_type": "code",
   "execution_count": null,
   "id": "distributed-corporation",
   "metadata": {},
   "outputs": [],
   "source": [
    "# execute \"git log --oneline\" for short summary\n"
   ]
  },
  {
   "cell_type": "markdown",
   "id": "great-latest",
   "metadata": {},
   "source": [
    "Your output should look similar to:\n",
    "```\n",
    "b7bd111 (HEAD -> main) Remove workshop on day1\n",
    "f6c3f04 Change talks back to poster sessions\n",
    "5889296 Change poster sessions to talks\n",
    "464fc92 Add workshop\n",
    "e53b1e0 Add coffee break\n",
    "f1b23c1 Add poster sessions in the morning\n",
    "f636890 Add schedule_day2\n",
    "206f724 Add schedule_day1\n",
    "1c1e740 Changed poster sessions to talks\n",
    "154f0dc Add coffee break\n",
    "a98abe7 Add poster sessions in the morning\n",
    "ca117ca Add schedule_day2\n",
    "b82e094 Add schedule_day1\n",
    "```\n"
   ]
  },
  {
   "cell_type": "markdown",
   "id": "infrared-catalog",
   "metadata": {},
   "source": [
    "### Merge two branches (without merge conflicts)\n",
    "In this part of the exercise, we will continue working on *schedule_day1.txt*.\n",
    "There are two sections in *schedule_day1.txt*, which we will change on separate branches:\n",
    "   * *daily_program*\n",
    "   * *evening_activity*\n",
    "   \n",
    "Note: Try to avoid merge conflicts by not changing the same part of a file in two branches you want to merge (usually the *main* branch and a branch you want to merge into the *main* branch). There are, of course, ways to deal with merge conflicts, and we will learn how to deal with them later in this course, but for now we will try to avoid them. If you follow the descriptions below, you should not run into a merge conflict."
   ]
  },
  {
   "cell_type": "code",
   "execution_count": null,
   "id": "smooth-bunch",
   "metadata": {},
   "outputs": [],
   "source": [
    "# switch to a new branch for the evening activity\n"
   ]
  },
  {
   "cell_type": "markdown",
   "id": "polish-print",
   "metadata": {},
   "source": [
    "Open the schedules as described before and add evening activities and don't forget to save your changes. Come back here and commit the changes."
   ]
  },
  {
   "cell_type": "code",
   "execution_count": null,
   "id": "infinite-retirement",
   "metadata": {},
   "outputs": [],
   "source": [
    "# add and commit your changes\n",
    "\n"
   ]
  },
  {
   "cell_type": "code",
   "execution_count": null,
   "id": "adjusted-specification",
   "metadata": {},
   "outputs": [],
   "source": [
    "# go back to the main branch using \"git switch\"\n"
   ]
  },
  {
   "cell_type": "markdown",
   "id": "6d478dbb",
   "metadata": {},
   "source": [
    "Now create another branch to add more to the daily program. Add at least one more event to the daily program."
   ]
  },
  {
   "cell_type": "code",
   "execution_count": null,
   "id": "unlikely-carter",
   "metadata": {},
   "outputs": [],
   "source": [
    "# switch to a new branch and add more events to the daily program\n"
   ]
  },
  {
   "cell_type": "markdown",
   "id": "applicable-alberta",
   "metadata": {},
   "source": [
    "Make changes in the files and save them."
   ]
  },
  {
   "cell_type": "code",
   "execution_count": null,
   "id": "responsible-revolution",
   "metadata": {},
   "outputs": [],
   "source": [
    "# add and commit your changes\n",
    "\n"
   ]
  },
  {
   "cell_type": "code",
   "execution_count": null,
   "id": "cutting-obligation",
   "metadata": {},
   "outputs": [],
   "source": [
    "# switch back to branch main and run \"git branch\"\n",
    "\n"
   ]
  },
  {
   "cell_type": "markdown",
   "id": "toxic-toolbox",
   "metadata": {},
   "source": [
    "`git branch` should output something like this:\n",
    "```\n",
    "  evening_activity\n",
    "* main\n",
    "  daily_program\n",
    "```"
   ]
  },
  {
   "cell_type": "markdown",
   "id": "integral-transition",
   "metadata": {},
   "source": [
    "Let's put the pieces of the schedules together. For that we use the `git merge` functionality.  \n",
    "It allows us to merge files with different text from different branches.\n",
    "\n",
    "\n",
    "To merge all modification from a branch inte the current branch, we type `git merge <branch-to-be-merged>`"
   ]
  },
  {
   "cell_type": "code",
   "execution_count": null,
   "id": "aboriginal-foundation",
   "metadata": {},
   "outputs": [],
   "source": [
    "# merge evening activity into main (make sure you are on the main branch for that)\n"
   ]
  },
  {
   "cell_type": "markdown",
   "id": "handy-disaster",
   "metadata": {},
   "source": [
    "Git just performed a so called **Fast-forward merge**. This means that there is a linear path\n",
    "between the two merged branches. See the slides for more detailed information about it. \n",
    "\n",
    "**Most important:**  \n",
    "Git does **NOT** create an additional commit to perform the merge. It only appends the commit from the branch *evening_activity* to the HEAD."
   ]
  },
  {
   "cell_type": "code",
   "execution_count": null,
   "id": "natural-affiliation",
   "metadata": {},
   "outputs": [],
   "source": [
    "# git log to see the added commit\n"
   ]
  },
  {
   "cell_type": "markdown",
   "id": "blocked-burke",
   "metadata": {},
   "source": [
    "Check the contents of the schedules.\n",
    "\n",
    "As you can see, we successfully merged our changes from the *evening_activity* branch into the *main* branch.\n",
    "\n",
    "Let's do the same, but for the changes in the branch for the daily program."
   ]
  },
  {
   "cell_type": "code",
   "execution_count": null,
   "id": "light-property",
   "metadata": {},
   "outputs": [],
   "source": [
    "# merge daily_program into main \n",
    "# Important: add a merge message (-m \"Merge daily_program\") or your jupyter notebook may crash\n"
   ]
  },
  {
   "cell_type": "markdown",
   "id": "whole-brand",
   "metadata": {},
   "source": [
    "For this merge, Git performs what is called a **3-way merge**, because the path between the two branches is no longer linear due to the merge of the branch for planning the evening activities. So Git creates a **merge commit** to merge the two histories together. Take a look at the schedules and see what they look like. Then check out the new history of your current branch."
   ]
  },
  {
   "cell_type": "code",
   "execution_count": null,
   "id": "metric-rates",
   "metadata": {},
   "outputs": [],
   "source": [
    "# git log --oneline to see the history\n"
   ]
  },
  {
   "cell_type": "markdown",
   "id": "promising-morning",
   "metadata": {},
   "source": [
    "Your Git log looks like the following:\n",
    "```\n",
    "c0d0459 (HEAD -> main) Merge daily_program\n",
    "b1be3b4 (daily_program) Add talk\n",
    "4d93eac (evening_activity) Add evening activity\n",
    "dd09add No more workshop\n",
    "cc345c6 Revert poster sessions\n",
    "ebc8d06 Change poster sessions to talks\n",
    "56c65e8 Add workshops\n",
    "e0ced97 Add coffee break\n",
    "90b9b5e Add poster sessions in the morning\n",
    "2a00ec0 Add schedule_day2\n",
    "20be4d2 Add schedule_day1\n",
    "```"
   ]
  },
  {
   "cell_type": "markdown",
   "id": "motivated-entertainment",
   "metadata": {},
   "source": [
    "### Delete unused branches\n",
    "\n",
    "After merging, it is good practice to delete merged branches.  \n",
    "\n",
    "The command `git branch -d <branch_to_delete>` can do this."
   ]
  },
  {
   "cell_type": "code",
   "execution_count": null,
   "id": "figured-worcester",
   "metadata": {},
   "outputs": [],
   "source": [
    "# delete the evening_activity branch\n"
   ]
  },
  {
   "cell_type": "code",
   "execution_count": null,
   "id": "subject-logic",
   "metadata": {},
   "outputs": [],
   "source": [
    "# delete the daily_program branch\n"
   ]
  },
  {
   "cell_type": "markdown",
   "id": "grateful-niagara",
   "metadata": {},
   "source": [
    "**Congrats, your Git skills are getting better and better!**"
   ]
  }
 ],
 "metadata": {
  "kernelspec": {
   "display_name": "Bash",
   "language": "bash",
   "name": "bash"
  },
  "language_info": {
   "codemirror_mode": "shell",
   "file_extension": ".sh",
   "mimetype": "text/x-sh",
   "name": "bash"
  }
 },
 "nbformat": 4,
 "nbformat_minor": 5
}
