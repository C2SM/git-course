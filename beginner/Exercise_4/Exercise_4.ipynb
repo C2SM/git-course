{
 "cells": [
  {
   "cell_type": "markdown",
   "id": "executed-paris",
   "metadata": {},
   "source": [
    "## Exercise 4\n",
    "\n",
    "## Objective\n",
    "   * Practice the typical Git workflow\n",
    "   \n",
    "## Structure\n",
    "In this exercise, we won't be learning any new Git commands. Rather, we will review all the commands and workflows we learned in the previous exercises. We will do this by working on the *conference_schedule.txt* document and simulating a possible workflow.\n",
    "Since this is a review, there will be less explanation.\n",
    "\n",
    "## Helper Functions\n",
    "The following helper functions in the file *helpers.sh* are written by C2SM and are **NOT** **part of Git**. They will set up simple repositories for you that have a short Git history, so that you have something to work with.\n",
    "\n",
    "For this exercise, we will use the following functions from this file:\n",
    "   * **init_exercise:** This will create the *beginners_git* directory in the parent directory of the *git-course* directory. It will also delete any old version of the *beginners_git* directory, so don't use the *beginners_git* directory to save any work.\n",
    "   * **reset:** This will delete the *beginners_git* directory and allows you a clean restart of the exercise in case you messed it up completely.\n",
    "   * **init_repo_empty_schedule:** This will create the directory `conference_planning` and a file `conference_schedule.txt` with an empty schedule.\n",
    "\n",
    "## Remarks\n",
    "_**Reminder:** Any text enclosed in `<>` denotes a placeholder to be replaced with a specific string appropriate to your context, i.e. delete `<>` and replace it with the appropriate word._\n",
    "\n",
    "_**Reminder:** Always run `git commit` and `git merge` with a git message `-m <meaningful_message>`. Otherwise Git may try to open the Git editor, which does not work on jupyter notebook and will break your current session._\n",
    "\n",
    "### Initialization"
   ]
  },
  {
   "cell_type": "code",
   "execution_count": null,
   "id": "beginning-cassette",
   "metadata": {},
   "outputs": [],
   "source": [
    "# check current directory with \"pwd\"\n",
    "\n",
    "# in case you are in the wrong directory, navigate to Exercise_4 using \"cd\"\n"
   ]
  },
  {
   "cell_type": "markdown",
   "id": "ff78654b",
   "metadata": {},
   "source": [
    "**To initialize the exercise properly, run this code at the very beginning. Check the Helper Functions section above for more explanation.**"
   ]
  },
  {
   "cell_type": "code",
   "execution_count": null,
   "id": "developing-jamaica",
   "metadata": {},
   "outputs": [],
   "source": [
    "# source the helpers.sh file to be able to use its functions\n",
    "source ../helpers.sh\n",
    "# init exercise\n",
    "init_exercise"
   ]
  },
  {
   "cell_type": "markdown",
   "id": "loaded-pontiac",
   "metadata": {},
   "source": [
    "***\n",
    "### Optional: clear notebook and restart\n",
    "**In case you messed up your notebook completely, execute** ***reset*** **in the following cell. Check the Helper Functions section above for more explanation.**"
   ]
  },
  {
   "cell_type": "code",
   "execution_count": null,
   "id": "individual-domain",
   "metadata": {},
   "outputs": [],
   "source": [
    "## only execute in case of (serious) trouble ##\n",
    "## it will delete your entire beginners_git directory ##\n",
    "reset"
   ]
  },
  {
   "cell_type": "markdown",
   "id": "boring-enzyme",
   "metadata": {},
   "source": [
    "***\n",
    "## Exercise\n",
    "\n",
    "### Practice typical Git workflow\n",
    "\n",
    "First, we will set up a simple Git repository for you using one of the helper functions:"
   ]
  },
  {
   "cell_type": "code",
   "execution_count": null,
   "id": "greenhouse-quest",
   "metadata": {},
   "outputs": [],
   "source": [
    "# this line will create the directory `conference_planning` and the empty schedule `conference_schedule.txt` in it\n",
    "init_repo_empty_schedule"
   ]
  },
  {
   "cell_type": "code",
   "execution_count": null,
   "id": "massive-asbestos",
   "metadata": {},
   "outputs": [],
   "source": [
    "# init Git repository\n"
   ]
  },
  {
   "cell_type": "code",
   "execution_count": null,
   "id": "prompt-looking",
   "metadata": {},
   "outputs": [],
   "source": [
    "# execute \"ls -a\" to also see the hidden git folder\n"
   ]
  },
  {
   "cell_type": "markdown",
   "id": "committed-brass",
   "metadata": {},
   "source": [
    "Add events to the schedule.\n",
    "\n",
    "Remember to make any changes to the schedule directly in Jupyter Notebooks:\n",
    "   * Go to folder *beginners_git/conference_planning*\n",
    "   * Open *conference_schedule.txt*\n",
    "   * Change file\n",
    "\n",
    "**Don't forget to save your modifications before coming back!**\n",
    "\n",
    "Please use this way of editing files throughout the exercise.\n",
    "\n",
    "- Add a talk, coffee break, workshop"
   ]
  },
  {
   "cell_type": "code",
   "execution_count": null,
   "id": "frank-responsibility",
   "metadata": {},
   "outputs": [],
   "source": [
    "# commit your changes\n",
    "\n"
   ]
  },
  {
   "cell_type": "markdown",
   "id": "valid-wallpaper",
   "metadata": {},
   "source": [
    "The workshop has been canceled and we will have a poster session instead.\n",
    "\n",
    "Adjust your document accordingly."
   ]
  },
  {
   "cell_type": "code",
   "execution_count": null,
   "id": "ranking-arrival",
   "metadata": {},
   "outputs": [],
   "source": [
    "# commit the adapted \"conference_schedule.txt\"\n",
    "\n"
   ]
  },
  {
   "cell_type": "markdown",
   "id": "smart-craft",
   "metadata": {},
   "source": [
    "We continue to plan. Add these three events to *conference_schedule.txt*:\n",
    "   * Lunch break\n",
    "   * Another talk\n",
    "   * Second poster session"
   ]
  },
  {
   "cell_type": "code",
   "execution_count": null,
   "id": "mature-night",
   "metadata": {},
   "outputs": [],
   "source": [
    "# commit your changes\n",
    "\n"
   ]
  },
  {
   "cell_type": "markdown",
   "id": "fifty-recall",
   "metadata": {},
   "source": [
    "Check if all of your changes are really tracked by Git.\n"
   ]
  },
  {
   "cell_type": "code",
   "execution_count": null,
   "id": "polished-source",
   "metadata": {},
   "outputs": [],
   "source": [
    "# check Git status\n",
    "\n",
    "# check Git log\n"
   ]
  },
  {
   "cell_type": "markdown",
   "id": "floating-conditions",
   "metadata": {},
   "source": [
    "If you don't have any untracked changes in your repository, proceed to the next part of this exercise.\n",
    "\n",
    "\n",
    "\n",
    "**It is late at night and your concentration is not very high...**\n",
    "\n",
    "By accident you delete all of your existing files..."
   ]
  },
  {
   "cell_type": "code",
   "execution_count": null,
   "id": "integral-shaft",
   "metadata": {},
   "outputs": [],
   "source": [
    "# CAUTION: executing this panel deletes all files in the current directory\n",
    "rm *"
   ]
  },
  {
   "cell_type": "markdown",
   "id": "miniature-humor",
   "metadata": {},
   "source": [
    "Thanks to Git we can easily restore files, even if they are deleted."
   ]
  },
  {
   "cell_type": "code",
   "execution_count": null,
   "id": "f318c123",
   "metadata": {},
   "outputs": [],
   "source": [
    "# check Git status\n"
   ]
  },
  {
   "cell_type": "code",
   "execution_count": null,
   "id": "useful-spotlight",
   "metadata": {},
   "outputs": [],
   "source": [
    "# restore deleted files\n"
   ]
  },
  {
   "cell_type": "markdown",
   "id": "greatest-classification",
   "metadata": {},
   "source": [
    "As a next step, create a new branch and edit the schedule there, since we are not sure yet if Professor X will accept the talk in the morning. \n",
    "\n",
    "**Always make sure to reload your file before changing it**\n",
    "   * Change the talk to a workshop"
   ]
  },
  {
   "cell_type": "code",
   "execution_count": null,
   "id": "purple-conspiracy",
   "metadata": {},
   "outputs": [],
   "source": [
    "# create new branch and adjust the schedule\n"
   ]
  },
  {
   "cell_type": "code",
   "execution_count": null,
   "id": "trying-ideal",
   "metadata": {},
   "outputs": [],
   "source": [
    "# commit changes\n",
    "\n"
   ]
  },
  {
   "cell_type": "markdown",
   "id": "determined-classification",
   "metadata": {},
   "source": [
    "Switch back to branch *main* and create another branch on top of it.\n",
    "We want to plan an evening activity but are not sure what it will be. Therefore, we create two branches with different activities."
   ]
  },
  {
   "cell_type": "code",
   "execution_count": null,
   "id": "single-contribution",
   "metadata": {},
   "outputs": [],
   "source": [
    "# switch to main\n",
    "\n",
    "# create new branch and add an evening activity\n"
   ]
  },
  {
   "cell_type": "markdown",
   "id": "56b0e310",
   "metadata": {},
   "source": [
    "Add an evening activity and commit the changes. Don't forget to reload your file before changing!"
   ]
  },
  {
   "cell_type": "code",
   "execution_count": null,
   "id": "minus-matrix",
   "metadata": {},
   "outputs": [],
   "source": [
    "# commit changes\n",
    "\n"
   ]
  },
  {
   "cell_type": "markdown",
   "id": "major-implement",
   "metadata": {},
   "source": [
    "Switch to branch *main* and create another branch on top of it, to add an alternative evening activity."
   ]
  },
  {
   "cell_type": "code",
   "execution_count": null,
   "id": "abroad-ownership",
   "metadata": {},
   "outputs": [],
   "source": [
    "# switch to main branch\n",
    "\n",
    "# create new branch and add another evening activity\n"
   ]
  },
  {
   "cell_type": "code",
   "execution_count": null,
   "id": "informative-infrared",
   "metadata": {},
   "outputs": [],
   "source": [
    "# commit changes\n",
    "\n"
   ]
  },
  {
   "cell_type": "markdown",
   "id": "extreme-figure",
   "metadata": {},
   "source": [
    "It's time to get an overview of what we just did.\n",
    "Our repository has currently 4 branches (names may be different for your case):\n",
    "   * *main* (base version of all subsequent branches)\n",
    "   * *alternative_talk* (workshop instead of talk)\n",
    "   * *evening_activity* (First planned activity)\n",
    "   * *evening_activity_alternative* (Alternative activity)\n",
    "   \n",
    "Ensure your repository contains the same amount of different branches."
   ]
  },
  {
   "cell_type": "code",
   "execution_count": null,
   "id": "congressional-exception",
   "metadata": {},
   "outputs": [],
   "source": [
    "# display all branches of the Git repository\n"
   ]
  },
  {
   "cell_type": "markdown",
   "id": "registered-england",
   "metadata": {},
   "source": [
    "The talk in the morning has not been accepted.\n",
    "Therefore merge the branch *alternative_talk* into *main*.\n",
    "\n",
    "**Remark:** Make sure you are in the *main* branch before starting the merge, because Git always merges a branch **into** your current branch.\n"
   ]
  },
  {
   "cell_type": "code",
   "execution_count": null,
   "id": "breeding-partition",
   "metadata": {},
   "outputs": [],
   "source": [
    "# merge schedule branch into the main branch\n",
    "\n"
   ]
  },
  {
   "cell_type": "code",
   "execution_count": null,
   "id": "brown-northern",
   "metadata": {},
   "outputs": [],
   "source": [
    "# follow good practice and delete the merged branch\n"
   ]
  },
  {
   "cell_type": "markdown",
   "id": "certified-parks",
   "metadata": {},
   "source": [
    "The last step of the planning is to choose one of the two evening activities.\n",
    "Decide which one you prefer.\n",
    "\n",
    "Merge the corresponding branch into *main*.\n",
    "\n",
    "**Don't forget to add a commit message!**"
   ]
  },
  {
   "cell_type": "code",
   "execution_count": null,
   "id": "accepted-modification",
   "metadata": {},
   "outputs": [],
   "source": [
    "# merge your preferred evening activity into main\n"
   ]
  },
  {
   "cell_type": "code",
   "execution_count": null,
   "id": "measured-corner",
   "metadata": {},
   "outputs": [],
   "source": [
    "# delete merged branch\n"
   ]
  },
  {
   "cell_type": "markdown",
   "id": "solid-monte",
   "metadata": {},
   "source": [
    "There is one unused branch left in our repository.\n",
    "We want to keep the repository clean and nice. So please delete the unmerged branch as well.\n",
    "\n",
    "**Remark:** Since we did not merge the remaining branch, it has to be done differently before. But don't worry, Git will tell you what to do."
   ]
  },
  {
   "cell_type": "code",
   "execution_count": null,
   "id": "flush-alliance",
   "metadata": {},
   "outputs": [],
   "source": [
    "# delete unused branch\n"
   ]
  },
  {
   "cell_type": "markdown",
   "id": "quarterly-homework",
   "metadata": {},
   "source": [
    "**Congrats, you already know the most essential Git commands for the local use of Git.**"
   ]
  }
 ],
 "metadata": {
  "kernelspec": {
   "display_name": "Bash",
   "language": "bash",
   "name": "bash"
  },
  "language_info": {
   "codemirror_mode": "shell",
   "file_extension": ".sh",
   "mimetype": "text/x-sh",
   "name": "bash"
  }
 },
 "nbformat": 4,
 "nbformat_minor": 5
}
