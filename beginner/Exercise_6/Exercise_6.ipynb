{
 "cells": [
  {
   "cell_type": "markdown",
   "id": "bearing-impact",
   "metadata": {},
   "source": [
    "## Exercise 6\n",
    "\n",
    "## Objective\n",
    "   * Learn how to deal with merge conflicts:\n",
    "       * Undo merge\n",
    "       * Choose preferred version\n",
    "       * Adapt file directly\n",
    "    \n",
    "## Structure\n",
    "\n",
    "In this exercise we will change the same file on different branches in a way that we create a merge conflict. There will also be a change in the remote repository, which will equally lead into a merge conflict when trying to pull from that branch.\n",
    "Again, the exercise consists of short descriptions about a specific Git command, followed by a practical part where you can execute appropriate Git commands.\n",
    "\n",
    "In order to allow a smooth exercise, there are some functions written by C2SM in the file *helpers.sh* that are **NOT** part of Git. For this exercise we use the following functions from that file:\n",
    "   * **init_exercise:** It will create the *work* directory and navigate into it \n",
    "   * **reset:** It will delete the *work* folder and enable you a clean restart of the exercise in case you completely mess it up\n",
    "   * **init_repo_remote:** setup a Git repository containing a first version of _schedule_day1.txt_ and a remote repo containing the same version of _schedule_day1.txt_ on a different branch called \"updated_schedules\".\n",
    "\n",
    "_**Reminder:** Any text enclosed in `<>` denotes a placeholder to be replaced with a specific string appropriate to your context, i.e. delete `<>` and replace it with the appropriate word._\n",
    "\n",
    "_**Reminder:** Always run `git commit` and `git merge` with a git message `-m <meaningful_message>`. Otherwise Git may try to open the Git editor, which does not work on jupyter notebook and will break your current session._\n",
    "\n",
    "### Initialization"
   ]
  },
  {
   "cell_type": "code",
   "execution_count": null,
   "id": "infrared-dayton",
   "metadata": {},
   "outputs": [],
   "source": [
    "# check current directory with \"pwd\"\n",
    "\n",
    "# go to folder of this exercise using \"cd\"\n"
   ]
  },
  {
   "cell_type": "markdown",
   "id": "72d291f1",
   "metadata": {},
   "source": [
    "**To initialize the exercise properly, run this code at the very beginning. This will delete the everything you've done in previous exercises.**"
   ]
  },
  {
   "cell_type": "code",
   "execution_count": null,
   "id": "specialized-edition",
   "metadata": {},
   "outputs": [],
   "source": [
    "# init exercise\n",
    "source ../helpers.sh\n",
    "init_exercise"
   ]
  },
  {
   "cell_type": "markdown",
   "id": "atomic-chair",
   "metadata": {},
   "source": [
    "***\n",
    "### Optional: clear notebook and restart\n",
    "**In case you messed up your notebook completely, execute** ***reset*** **in the following cell. This will restore a clean environment!**"
   ]
  },
  {
   "cell_type": "code",
   "execution_count": null,
   "id": "educational-capture",
   "metadata": {},
   "outputs": [],
   "source": [
    "## only execute in case of (serious) trouble ##\n",
    "## it will delete your entire work-directory ##\n",
    "reset"
   ]
  },
  {
   "cell_type": "markdown",
   "id": "returning-reality",
   "metadata": {},
   "source": [
    "***\n",
    "## Exercise\n",
    "\n",
    "In this exercise we are going to use a repository together with a remote repository containing the file _schedule_day1.txt_. Let's initialize it with our helper function."
   ]
  },
  {
   "cell_type": "code",
   "execution_count": null,
   "id": "excellent-anniversary",
   "metadata": {},
   "outputs": [],
   "source": [
    "# this line will setup the local and the remote Git-repositories\n",
    "init_repo_remote"
   ]
  },
  {
   "cell_type": "markdown",
   "id": "3a32a9d8",
   "metadata": {},
   "source": [
    "### Now let's make a change in the schedule and commit it\n",
    "Remember to do all modifications of the schedules directly via Jupyter Notebooks:\n",
    "   * Go to folder *beginners_git/conference_planning*\n",
    "   * Open _schedule_day1.txt_\n",
    "   * Change the workshop to a poster session"
   ]
  },
  {
   "cell_type": "code",
   "execution_count": null,
   "id": "765eca4c",
   "metadata": {},
   "outputs": [],
   "source": [
    "# Change the workshop to a poster session and commit\n"
   ]
  },
  {
   "cell_type": "markdown",
   "id": "unusual-perfume",
   "metadata": {},
   "source": [
    "### Add a remote repository\n",
    "\n",
    "Let's add the remote repository to our local repository like in the previous exercise.\n",
    "\n",
    "The setup script has already created one that you can use at: \n",
    "\n",
    "**../conference_planning_remote**\n",
    "\n",
    "Use the line above as *remote_path* to the remote repository."
   ]
  },
  {
   "cell_type": "code",
   "execution_count": null,
   "id": "discrete-affiliation",
   "metadata": {},
   "outputs": [],
   "source": [
    "# use \"git remote add <some_remote_name> <remote_path>\" to add the remote \n"
   ]
  },
  {
   "cell_type": "code",
   "execution_count": null,
   "id": "complicated-fifth",
   "metadata": {},
   "outputs": [],
   "source": [
    "# Get information from remote branch with \"git fetch <my_remote>\n",
    "\n",
    "# Check which branches are available\n"
   ]
  },
  {
   "cell_type": "markdown",
   "id": "bb0bba96",
   "metadata": {},
   "source": [
    "### Now make a different change in the same file on the _updated_schedules_ branch\n",
    "  * Switch to the _**updated_schedules**_ branch\n",
    "  * Change the workshop to a talk in *beginners_git/conference_planning/schedule_day1.txt*\n",
    "  * Commit your changes"
   ]
  },
  {
   "cell_type": "code",
   "execution_count": null,
   "id": "9f3a660d",
   "metadata": {},
   "outputs": [],
   "source": [
    "# Switch to updated_schedules\n"
   ]
  },
  {
   "cell_type": "code",
   "execution_count": null,
   "id": "limiting-snowboard",
   "metadata": {},
   "outputs": [],
   "source": [
    "# Change workshop to talk and commit\n"
   ]
  },
  {
   "cell_type": "markdown",
   "id": "ef95def7",
   "metadata": {},
   "source": [
    "### Merge the _updated_schedules_ branch into the _main_ branch\n",
    "We decided to use the schedule on the _**updated_schedules**_ branch. Therfore, we want to merge this branch into the _**main**_ branch."
   ]
  },
  {
   "cell_type": "code",
   "execution_count": null,
   "id": "8832fdb5",
   "metadata": {
    "scrolled": true
   },
   "outputs": [],
   "source": [
    "# Go to main branch and merge the updated_schedules branch\n",
    "# make sure to always add a commit message when merging with -m <my commit message>\n"
   ]
  },
  {
   "cell_type": "markdown",
   "id": "automatic-underground",
   "metadata": {},
   "source": [
    "### Solve merge conflict\n",
    "If you've done everything \"right\", something has gone \"wrong\" and the output should look like the following:\n",
    "```\n",
    "CONFLICT (content): Merge conflict in schedule_day1.txt\n",
    "Automatic merge failed; fix conflicts and then commit the result.\n",
    "```\n",
    "\n",
    "We apparently run into a merge conflict. This happened because we did changes on the _**main**_ branch and the _**updated_schedules**_ branch at the same part of the file and Git doesn't know which changes it should take. Let's see how to solve this. \n",
    "\n",
    "Have a look into the file _schedule_day1.txt_. You will see something like this:\n",
    "``` \n",
    "<<<<<<< HEAD\n",
    "13:30-15:00: Poster session\n",
    "=======\n",
    "13:30-15:00: Talk professor C.\n",
    ">>>>>>> updated_schedules \n",
    "```\n",
    "\n",
    "The upper line is the HEAD, referring to the branch you are currently on (here _**main**_), and the second line refers to the branch you wanted to merge (here _**updated_schedules**_).\n",
    "\n",
    "There are different ways to solve a merge conflict\n",
    "\n",
    "1) If you are afraid that everything is messed up and you don't know what to do, just run ```git merge --abort``` and everything is set back to what it was before you were trying to merge.\n",
    "\n",
    "2) You can adapt the file directly and delete the lines, which were added by the merge conflict except the lines you want to keep. Now the merge conflict is solved and you can add _schedule_day1.txt_ and finally make a commit of the merge.\n",
    "\n",
    "3) If you know you want to just use the file on the _**HEAD**_ branch (_ours_) or on the merging branch (_theirs_), you can select the preferred version with ```git restore schedule_day1.txt --ours``` or ```git restore schedule_day1.txt --theirs``` respectively. The restored file needs to be added before the final merge is being committed.\n",
    "\n",
    "Let's try all of the three versions!"
   ]
  },
  {
   "cell_type": "markdown",
   "id": "395f79a4",
   "metadata": {},
   "source": [
    "### 1) Abort merge"
   ]
  },
  {
   "cell_type": "code",
   "execution_count": null,
   "id": "f07c45df",
   "metadata": {},
   "outputs": [],
   "source": [
    "# Abort the merge commit and check if the file is set back to its previous version\n"
   ]
  },
  {
   "cell_type": "markdown",
   "id": "f5fd27cd",
   "metadata": {},
   "source": [
    "### 2) Edit file directly to solve conflict"
   ]
  },
  {
   "cell_type": "code",
   "execution_count": null,
   "id": "3118e833",
   "metadata": {},
   "outputs": [],
   "source": [
    "# Merge again\n"
   ]
  },
  {
   "cell_type": "markdown",
   "id": "a860a033",
   "metadata": {},
   "source": [
    "Now go to the file and select your preferred version. Therefore, remove all of the conflict markers from the file (<<<<<<< HEAD, =======, >>>>>>> updated_schedules) and the lines belonging to _**HEAD**_ or the merging branch (_**updated_schedules**_) depending on which solution you want to keep.\n",
    "\n",
    "Stage the file once you have resolved the conflict with `git add`. Staging the file indicates to Git that the conflicts have been resolved. Note that Git does not check the file for conflict markers at this point; it is trusting you that you have removed them all, so you must be sure."
   ]
  },
  {
   "cell_type": "code",
   "execution_count": null,
   "id": "5cc018dd",
   "metadata": {},
   "outputs": [],
   "source": [
    "# Stage schedule_day1.txt and finalize the merge commit (don't forget to add a commit message)\n"
   ]
  },
  {
   "cell_type": "markdown",
   "id": "3b65883f",
   "metadata": {},
   "source": [
    "### 3) Restore preferred version on command line\n",
    "To create a new merge conflict adapt the schedule on the _**main**_ branch on the SAME line as on the _**updated_schedules**_ branch and commit the changes to the branches respectively."
   ]
  },
  {
   "cell_type": "code",
   "execution_count": null,
   "id": "32de4086",
   "metadata": {},
   "outputs": [],
   "source": [
    "# Make a change and commit on the main branch\n"
   ]
  },
  {
   "cell_type": "code",
   "execution_count": null,
   "id": "761999ea",
   "metadata": {},
   "outputs": [],
   "source": [
    "# Switch to the updated_schedules branch\n"
   ]
  },
  {
   "cell_type": "code",
   "execution_count": null,
   "id": "b1352ccc",
   "metadata": {},
   "outputs": [],
   "source": [
    "# Make a change at the same line and commit\n"
   ]
  },
  {
   "cell_type": "code",
   "execution_count": null,
   "id": "20afb074",
   "metadata": {},
   "outputs": [],
   "source": [
    "# Go back to main branch and try to merge the updated_schedules branch\n"
   ]
  },
  {
   "cell_type": "markdown",
   "id": "58fe9568",
   "metadata": {},
   "source": [
    "Now try to solve the merge conflict with ```git restore schedule_day1.txt --theirs/ours```."
   ]
  },
  {
   "cell_type": "code",
   "execution_count": null,
   "id": "cb2c271a",
   "metadata": {},
   "outputs": [],
   "source": [
    "# Restore the version of your favorite branch\n"
   ]
  },
  {
   "cell_type": "code",
   "execution_count": null,
   "id": "e1a4bcd9",
   "metadata": {},
   "outputs": [],
   "source": [
    "# Commit the merge with your favorite solution (don't forget to add the solution first)\n"
   ]
  },
  {
   "cell_type": "markdown",
   "id": "20bc5bca",
   "metadata": {},
   "source": [
    "### Merge conflict when trying to pull remote branch\n",
    "We just realized that we forgot an introduction talk to the conference. Switch to the _**updated_schedules**_ branch and change the first event to \"Introduction\" in _~/conference_planning/schedule_day1.txt_ and commit your changes."
   ]
  },
  {
   "cell_type": "code",
   "execution_count": null,
   "id": "81486f4d",
   "metadata": {},
   "outputs": [],
   "source": [
    "# Switch to updated_schedules\n"
   ]
  },
  {
   "cell_type": "code",
   "execution_count": null,
   "id": "aef5c7ae",
   "metadata": {},
   "outputs": [],
   "source": [
    "# Change the first event to \"Introduction\" and commit your changes\"\n"
   ]
  },
  {
   "cell_type": "markdown",
   "id": "c5b0d1f6",
   "metadata": {},
   "source": [
    "What we didn't notice is that someone changed something on the remote branch while we were working on the file. When we now pull try to pull the remote, we will again run into a merge conflict."
   ]
  },
  {
   "cell_type": "code",
   "execution_count": null,
   "id": "66f617f5",
   "metadata": {},
   "outputs": [],
   "source": [
    "# This command will do that \"unnoticed\" change on the remote branch\n",
    "commit_to_remote_by_third_party"
   ]
  },
  {
   "cell_type": "code",
   "execution_count": null,
   "id": "0c247138",
   "metadata": {},
   "outputs": [],
   "source": [
    "# Make sure you are on the updated_schedules branch and try to pull with \"git pull\"\n"
   ]
  },
  {
   "cell_type": "markdown",
   "id": "c1eb1c0a",
   "metadata": {},
   "source": [
    "Unless you already set how to pull in your Git config, you will get a message like this:\n",
    "```\n",
    "hint: You have divergent branches and need to specify how to reconcile them.\n",
    "hint: You can do so by running one of the following commands sometime before\n",
    "hint: your next pull:\n",
    "hint: \n",
    "hint:   git config pull.rebase false  # merge\n",
    "hint:   git config pull.rebase true   # rebase\n",
    "hint:   git config pull.ff only       # fast-forward only\n",
    "hint: \n",
    "hint: You can replace \"git config\" with \"git config --global\" to set a default\n",
    "hint: preference for all repositories. You can also pass --rebase, --no-rebase,\n",
    "hint: or --ff-only on the command line to override the configured default per\n",
    "hint: invocation.\n",
    "```\n",
    "Read the hints and the explanations below carefully and choose your preferred setting.\n",
    "\n",
    "`# merge`: This option will handle pull requests the same way as when merging a branch, i.e., the merge will not be automatically committed.\n",
    "\n",
    "`# rebase`: This option will commit a merge directly in case there are no conflicts. Otherwise you will have to solve the conflicts before continuing (Git will tell you all necessary steps)\n",
    "\n",
    "`# fast-forward only`: This option will only do a merge in case there are no conflicts, otherwise nothing will be done (we do not recommend this option, to undo it, you need to run `git config pull.ff false`)"
   ]
  },
  {
   "cell_type": "code",
   "execution_count": null,
   "id": "37e23497",
   "metadata": {},
   "outputs": [],
   "source": [
    "# Choose your preferred way of pulling\n"
   ]
  },
  {
   "cell_type": "code",
   "execution_count": null,
   "id": "137f6c9a",
   "metadata": {},
   "outputs": [],
   "source": [
    "# Now pull again\n"
   ]
  },
  {
   "cell_type": "markdown",
   "id": "9264d18d",
   "metadata": {},
   "source": [
    "Again, you ran into a merge conflict. You are now ready to solve the conflict yourself!"
   ]
  },
  {
   "cell_type": "code",
   "execution_count": null,
   "id": "d611139b",
   "metadata": {},
   "outputs": [],
   "source": []
  }
 ],
 "metadata": {
  "kernelspec": {
   "display_name": "Bash",
   "language": "bash",
   "name": "bash"
  },
  "language_info": {
   "codemirror_mode": "shell",
   "file_extension": ".sh",
   "mimetype": "text/x-sh",
   "name": "bash"
  }
 },
 "nbformat": 4,
 "nbformat_minor": 5
}
