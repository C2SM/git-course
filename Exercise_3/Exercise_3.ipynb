{
 "cells": [
  {
   "cell_type": "markdown",
   "metadata": {},
   "source": [
    "## Exercise 3\n",
    "\n",
    "## Goals\n",
    "   * Checkout files at some point in the Git history\n",
    "   * Merge two branches (without merge conflicts)\n",
    "   * Delete unused branches\n",
    "   \n",
    "## Structure\n",
    "In this exercise we will continue working on flyers (flyer_A and flyer_B) for two parties (Party A and Party B). First we need to revert the flyers to a specific commit. Then we modify the same file, but in different branches. Finally we merge all our changes into branch master.  \n",
    "\n",
    "Again the exercise consists of short descriptions about a specific git command (less detailed than in previous exercises), followed by a hands-on part for you to execute appropiate git commands.\n",
    "\n",
    "In order to allow a smooth exercise, there are some functions written by C2SM in the file *helpers.sh* that are **NOT** part of Git. For this exercise we us the following functions from that file:\n",
    "   * **init_exercise:** It will create the *work* directory and navigate into it \n",
    "   * **reset:** It will delete the *work* folder and enable you a clean restart of the exercise in case you completely mess it up\n",
    "   * **init_broken_repo:** setup a Git repository as in exercise 2, but with commits, that we need to revert first."
   ]
  },
  {
   "cell_type": "markdown",
   "metadata": {},
   "source": [
    "### Checkout files at some point in the Git history"
   ]
  },
  {
   "cell_type": "code",
   "execution_count": 1,
   "metadata": {},
   "outputs": [
    {
     "name": "stdout",
     "output_type": "stream",
     "text": [
      "Working directory prepared\n"
     ]
    }
   ],
   "source": [
    "# execute this code at the very beginning to initialize the exercise properly\n",
    "source ../helpers.sh\n",
    "init_exercise"
   ]
  },
  {
   "cell_type": "code",
   "execution_count": null,
   "metadata": {},
   "outputs": [],
   "source": [
    "## only execute in case of (serious) trouble ##\n",
    "## it will delete your entire work directory ##\n",
    "reset"
   ]
  },
  {
   "cell_type": "markdown",
   "metadata": {},
   "source": [
    "#### Important Remark:"
   ]
  },
  {
   "cell_type": "code",
   "execution_count": 2,
   "metadata": {
    "scrolled": true
   },
   "outputs": [
    {
     "name": "stdout",
     "output_type": "stream",
     "text": [
      "[master 2e1101d] Metal Music added\n",
      " 2 files changed, 2 insertions(+)\n",
      "[master 1b4ca6a] Classical Music added\n",
      " 2 files changed, 2 insertions(+), 2 deletions(-)\n",
      "\n",
      "Your commits so far:\n",
      "\n",
      "\u001b[33mcommit 1b4ca6ac9064ec7039eba0c2f5c786e8b1cc7fe7\u001b[m\u001b[33m (\u001b[m\u001b[1;36mHEAD -> \u001b[m\u001b[1;32mmaster\u001b[m\u001b[33m)\u001b[m\n",
      "Author: juckerj <jonas.jucker@env.ethz.ch>\n",
      "Date:   Tue Mar 23 09:42:20 2021 +0100\n",
      "\n",
      "    Classical Music added\n",
      "\n",
      "\u001b[33mcommit 2e1101df82220b121ab1b528b165235b60b9c866\u001b[m\n",
      "Author: juckerj <jonas.jucker@env.ethz.ch>\n",
      "Date:   Tue Mar 23 09:42:20 2021 +0100\n",
      "\n",
      "    Metal Music added\n",
      "\n",
      "\u001b[33mcommit 8e1a5a57db9fbd9f0a5e4053dd8d7db23171b6d9\u001b[m\n",
      "Author: juckerj <jonas.jucker@env.ethz.ch>\n",
      "Date:   Tue Mar 23 09:42:20 2021 +0100\n",
      "\n",
      "    add happy-hour\n",
      "\n",
      "\u001b[33mcommit 9a41bb669e3200067586cb357118a0e44d58276e\u001b[m\n",
      "Author: juckerj <jonas.jucker@env.ethz.ch>\n",
      "Date:   Tue Mar 23 09:42:20 2021 +0100\n",
      "\n",
      "    add opening time\n",
      "\n",
      "Your flyers:\n",
      "\n",
      "flyer_A\tflyer_B\n"
     ]
    }
   ],
   "source": [
    "# this line will setup a simple Git repository for you\n",
    "init_broken_repo"
   ]
  },
  {
   "cell_type": "markdown",
   "metadata": {},
   "source": [
    "To see the flyers text, follow the instructions below:\n",
    "   * Click on *File* -> *Open* in the headers section of the notebook\n",
    "   * Go to folder *work* and enter *party_planning*\n",
    "   * Open *flyer_A* and *flyer_B*\n",
    "   \n",
    "As you can see, the music at both of our parties is *Classical Music*.\n",
    "\n",
    "Initially we planned to play *Metal Music* on both of our parties (see output above),  \n",
    "but had to cancel it because of our neighbors.\n",
    "\n",
    "Our neighbors were loud too last night, so we decide to play *Metal Music*.\n",
    "To not do the work twice, we want to reuse the flyers we designed in the first place.\n",
    "\n",
    "We can use `git checkout` to get any version of a file along its Git history.\n",
    "\n",
    "Simply execute `git checkout speficic_commit_hash`.\n",
    "\n",
    "Let's try it out for flyer_A first!\n"
   ]
  },
  {
   "cell_type": "code",
   "execution_count": null,
   "metadata": {},
   "outputs": [],
   "source": [
    "# checkout the version of flyer_A at commit: Metal Music added\n",
    "# \"git checkout commit_hash file_to_checkout\"\n"
   ]
  },
  {
   "cell_type": "markdown",
   "metadata": {},
   "source": [
    "Refresh the jupyter notebook page showing flyer_A and have a look at it.\n",
    "You see, we now play Heavy Metal again.\n",
    "\n",
    "Do the same for flyer_B as well."
   ]
  },
  {
   "cell_type": "code",
   "execution_count": null,
   "metadata": {},
   "outputs": [],
   "source": [
    "# checkout flyer_B at commit Metal Music added\n",
    "\n"
   ]
  },
  {
   "cell_type": "code",
   "execution_count": null,
   "metadata": {},
   "outputs": [],
   "source": [
    "# check if git tracked our changes\n",
    "\n",
    "# commit our updated flyers (the git add was done automatically as part of git checkout)\n"
   ]
  },
  {
   "cell_type": "code",
   "execution_count": null,
   "metadata": {},
   "outputs": [],
   "source": [
    "# git log to see the Git-history\n"
   ]
  },
  {
   "cell_type": "markdown",
   "metadata": {},
   "source": [
    "Every *commit hash* is unique, so you can checkout files back in time **and** across different branches.\n",
    "\n",
    "All of a sudden we decide to not play music at party B. Therefore\n",
    "checkout flyer_B at commit \"add happy-hour\""
   ]
  },
  {
   "cell_type": "code",
   "execution_count": null,
   "metadata": {},
   "outputs": [],
   "source": [
    "# checkout flyer_B at right commit\n",
    "\n",
    "# commit flyer_B\n"
   ]
  },
  {
   "cell_type": "code",
   "execution_count": null,
   "metadata": {},
   "outputs": [],
   "source": [
    "# execute git log --oneline for short summary\n"
   ]
  },
  {
   "cell_type": "markdown",
   "metadata": {},
   "source": [
    "Your output should look similar to:\n",
    "```\n",
    "ba7fe4c (HEAD -> master) no music at party B\n",
    "a4a4680 restore Metal Music\n",
    "d0f3bb8 Classical Music added\n",
    "7ac8e02 Metal Music added\n",
    "f44e084 add happy-hour\n",
    "8cc15a0 add opening time\n",
    "973be54 add flyer_B\n",
    "31793c8 add flyer_A\n",
    "```\n"
   ]
  },
  {
   "cell_type": "markdown",
   "metadata": {},
   "source": [
    "### Merge two branches (without merge conflicts)\n",
    "In this part of the excercise we continue writing on our *flyer_A*.\n",
    "There are two sections in flyer_A to modify in a seperate branch:\n",
    "   * dresscode\n",
    "   * VIP-guests"
   ]
  },
  {
   "cell_type": "code",
   "execution_count": null,
   "metadata": {},
   "outputs": [],
   "source": [
    "# checkout a new branch for the dresscode\n",
    "\n"
   ]
  },
  {
   "cell_type": "markdown",
   "metadata": {},
   "source": [
    "To edit the flyers text, follow the instructions below:\n",
    "   * Click on *File* -> *Open* in the headers section of the notebook\n",
    "   * Go to folder *work* and enter *party_planning*\n",
    "   * Open *flyer_A*\n",
    "   * Edit text\n",
    "   \n",
    "**Do not forget to save flyer_A before coming back here**"
   ]
  },
  {
   "cell_type": "code",
   "execution_count": null,
   "metadata": {},
   "outputs": [],
   "source": [
    "# make commit\n"
   ]
  },
  {
   "cell_type": "code",
   "execution_count": null,
   "metadata": {},
   "outputs": [],
   "source": [
    "# go back to branch master using git checkout\n",
    "\n"
   ]
  },
  {
   "cell_type": "code",
   "execution_count": null,
   "metadata": {},
   "outputs": [],
   "source": [
    "# checkout a new branch for the VIP-guests\n"
   ]
  },
  {
   "cell_type": "markdown",
   "metadata": {},
   "source": [
    "**To edit the flyers, follow the instructions above!**"
   ]
  },
  {
   "cell_type": "code",
   "execution_count": null,
   "metadata": {},
   "outputs": [],
   "source": [
    "# make commit\n"
   ]
  },
  {
   "cell_type": "code",
   "execution_count": null,
   "metadata": {},
   "outputs": [],
   "source": [
    "# go back to branch master\n"
   ]
  },
  {
   "cell_type": "markdown",
   "metadata": {},
   "source": [
    "`git branch -a` should output something like that:\n",
    "```\n",
    "  VIP\n",
    "  dresscode\n",
    "* master\n",
    "```"
   ]
  },
  {
   "cell_type": "markdown",
   "metadata": {},
   "source": [
    "Let's put the pieces of the flyer together. For that we use the *git merge* functionality.  \n",
    "It allows us to merge files with different text from different branches.\n",
    "\n",
    "\n",
    "To merge all modification from branch *VIP* into branch *master* we type:\n",
    "\n",
    "`git merge VIP`"
   ]
  },
  {
   "cell_type": "code",
   "execution_count": null,
   "metadata": {},
   "outputs": [],
   "source": [
    "# merge VIP into master\n"
   ]
  },
  {
   "cell_type": "markdown",
   "metadata": {},
   "source": [
    "Git just performed a so called *Fast-forward merge*. This means, that there is a linear path\n",
    "between the two merged branches. See the slides for more detailed information about it. \n",
    "\n",
    "**Most important:**  \n",
    "Git does **NOT** create an additional commit to perform the merge. It only appends the commit from the branch *VIP* to the HEAD."
   ]
  },
  {
   "cell_type": "code",
   "execution_count": null,
   "metadata": {},
   "outputs": [],
   "source": [
    "# git log to see the added commit\n"
   ]
  },
  {
   "cell_type": "code",
   "execution_count": null,
   "metadata": {},
   "outputs": [],
   "source": [
    "# display content of flyer_A usin \"cat\"\n"
   ]
  },
  {
   "cell_type": "markdown",
   "metadata": {},
   "source": [
    "**As you see, we succesfully took over our changes from branch VIP**\n",
    "\n",
    "Let's do the same, but for the modifications in branch *dresscode*"
   ]
  },
  {
   "cell_type": "code",
   "execution_count": null,
   "metadata": {},
   "outputs": [],
   "source": [
    "# create the new branch \"dresscode\" and edit flyer_A\n"
   ]
  },
  {
   "cell_type": "code",
   "execution_count": null,
   "metadata": {},
   "outputs": [],
   "source": [
    "# commit changes and go back to branch \"master\"\n"
   ]
  },
  {
   "cell_type": "code",
   "execution_count": null,
   "metadata": {},
   "outputs": [],
   "source": [
    "# merge dresscode into master\n"
   ]
  },
  {
   "cell_type": "markdown",
   "metadata": {},
   "source": [
    "For this merge Git performs a so-called *3-way merge*, because the path between the two branches is not linear anymore due to the merge of branch *VIP*.  \n",
    "Therefore Git creates a *merge-commit* to bring the two histories together.\n"
   ]
  },
  {
   "cell_type": "code",
   "execution_count": null,
   "metadata": {},
   "outputs": [],
   "source": []
  },
  {
   "cell_type": "code",
   "execution_count": null,
   "metadata": {},
   "outputs": [],
   "source": [
    "# display content of flyer_A using \"cat\"\n"
   ]
  },
  {
   "cell_type": "markdown",
   "metadata": {},
   "source": [
    "Your git log looks the following:\n",
    "```\n",
    "82414b3 (HEAD -> master) merge VIP\n",
    "aa563f9 (dresscode) add dresscode\n",
    "8d56ebc (VIP) add VIP\n",
    "a74572e Classical Music added\n",
    "56fab47 Metal Music added\n",
    "f6ecd48 add happy-hour\n",
    "51448ea add opening time\n",
    "a39a076 add flyer_B\n",
    "a0ffdf8 add flyer_A\n",
    "```"
   ]
  },
  {
   "cell_type": "markdown",
   "metadata": {},
   "source": [
    "### Delete unused branches\n",
    "\n",
    "After merging it is good practice to delete merged branches.  \n",
    "\n",
    "The command `git branch -d branch_to_delete` can do this."
   ]
  },
  {
   "cell_type": "code",
   "execution_count": null,
   "metadata": {},
   "outputs": [],
   "source": [
    "# delete branch VIP\n"
   ]
  },
  {
   "cell_type": "code",
   "execution_count": null,
   "metadata": {},
   "outputs": [],
   "source": [
    "# delete branch dresscode\n"
   ]
  },
  {
   "cell_type": "markdown",
   "metadata": {},
   "source": [
    "**Congrats, your Git skills are getting better and better!**"
   ]
  }
 ],
 "metadata": {
  "kernelspec": {
   "display_name": "Teaching - bash",
   "language": "bash",
   "name": "bash"
  },
  "language_info": {
   "codemirror_mode": "shell",
   "file_extension": ".sh",
   "mimetype": "text/x-sh",
   "name": "bash"
  }
 },
 "nbformat": 4,
 "nbformat_minor": 5
}
