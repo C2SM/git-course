{
 "cells": [
  {
   "cell_type": "markdown",
   "id": "frequent-pension",
   "metadata": {},
   "source": [
    "## Exercise 3\n",
    "\n",
    "## Goals\n",
    "   * Restore version of files at some point in the Git history\n",
    "   * Merge two branches (without merge conflicts)\n",
    "   * Delete unused branches\n",
    "   \n",
    "## Structure\n",
    "In this exercise we will continue working on planning the two-day conference using schedule_day1 and schedule_day2 for planning each day. First we need to revert the schedules to a specific commit. Then we modify the same file, but in different branches. Finally, we merge all our changes into branch main.\n",
    "\n",
    "Again the exercise consists of short descriptions about a specific git command (less detailed than in previous exercises), followed by a hands-on part for you to execute appropiate git commands.\n",
    "\n",
    "In order to allow a smooth exercise, there are some functions written by C2SM in the file *helpers.sh* that are **NOT** part of Git. For this exercise we us the following functions from that file:\n",
    "   * **init_exercise:** It will create the *work* directory and navigate into it \n",
    "   * **reset:** It will delete the *work* folder and enable you a clean restart of the exercise in case you completely mess it up\n",
    "   * **init_broken_repo:** setup a Git repository as in exercise 2, but with commits, that we need to revert first.\n",
    "\n",
    "_**Reminder:** all text enclosed with `<>` denotes a placeholder to be replaced by a specific string appropriate in your context._\n",
    "\n",
    "_**Reminder:** Always run `git commit` and `git merge` with a git message `-m <meaningful_message>`. Otherwise git may try to open the git editor, which does not work on jupyter notebook and will break your current session._\n",
    "\n",
    "### Initialization"
   ]
  },
  {
   "cell_type": "code",
   "execution_count": null,
   "id": "magnetic-price",
   "metadata": {},
   "outputs": [],
   "source": [
    "# check current directory with \"pwd\"\n",
    "pwd\n",
    "# go to folder of this exercise using \"cd\"\n"
   ]
  },
  {
   "cell_type": "code",
   "execution_count": null,
   "id": "cleared-wellington",
   "metadata": {},
   "outputs": [],
   "source": [
    "# execute this code at the very beginning to initialize the exercise properly\n",
    "source ../helpers.sh\n",
    "init_exercise"
   ]
  },
  {
   "cell_type": "markdown",
   "id": "listed-shell",
   "metadata": {},
   "source": [
    "***\n",
    "### Optional: clear notebook and restart\n",
    "**In case you mess up your notebook completely,  \n",
    "execute** ***reset*** **in the following cell. This will restore a clean environment!**\n"
   ]
  },
  {
   "cell_type": "code",
   "execution_count": null,
   "id": "genuine-companion",
   "metadata": {},
   "outputs": [],
   "source": [
    "## only execute in case of (serious) trouble ##\n",
    "## it will delete your entire work directory ##\n",
    "reset"
   ]
  },
  {
   "cell_type": "markdown",
   "id": "average-while",
   "metadata": {},
   "source": [
    "***\n",
    "## Exercise\n",
    "\n",
    "### Restore versions of files at some point in the Git history"
   ]
  },
  {
   "cell_type": "code",
   "execution_count": null,
   "id": "oriented-labor",
   "metadata": {},
   "outputs": [],
   "source": [
    "# this line will setup a simple Git repository for you\n",
    "init_broken_repo"
   ]
  },
  {
   "cell_type": "markdown",
   "id": "german-tenant",
   "metadata": {},
   "source": [
    "To see the schedules or make changes we use the Jupyter Notebook again:\n",
    "   * On the start page go to folder *~/Exercise_3/work/conference_planning*\n",
    "   * Open *schedule_day1* and *schedule_day2*\n",
    "   \n",
    "As you can see, the schedules of both days now start with talks.\n",
    "\n",
    "Initially we planned poster sessions in the mornings but the invited professors had only time in the morning to give their talks, so we changed the poster sessions to talks.\n",
    "\n",
    "However, the professors have now cancelled their talks and we want to have the poster sessions in the morning again.\n",
    "\n",
    "To not do the work twice, we want to reuse the old schedules we designed in the first place.\n",
    "\n",
    "We can use `git restore` to get any version of a file along its Git history.\n",
    "\n",
    "Simply execute `git restore --source=<specific_commit_hash> <your_schedule>`.\n",
    "\n",
    "Let's try it out for schedule_day1 first!"
   ]
  },
  {
   "cell_type": "code",
   "execution_count": null,
   "id": "photographic-reliance",
   "metadata": {},
   "outputs": [],
   "source": [
    "# restore the version of schedule_day1 before commit: \"Change poster sessions to talks\"\n",
    "# \"git restore --source=<commit_hash> <file_to_restore>\"\n",
    "# (Alternative - includes 'git add': git checkout <commit_hash> <file_to_restore>)\n"
   ]
  },
  {
   "cell_type": "markdown",
   "id": "realistic-worship",
   "metadata": {},
   "source": [
    "Refresh the jupyter notebook page showing schedule_day1 and have a look at it.\n",
    "You see, we now have a poster session in the morning again.\n",
    "\n",
    "Do the same for schedule_day2."
   ]
  },
  {
   "cell_type": "code",
   "execution_count": null,
   "id": "political-ontario",
   "metadata": {},
   "outputs": [],
   "source": [
    "# restore schedule_day2 before commit \"Change poster sessions to talks\"\n"
   ]
  },
  {
   "cell_type": "code",
   "execution_count": null,
   "id": "changing-romance",
   "metadata": {},
   "outputs": [],
   "source": [
    "# check if git tracked our changes\n",
    "\n",
    "# add and commit our updated schedules\n"
   ]
  },
  {
   "cell_type": "code",
   "execution_count": null,
   "id": "romantic-million",
   "metadata": {},
   "outputs": [],
   "source": [
    "# git log to see the Git-history\n"
   ]
  },
  {
   "cell_type": "markdown",
   "id": "congressional-hands",
   "metadata": {},
   "source": [
    "Every *commit hash* is unique, so you can always go to any version of the tracked files, *also* across different branches.\n",
    "\n",
    "All of a sudden we decide to not have the workshop on day 1 anymore. Therefore\n",
    "restore schedule_day1 before the commit \"Add workshops\""
   ]
  },
  {
   "cell_type": "code",
   "execution_count": null,
   "id": "micro-uncle",
   "metadata": {},
   "outputs": [],
   "source": [
    "# restore schedule_day1 at right commit\n",
    "\n",
    "# commit schedule_day1\n"
   ]
  },
  {
   "cell_type": "code",
   "execution_count": null,
   "id": "distributed-corporation",
   "metadata": {},
   "outputs": [],
   "source": [
    "# execute git log --oneline for short summary\n"
   ]
  },
  {
   "cell_type": "markdown",
   "id": "great-latest",
   "metadata": {},
   "source": [
    "Your output should look similar to:\n",
    "```\n",
    "b7bd111 (HEAD -> main) Remove workshop on day1\n",
    "f6c3f04 Change talks back to poster sessions\n",
    "5889296 Change poster sessions to talks\n",
    "464fc92 Add workshop\n",
    "e53b1e0 Add coffee break\n",
    "f1b23c1 Add poster sessions in the morning\n",
    "f636890 Add schedule_day2\n",
    "206f724 Add schedule_day1\n",
    "1c1e740 Changed poster sessions to talks\n",
    "154f0dc Add coffee break\n",
    "a98abe7 Add poster sessions in the morning\n",
    "ca117ca Add schedule_day2\n",
    "b82e094 Add schedule_day1\n",
    "```\n"
   ]
  },
  {
   "cell_type": "markdown",
   "id": "infrared-catalog",
   "metadata": {},
   "source": [
    "### Merge two branches (without merge conflicts)\n",
    "In this part of the excercise we continue writing on *schedule_day1*.\n",
    "There are two sections in schedule_day1 to modify in a seperate branch:\n",
    "   * daily-program\n",
    "   * evening activity\n",
    "   \n",
    "Note: Try to avoid merge conflicts by not changing the same part of a file in two branches you want to merge (usually the main branch and a branch you plan to merge into the main branch). There are *of course* ways to deal with merge conflicts but this is not part of the course. If you just follow the descriptions below, you should not run into a merge conflict."
   ]
  },
  {
   "cell_type": "code",
   "execution_count": null,
   "id": "smooth-bunch",
   "metadata": {},
   "outputs": [],
   "source": [
    "# switch to a new branch for the evening activity\n"
   ]
  },
  {
   "cell_type": "markdown",
   "id": "polish-print",
   "metadata": {},
   "source": [
    "To edit the schedules use jupyter notebook as described before.\n",
    "   \n",
    "**Do not forget to save schedule_day1 before coming back here**"
   ]
  },
  {
   "cell_type": "code",
   "execution_count": null,
   "id": "infinite-retirement",
   "metadata": {},
   "outputs": [],
   "source": [
    "# make commit\n"
   ]
  },
  {
   "cell_type": "code",
   "execution_count": null,
   "id": "adjusted-specification",
   "metadata": {},
   "outputs": [],
   "source": [
    "# go back to the main branch using git switch\n"
   ]
  },
  {
   "cell_type": "markdown",
   "id": "6d478dbb",
   "metadata": {},
   "source": [
    "Now create another brunch for adding more to the daily program and add at least one other event to the daily program."
   ]
  },
  {
   "cell_type": "code",
   "execution_count": null,
   "id": "unlikely-carter",
   "metadata": {},
   "outputs": [],
   "source": [
    "# switch to a new branch and add more events to the daily program\n"
   ]
  },
  {
   "cell_type": "markdown",
   "id": "applicable-alberta",
   "metadata": {},
   "source": [
    "**To edit the schedules, follow the instructions above!**"
   ]
  },
  {
   "cell_type": "code",
   "execution_count": null,
   "id": "responsible-revolution",
   "metadata": {},
   "outputs": [],
   "source": [
    "# make commit\n"
   ]
  },
  {
   "cell_type": "code",
   "execution_count": null,
   "id": "cutting-obligation",
   "metadata": {},
   "outputs": [],
   "source": [
    "# go back to branch main and run \"git branch\"\n"
   ]
  },
  {
   "cell_type": "markdown",
   "id": "toxic-toolbox",
   "metadata": {},
   "source": [
    "`git branch` should output something like that:\n",
    "```\n",
    "  evening_activity\n",
    "* main\n",
    "  daily_program\n",
    "```"
   ]
  },
  {
   "cell_type": "markdown",
   "id": "integral-transition",
   "metadata": {},
   "source": [
    "Let's put the pieces of the schedules together. For that we use the *git merge* functionality.  \n",
    "It allows us to merge files with different text from different branches.\n",
    "\n",
    "\n",
    "To merge all modification from branch *evening_activity* into branch *main* we type:\n",
    "\n",
    "`git merge evening_activity`"
   ]
  },
  {
   "cell_type": "code",
   "execution_count": null,
   "id": "aboriginal-foundation",
   "metadata": {},
   "outputs": [],
   "source": [
    "# merge evening activity into main\n"
   ]
  },
  {
   "cell_type": "markdown",
   "id": "handy-disaster",
   "metadata": {},
   "source": [
    "Git just performed a so called *Fast-forward merge*. This means, that there is a linear path\n",
    "between the two merged branches. See the slides for more detailed information about it. \n",
    "\n",
    "**Most important:**  \n",
    "Git does **NOT** create an additional commit to perform the merge. It only appends the commit from the branch *evening_activity* to the HEAD."
   ]
  },
  {
   "cell_type": "code",
   "execution_count": null,
   "id": "natural-affiliation",
   "metadata": {},
   "outputs": [],
   "source": [
    "# git log to see the added commit\n"
   ]
  },
  {
   "cell_type": "code",
   "execution_count": null,
   "id": "proud-bernard",
   "metadata": {},
   "outputs": [],
   "source": [
    "# display content of schedule_day1 using \"cat\"\n"
   ]
  },
  {
   "cell_type": "markdown",
   "id": "blocked-burke",
   "metadata": {},
   "source": [
    "**As you see, we succesfully took over our changes from branch evening_activity**\n",
    "\n",
    "Let's do the same, but for the modifications in branch *daily_program*"
   ]
  },
  {
   "cell_type": "code",
   "execution_count": null,
   "id": "light-property",
   "metadata": {},
   "outputs": [],
   "source": [
    "# merge daily_program into main \n",
    "# Important: add a merge message (-m \"Merge daily_program\") or your jupyter notebook may crash\n"
   ]
  },
  {
   "cell_type": "markdown",
   "id": "whole-brand",
   "metadata": {},
   "source": [
    "For this merge, Git performs a so-called *3-way merge*, because the path between the two branches is not linear anymore due to the merge of branch *evening_activity*.\n",
    "Therefore Git creates a *merge-commit* to bring the two histories together.\n"
   ]
  },
  {
   "cell_type": "code",
   "execution_count": null,
   "id": "amino-academy",
   "metadata": {},
   "outputs": [],
   "source": [
    "# display content of schedule day1 using \"cat\"\n"
   ]
  },
  {
   "cell_type": "code",
   "execution_count": null,
   "id": "metric-rates",
   "metadata": {},
   "outputs": [],
   "source": [
    "# git log --oneline to see the added commit\n"
   ]
  },
  {
   "cell_type": "markdown",
   "id": "promising-morning",
   "metadata": {},
   "source": [
    "Your git log looks the following:\n",
    "```\n",
    "c0d0459 (HEAD -> main) Merge daily_program\n",
    "b1be3b4 (daily_program) Add talk\n",
    "4d93eac (evening_activity) Add evening activity\n",
    "dd09add No more workshop\n",
    "cc345c6 Revert poster sessions\n",
    "ebc8d06 Change poster sessions to talks\n",
    "56c65e8 Add workshops\n",
    "e0ced97 Add coffee break\n",
    "90b9b5e Add poster sessions in the morning\n",
    "2a00ec0 Add schedule_day2\n",
    "20be4d2 Add schedule_day1\n",
    "```"
   ]
  },
  {
   "cell_type": "markdown",
   "id": "motivated-entertainment",
   "metadata": {},
   "source": [
    "### Delete unused branches\n",
    "\n",
    "After merging it is good practice to delete merged branches.  \n",
    "\n",
    "The command `git branch -d <branch_to_delete>` can do this."
   ]
  },
  {
   "cell_type": "code",
   "execution_count": null,
   "id": "figured-worcester",
   "metadata": {},
   "outputs": [],
   "source": [
    "# delete branch evening_activity\n"
   ]
  },
  {
   "cell_type": "code",
   "execution_count": null,
   "id": "subject-logic",
   "metadata": {},
   "outputs": [],
   "source": [
    "# delete branch daily_program\n"
   ]
  },
  {
   "cell_type": "markdown",
   "id": "grateful-niagara",
   "metadata": {},
   "source": [
    "**Congrats, your Git skills are getting better and better!**"
   ]
  }
 ],
 "metadata": {
  "kernelspec": {
   "display_name": "Bash",
   "language": "bash",
   "name": "bash"
  },
  "language_info": {
   "codemirror_mode": "shell",
   "file_extension": ".sh",
   "mimetype": "text/x-sh",
   "name": "bash"
  }
 },
 "nbformat": 4,
 "nbformat_minor": 5
}
