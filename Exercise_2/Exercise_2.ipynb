{
 "cells": [
  {
   "cell_type": "markdown",
   "id": "crude-martial",
   "metadata": {},
   "source": [
    "## Exercise 2\n",
    "\n",
    "## Goals\n",
    "   * Learn how to work with branches and switch between them using `git checkout`\n",
    "   \n",
    "## Structure\n",
    "In this exercise we will work on flyers (flyer_A and flyer_B) for two parties (Party A and Party B). The flyers should contain information about the location, music, door opening and so on. For adding the information to the flyers we work in separate branches to not mix things up.  \n",
    "Again, the exercise consists of short descriptions about a specific Git command, followed by a practical part where you can execute appropriate Git commands.\n",
    "\n",
    "In order to allow a smooth exercise, there are some functions written by C2SM in the file *helpers.sh* that are **NOT** part of Git. For this exercise we use the following functions from that file:\n",
    "   * **init_exercise:** It will create the *work* directory and navigate into it \n",
    "   * **reset:** It will delete the *work* folder and enable you a clean restart of the exercise in case you completely mess it up\n",
    "   * **init_simple_repo:** setup a Git repository containing a first version of the flyer_A and flyer_B in branch *master*.\n",
    "   \n",
    "_**Reminder:** all text enclosed with `<>` denotes a placeholder to be replaced by a specific string appropriate in your context._\n",
    "\n",
    "### Initialization"
   ]
  },
  {
   "cell_type": "code",
   "execution_count": null,
   "id": "formal-wound",
   "metadata": {},
   "outputs": [],
   "source": [
    "# check current directory with \"pwd\"\n",
    "pwd\n",
    "# go to folder of this exercise using \"cd\"\n"
   ]
  },
  {
   "cell_type": "code",
   "execution_count": null,
   "id": "logical-malawi",
   "metadata": {},
   "outputs": [],
   "source": [
    "# execute this code at the very beginning to initialize the exercise properly\n",
    "source ../helpers.sh\n",
    "init_exercise"
   ]
  },
  {
   "cell_type": "markdown",
   "id": "continent-court",
   "metadata": {},
   "source": [
    "***\n",
    "### Optional: clear notebook and restart\n",
    "**In case you mess up your notebook completely,  \n",
    "execute** ***reset*** **in the following cell. This will restore a clean environment!**\n"
   ]
  },
  {
   "cell_type": "code",
   "execution_count": null,
   "id": "accessible-municipality",
   "metadata": {},
   "outputs": [],
   "source": [
    "## only execute in case of (serious) trouble ##\n",
    "## it will delete your entire work directory ##\n",
    "reset"
   ]
  },
  {
   "cell_type": "markdown",
   "id": "rotary-smile",
   "metadata": {},
   "source": [
    "***\n",
    "## Exercise\n",
    "\n",
    "### Learn how to work with branches and switch between them using git checkout\n",
    "In the output above we see two flyers:\n",
    "   * flyer_A\n",
    "   * flyer_B\n",
    "   \n",
    "Let's first have a look at them using the *cat* command:"
   ]
  },
  {
   "cell_type": "code",
   "execution_count": null,
   "id": "liked-publicity",
   "metadata": {},
   "outputs": [],
   "source": [
    "# this line will setup a simple Git repository for you\n",
    "init_simple_repo"
   ]
  },
  {
   "cell_type": "code",
   "execution_count": null,
   "id": "embedded-looking",
   "metadata": {},
   "outputs": [],
   "source": [
    "# display content with cat: \"cat <your_flyer>\"\n"
   ]
  },
  {
   "cell_type": "markdown",
   "id": "manual-morning",
   "metadata": {},
   "source": [
    "As you see, there is not much information there yet!  \n",
    "\n",
    "More information for our guests is needed.\n",
    "To keep everything in order we do this in two different Git branches:\n",
    "one each for flyer_A and flyer_B. \n",
    "\n",
    "**So let's start!**"
   ]
  },
  {
   "cell_type": "code",
   "execution_count": null,
   "id": "lesbian-military",
   "metadata": {},
   "outputs": [],
   "source": [
    "# create a new branch for flyer_A\n",
    "# use 'git checkout -b \"<meaningful_branch_name A>\"' to create a new branch\n",
    "\n"
   ]
  },
  {
   "cell_type": "markdown",
   "id": "appreciated-elements",
   "metadata": {},
   "source": [
    "From now on, we do all modifications of the flyers directly via Jupyter Notebooks.\n",
    "   * Go to folder *work* and enter *party_planning*\n",
    "   * Open *flyer_A*\n",
    "   * Add more information to your flyer, i.e. music, dresscode, etc.\n",
    "   \n",
    "**Do not forget to save your modifications before coming back!**\n",
    "\n",
    "After saving, we run `git status` to see if Git tracked our changes."
   ]
  },
  {
   "cell_type": "code",
   "execution_count": null,
   "id": "powered-selling",
   "metadata": {},
   "outputs": [],
   "source": [
    "# see if git tracked our changes\n",
    "\n"
   ]
  },
  {
   "cell_type": "markdown",
   "id": "decent-polls",
   "metadata": {},
   "source": [
    "The output should looks as follows:\n",
    "```\n",
    "On branch party_A\n",
    "Changes not staged for commit:\n",
    "  (use \"git add <file>...\" to update what will be committed)\n",
    "  (use \"git restore <file>...\" to discard changes in working directory)\n",
    "\tmodified:   flyer_A\n",
    "\n",
    "no changes added to commit (use \"git add\" and/or \"git commit -a\")\n",
    "```\n",
    "\n",
    "Do a commit with these changes..."
   ]
  },
  {
   "cell_type": "code",
   "execution_count": null,
   "id": "recent-cookbook",
   "metadata": {},
   "outputs": [],
   "source": [
    "# add flyer_A and commit it\n"
   ]
  },
  {
   "cell_type": "markdown",
   "id": "stylish-contemporary",
   "metadata": {},
   "source": [
    "For the planning of the other party we want to use another Git branch. To not lose track of all the different branches, Git provides the   \n",
    "`git branch`\n",
    "to see all branches of a repository.\n",
    "The * indicates our current branch."
   ]
  },
  {
   "cell_type": "code",
   "execution_count": null,
   "id": "colonial-language",
   "metadata": {},
   "outputs": [],
   "source": [
    "# see all branches of our Git repository\n"
   ]
  },
  {
   "cell_type": "markdown",
   "id": "stunning-illinois",
   "metadata": {},
   "source": [
    "We can switch easily between these branches using the `git checkout` function.\n",
    "Don't worry -> Git will keep all your work done in this branch."
   ]
  },
  {
   "cell_type": "code",
   "execution_count": null,
   "id": "therapeutic-permit",
   "metadata": {},
   "outputs": [],
   "source": [
    "# go back to branch master using \"git checkout master\"\n",
    "\n"
   ]
  },
  {
   "cell_type": "markdown",
   "id": "adjacent-angle",
   "metadata": {},
   "source": [
    "Create a new branch for flyer_B and extend the flyer_B in that branch similar as already done for flyer_A"
   ]
  },
  {
   "cell_type": "code",
   "execution_count": null,
   "id": "optional-wisdom",
   "metadata": {},
   "outputs": [],
   "source": [
    "# create a new branch and edit flyer_B\n"
   ]
  },
  {
   "cell_type": "code",
   "execution_count": null,
   "id": "conscious-rugby",
   "metadata": {},
   "outputs": [],
   "source": [
    "# add and commit your changes\n"
   ]
  },
  {
   "cell_type": "code",
   "execution_count": null,
   "id": "proud-smell",
   "metadata": {},
   "outputs": [],
   "source": [
    "# see again all branches of our Git repository\n",
    "\n"
   ]
  },
  {
   "cell_type": "markdown",
   "id": "afraid-norman",
   "metadata": {},
   "source": [
    "The output should look similar to:\n",
    "\n",
    "```\n",
    "  master\n",
    "  party_A\n",
    "* party_B\n",
    "```\n",
    "\n",
    "Said different, our git repository now contains:\n",
    "  * branch `<meaningful_branch_name A>` with modifications of flyer_A\n",
    "  * branch `<meaningful_branch_name B>` with modifications of flyer_B\n",
    "  * branch `master` with the initial version of flyer_A and flyer_B\n",
    "  \n",
    "With `git checkout` it is so easy to jump between these branches and modify our flyers further.\n",
    "To show its capabilities we quickly switch between the branches and see how our flyers change.\n",
    "\n",
    "To output the content of a text file to the terminal you can use `cat <your_flyer>`."
   ]
  },
  {
   "cell_type": "code",
   "execution_count": null,
   "id": "applicable-vocabulary",
   "metadata": {},
   "outputs": [],
   "source": [
    "# display the content of flyer_A and flyer_B using \"cat\"\n"
   ]
  },
  {
   "cell_type": "code",
   "execution_count": null,
   "id": "oriented-attempt",
   "metadata": {},
   "outputs": [],
   "source": [
    "# switch to branch master and do the same again\n"
   ]
  },
  {
   "cell_type": "code",
   "execution_count": null,
   "id": "statutory-green",
   "metadata": {},
   "outputs": [],
   "source": [
    "# switch to the branch not visited yet and display the content of the flyers again\n"
   ]
  }
 ],
 "metadata": {
  "kernelspec": {
   "display_name": "Bash",
   "language": "bash",
   "name": "bash"
  },
  "language_info": {
   "codemirror_mode": "shell",
   "file_extension": ".sh",
   "mimetype": "text/x-sh",
   "name": "bash"
  }
 },
 "nbformat": 4,
 "nbformat_minor": 5
}
