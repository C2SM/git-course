{
 "cells": [
  {
   "cell_type": "markdown",
   "id": "crude-martial",
   "metadata": {},
   "source": [
    "## Exercise 2\n",
    "\n",
    "## Goals\n",
    "   * Learn how to work with branches and switch between them using `git checkout`\n",
    "   \n",
    "## Structure\n",
    "In this exercise we will work on planning a two-day conference with two files containing the schedule for day 1 and 2 (schedule_day2 and schedule_day2). For adding events to the schedules (e.g., planned talks, poster sessions, etc.), we work on separate branches to not mix things up.\n",
    "Again, the exercise consists of short descriptions about a specific Git command, followed by a practical part where you can execute appropriate Git commands.\n",
    "\n",
    "In order to allow a smooth exercise, there are some functions written by C2SM in the file *helpers.sh* that are **NOT** part of Git. For this exercise we use the following functions from that file:\n",
    "   * **init_exercise:** It will create the *work* directory and navigate into it \n",
    "   * **reset:** It will delete the *work* folder and enable you a clean restart of the exercise in case you completely mess it up\n",
    "   * **init_simple_repo:** setup a Git repository containing a first version of schedule_day1 and schedule_day2 on branch *master*.\n",
    "   \n",
    "_**Reminder:** all text enclosed with `<>` denotes a placeholder to be replaced by a specific string appropriate to your context._\n",
    "\n",
    "### Initialization"
   ]
  },
  {
   "cell_type": "code",
   "execution_count": null,
   "id": "formal-wound",
   "metadata": {},
   "outputs": [],
   "source": [
    "# check current directory with \"pwd\"\n",
    "pwd\n",
    "# go to folder of this exercise using \"cd\"\n"
   ]
  },
  {
   "cell_type": "code",
   "execution_count": null,
   "id": "logical-malawi",
   "metadata": {},
   "outputs": [],
   "source": [
    "# execute this code at the very beginning to initialize the exercise properly\n",
    "source ../helpers.sh\n",
    "init_exercise"
   ]
  },
  {
   "cell_type": "markdown",
   "id": "continent-court",
   "metadata": {},
   "source": [
    "***\n",
    "### Optional: clear notebook and restart\n",
    "**In case you mess up your notebook completely,  \n",
    "execute** ***reset*** **in the following cell. This will restore a clean environment!**\n"
   ]
  },
  {
   "cell_type": "code",
   "execution_count": null,
   "id": "accessible-municipality",
   "metadata": {},
   "outputs": [],
   "source": [
    "## only execute in case of (serious) trouble ##\n",
    "## it will delete your entire work directory ##\n",
    "reset"
   ]
  },
  {
   "cell_type": "markdown",
   "id": "rotary-smile",
   "metadata": {},
   "source": [
    "***\n",
    "## Exercise\n",
    "\n",
    "### Learn how to work with branches and switch between them using git checkout\n",
    "In the output above we see two files:\n",
    "   * schedule_day1\n",
    "   * schedule_day2\n",
    "   \n",
    "Let's first have a look at them using the *cat* command:"
   ]
  },
  {
   "cell_type": "code",
   "execution_count": null,
   "id": "liked-publicity",
   "metadata": {},
   "outputs": [],
   "source": [
    "# this line will setup a simple Git repository for you\n",
    "init_simple_repo"
   ]
  },
  {
   "cell_type": "code",
   "execution_count": null,
   "id": "embedded-looking",
   "metadata": {},
   "outputs": [],
   "source": [
    "# display content with cat: \"cat <schedule_dayX>\"\n"
   ]
  },
  {
   "cell_type": "markdown",
   "id": "manual-morning",
   "metadata": {},
   "source": [
    "As you see, there is still a lot of free time available to add talks, poster sessions, breaks etc.\n",
    "\n",
    "To keep everything in order we do this in two different Git branches:\n",
    "one each for schedule_day1 and schedule_day2. \n",
    "\n",
    "**So let's start!**"
   ]
  },
  {
   "cell_type": "code",
   "execution_count": null,
   "id": "lesbian-military",
   "metadata": {},
   "outputs": [],
   "source": [
    "# create a new branch for planning day 1\n",
    "# use 'git checkout -b <meaningful_branch_name A>' to create a new branch\n"
   ]
  },
  {
   "cell_type": "markdown",
   "id": "appreciated-elements",
   "metadata": {},
   "source": [
    "From now on, we do all modifications of the schedules directly via Jupyter Notebooks.\n",
    "   * Check if you are in the correct folder or go to it (~/git-course/Exercise_2/work/conference_planning)\n",
    "   * Open *schedule_day1*\n",
    "   * Add more information to the schedule, i.e. a planned talk or lunch\n",
    "   \n",
    "**Do not forget to save your modifications before coming back!**\n",
    "\n",
    "After saving, we run `git status` to see if Git tracked our changes."
   ]
  },
  {
   "cell_type": "code",
   "execution_count": null,
   "id": "b7028897",
   "metadata": {},
   "outputs": [],
   "source": [
    "# Make changes to schedule_day1\n"
   ]
  },
  {
   "cell_type": "code",
   "execution_count": null,
   "id": "powered-selling",
   "metadata": {},
   "outputs": [],
   "source": [
    "# see if git tracked our changes\n"
   ]
  },
  {
   "cell_type": "markdown",
   "id": "decent-polls",
   "metadata": {},
   "source": [
    "The output should look like:\n",
    "```\n",
    "On branch plan_day1\n",
    "Changes not staged for commit:\n",
    "  (use \"git add <file>...\" to update what will be committed)\n",
    "  (use \"git restore <file>...\" to discard changes in working directory)\n",
    "\tmodified:   schedule_day1\n",
    "\n",
    "no changes added to commit (use \"git add\" and/or \"git commit -a\")\n",
    "```\n",
    "\n",
    "Do a commit with these changes..."
   ]
  },
  {
   "cell_type": "code",
   "execution_count": null,
   "id": "recent-cookbook",
   "metadata": {},
   "outputs": [],
   "source": [
    "# add schedule_day1 and commit it\n"
   ]
  },
  {
   "cell_type": "markdown",
   "id": "stylish-contemporary",
   "metadata": {},
   "source": [
    "For the planning of the other day we want to use another Git branch.\n",
    "To not lose track of all the different branches, Git provides the `git branch` to see all branches of a repository.\n",
    "The * indicates our current branch."
   ]
  },
  {
   "cell_type": "code",
   "execution_count": null,
   "id": "colonial-language",
   "metadata": {},
   "outputs": [],
   "source": [
    "# see all branches of our Git repository\n"
   ]
  },
  {
   "cell_type": "markdown",
   "id": "stunning-illinois",
   "metadata": {},
   "source": [
    "We can switch easily between these branches using the `git checkout` function.\n",
    "Don't worry -> Git will keep all your work done in this branch."
   ]
  },
  {
   "cell_type": "code",
   "execution_count": null,
   "id": "therapeutic-permit",
   "metadata": {},
   "outputs": [],
   "source": [
    "# go back to branch master using \"git checkout master\"\n"
   ]
  },
  {
   "cell_type": "markdown",
   "id": "adjacent-angle",
   "metadata": {},
   "source": [
    "Create a new branch for planning day2 and extend the schedule_day2 in that branch similar as already done for schedule_day1"
   ]
  },
  {
   "cell_type": "code",
   "execution_count": null,
   "id": "optional-wisdom",
   "metadata": {},
   "outputs": [],
   "source": [
    "# create a new branch and edit schedule_day2\n"
   ]
  },
  {
   "cell_type": "code",
   "execution_count": null,
   "id": "conscious-rugby",
   "metadata": {},
   "outputs": [],
   "source": [
    "# add and commit your changes\n"
   ]
  },
  {
   "cell_type": "code",
   "execution_count": null,
   "id": "proud-smell",
   "metadata": {},
   "outputs": [],
   "source": [
    "# see again all branches of our Git repository\n"
   ]
  },
  {
   "cell_type": "markdown",
   "id": "afraid-norman",
   "metadata": {},
   "source": [
    "The output should look similar to:\n",
    "\n",
    "```\n",
    "  master\n",
    "  plan_day1\n",
    "* plan_day2\n",
    "```\n",
    "\n",
    "Our git repository now contains:\n",
    "  * Branch `<meaningful_branch_name A>` with modifications of schedule_day1\n",
    "  * Branch `<meaningful_branch_name B>` with modifications of schedule_day2\n",
    "  * Branch `master` with the initial version of schedule_day1 and schedule_day2\n",
    "  \n",
    "With `git checkout` it is easy to jump between these branches and modify our schedules further.\n",
    "To show its capabilities we quickly switch between the branches and see how our schedules change.\n",
    "\n",
    "To output the content of a text file to the terminal you can use `cat <your_schedule>`."
   ]
  },
  {
   "cell_type": "code",
   "execution_count": null,
   "id": "applicable-vocabulary",
   "metadata": {},
   "outputs": [],
   "source": [
    "# display the content of schedule_day1 and schedule_day2 using \"cat\"\n"
   ]
  },
  {
   "cell_type": "code",
   "execution_count": null,
   "id": "oriented-attempt",
   "metadata": {},
   "outputs": [],
   "source": [
    "# switch to branch master and do the same again\n"
   ]
  },
  {
   "cell_type": "code",
   "execution_count": null,
   "id": "statutory-green",
   "metadata": {},
   "outputs": [],
   "source": [
    "# switch to the branch not visited yet and display the content of the schedules again\n"
   ]
  }
 ],
 "metadata": {
  "kernelspec": {
   "display_name": "Bash",
   "language": "bash",
   "name": "bash"
  },
  "language_info": {
   "codemirror_mode": "shell",
   "file_extension": ".sh",
   "mimetype": "text/x-sh",
   "name": "bash"
  }
 },
 "nbformat": 4,
 "nbformat_minor": 5
}
