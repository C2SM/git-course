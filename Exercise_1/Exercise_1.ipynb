{
 "cells": [
  {
   "cell_type": "markdown",
   "id": "professional-short",
   "metadata": {},
   "source": [
    "## Exercise 1\n",
    "\n",
    "## Goals\n",
    "* Create Git-Repository from scratch\n",
    "* Track changes in files using git add, git status and git commit\n",
    "* Know state of Git-repo using git diff and git log\n",
    "\n",
    "## Structure\n",
    "This exercise consists of short descriptions about a specific git command followed by a hands-on part for you to execute appropiate git commands.  \n",
    "In order to allow a smooth exercise, there are some functions written by C2SM in the file *helpers.sh* that are **NOT** part of Git. For this exercise we us the following function from that file:\n",
    "   * **reset:** It will delete the *work* folder and enable you a clean restart of the exercise in case you completely mess it up\n",
    "   "
   ]
  },
  {
   "cell_type": "code",
   "execution_count": null,
   "id": "foreign-newark",
   "metadata": {},
   "outputs": [],
   "source": [
    "# execute this code at the very beginning to initialize the exercise properly\n",
    "source ../helpers.sh\n",
    "init_exercise"
   ]
  },
  {
   "cell_type": "markdown",
   "id": "exact-personal",
   "metadata": {},
   "source": [
    "#### Important Remark:"
   ]
  },
  {
   "cell_type": "code",
   "execution_count": null,
   "id": "alone-stage",
   "metadata": {},
   "outputs": [],
   "source": [
    "## only execute in case of (serious) trouble ##\n",
    "## it will delete your entire work-directory ##\n",
    "reset"
   ]
  },
  {
   "cell_type": "markdown",
   "id": "southern-aurora",
   "metadata": {},
   "source": [
    "### Create Git-Repository from scratch"
   ]
  },
  {
   "cell_type": "code",
   "execution_count": null,
   "id": "promising-potato",
   "metadata": {},
   "outputs": [],
   "source": [
    "# create new folder and enter it\n"
   ]
  },
  {
   "cell_type": "code",
   "execution_count": null,
   "id": "cross-connection",
   "metadata": {},
   "outputs": [],
   "source": [
    "# use the command \"git init\" to initiate your first Git-repository\n"
   ]
  },
  {
   "cell_type": "markdown",
   "id": "excess-round",
   "metadata": {},
   "source": [
    "You should now get an output similar to that:\n",
    "```\n",
    "Initialized empty Git repository in /Users/juckerj/Desktop/git_course/notebook/work/git_repo/.git/\n",
    "```\n",
    "### Track changes in files using git add and git commit\n",
    "\n",
    "In a next step you will add some files to you repository.  \n",
    "To do so, we make use of the *echo* command in combination with the \">\" operator to direct its\n",
    "output to a file."
   ]
  },
  {
   "cell_type": "code",
   "execution_count": null,
   "id": "coated-underground",
   "metadata": {},
   "outputs": [],
   "source": [
    "# to create a new file use the echo-command\n",
    "# echo \"my text for file\" > file_name\n",
    "\n"
   ]
  },
  {
   "cell_type": "code",
   "execution_count": null,
   "id": "weekly-furniture",
   "metadata": {},
   "outputs": [],
   "source": [
    "# use echo and \">\" again to create another text file\n"
   ]
  },
  {
   "cell_type": "code",
   "execution_count": null,
   "id": "tropical-reliance",
   "metadata": {},
   "outputs": [],
   "source": [
    "# check the status of your Git-repository with \"git status\"\n",
    "\n"
   ]
  },
  {
   "cell_type": "markdown",
   "id": "rocky-analysis",
   "metadata": {},
   "source": [
    "You should now get an output similar to:\n",
    "\n",
    "\n",
    "```On branch master\n",
    "\n",
    "No commits yet\n",
    "\n",
    "Untracked files:\n",
    "  (use \"git add <file>...\" to include in what will be committed)\n",
    "\tfirst_file\n",
    "\tsecond_file\n",
    "\n",
    "nothing added to commit but untracked files present (use \"git add\" to track)\n",
    "```\n",
    "\n",
    "\n",
    "Git recognized these two new files, but the files or not yet included in the repository.\n"
   ]
  },
  {
   "cell_type": "code",
   "execution_count": null,
   "id": "joint-values",
   "metadata": {},
   "outputs": [],
   "source": [
    "# add the files using \"git add\"\n",
    "\n",
    "# check your actions with \"git status\" again\n"
   ]
  },
  {
   "cell_type": "markdown",
   "id": "sound-knight",
   "metadata": {},
   "source": [
    "Your output should looks as follows:\n",
    "\n",
    "```On branch master\n",
    "\n",
    "No commits yet\n",
    "\n",
    "Changes to be committed:\n",
    "  (use \"git rm --cached <file>...\" to unstage)\n",
    "\tnew file:   first_file\n",
    "\tnew file:   second_file\n",
    "```\n",
    "\n",
    "The last thing to do is to commit these files.  \n",
    "\n",
    "Prior to that, Git may require us to tell who we are.\n",
    "To do so execute the lines below with your credentials:\n",
    "```\n",
    "git config --global user.name ”John Doe\"\n",
    "git config --global user.email ”my_name@ethz.ch\"\n",
    "```\n",
    "**Note:** The email must be identical to the one that is used for your GitHub account."
   ]
  },
  {
   "cell_type": "code",
   "execution_count": null,
   "id": "necessary-giant",
   "metadata": {},
   "outputs": [],
   "source": [
    "# tell git who you are\n"
   ]
  },
  {
   "cell_type": "code",
   "execution_count": null,
   "id": "tired-static",
   "metadata": {},
   "outputs": [],
   "source": [
    "# use \"git commit -m \"meaningful message\"\n"
   ]
  },
  {
   "cell_type": "markdown",
   "id": "necessary-theme",
   "metadata": {},
   "source": [
    "**Congrats!**  \n",
    "Your files are included in the Git-repository\n",
    "\n",
    "\n",
    "\n",
    "### Know state of Git-repo using git diff and git log\n",
    "For now we have two files in our Git-repository.  \n",
    "Let's see what happens when we modify them. We therefore use the \">>\" operator to append a new line of text to our files."
   ]
  },
  {
   "cell_type": "code",
   "execution_count": null,
   "id": "pregnant-narrative",
   "metadata": {},
   "outputs": [],
   "source": [
    "# append a new line of text with \"echo\" and \">>\"\n",
    "\n"
   ]
  },
  {
   "cell_type": "code",
   "execution_count": null,
   "id": "traditional-athens",
   "metadata": {},
   "outputs": [],
   "source": [
    "# check state of you repository with \"git status\"\n",
    "\n"
   ]
  },
  {
   "cell_type": "markdown",
   "id": "unique-embassy",
   "metadata": {},
   "source": [
    "Your output should look similar to:\n",
    "\n",
    "```\n",
    "On branch master\n",
    "Changes not staged for commit:\n",
    "  (use \"git add <file>...\" to update what will be committed)\n",
    "  (use \"git restore <file>...\" to discard changes in working directory)\n",
    "\tmodified:   first_file\n",
    "\n",
    "no changes added to commit (use \"git add\" and/or \"git commit -a\")\n",
    "```\n",
    "\n",
    "\n",
    "At some point you forget about the additional line we just added.  \n",
    "Git provides a command to check, what new changes are contained in a file:   \n",
    "**git diff**"
   ]
  },
  {
   "cell_type": "code",
   "execution_count": null,
   "id": "monetary-repository",
   "metadata": {},
   "outputs": [],
   "source": [
    "# see local changes of modified file with \"git diff your_filename\"\n",
    "\n"
   ]
  },
  {
   "cell_type": "markdown",
   "id": "separated-minister",
   "metadata": {},
   "source": [
    "In the output\n",
    "\n",
    "```\n",
    "diff --git a/first_file b/first_file\n",
    "index 3829ab8..a32d2f3 100644\n",
    "--- a/first_file\n",
    "+++ b/first_file\n",
    "@@ -1 +1,2 @@\n",
    " myfirstline\n",
    "+mysecondline\n",
    "```\n",
    "\n",
    "we see a lot of information. But all we care at the moment is the last line:  \n",
    "The + indicates, that we have a new line in our file.\n",
    "\n",
    "\n",
    "Because Git is so easy, we modify the second file as well."
   ]
  },
  {
   "cell_type": "code",
   "execution_count": null,
   "id": "major-sensitivity",
   "metadata": {},
   "outputs": [],
   "source": [
    "# add a new line in the second file as well\n",
    "\n"
   ]
  },
  {
   "cell_type": "markdown",
   "id": "reflected-experience",
   "metadata": {},
   "source": [
    "The next lecture is starting soon, so let's add and commit our changes for safety reasons in Git."
   ]
  },
  {
   "cell_type": "code",
   "execution_count": null,
   "id": "solid-citizenship",
   "metadata": {},
   "outputs": [],
   "source": [
    "# add you two modified files with \"git add\"\n",
    "\n",
    "\n",
    "# git status to check if your action was successful\n",
    "\n"
   ]
  },
  {
   "cell_type": "code",
   "execution_count": null,
   "id": "provincial-singing",
   "metadata": {},
   "outputs": [],
   "source": [
    "# use \"git commit -m \"meaningful message\" to commit your files\n",
    "\n"
   ]
  },
  {
   "cell_type": "markdown",
   "id": "moral-gateway",
   "metadata": {},
   "source": [
    "**Congrats!**   \n",
    "But how many commits do I already have in this repository?\n",
    "Git does all this tracking for us!   \n",
    "\n",
    "*git log* allows us to look back in time and explore what commits are contained in our repository.\n"
   ]
  },
  {
   "cell_type": "code",
   "execution_count": null,
   "id": "surrounded-geography",
   "metadata": {},
   "outputs": [],
   "source": [
    "# type git log go get an overview of the (very short) \n",
    "# life of your repository\n",
    "\n"
   ]
  },
  {
   "cell_type": "markdown",
   "id": "bronze-disabled",
   "metadata": {},
   "source": [
    "Below you see an example how your log could look like:\n",
    "\n",
    "```\n",
    "commit 26c65dd070e995db55ac46d76cdb5052da03f5cb (HEAD -> master)\n",
    "Author: juckerj <jonas.jucker@env.ethz.ch>\n",
    "Date:   Tue Feb 23 17:16:03 2021 +0100\n",
    "\n",
    "    second commit\n",
    "\n",
    "commit 495eb9387e4407f3accb57a8f29d7362eead85bb\n",
    "Author: juckerj <jonas.jucker@env.ethz.ch>\n",
    "Date:   Tue Feb 23 16:09:54 2021 +0100\n",
    "\n",
    "    test\n",
    "```\n",
    "\n",
    "We see the unique hash of each commit, its author as well as the date of the commit.\n",
    "All very useful things as we will see later in this course."
   ]
  }
 ],
 "metadata": {
  "kernelspec": {
   "display_name": "Bash",
   "language": "bash",
   "name": "bash"
  },
  "language_info": {
   "codemirror_mode": "shell",
   "file_extension": ".sh",
   "mimetype": "text/x-sh",
   "name": "bash"
  }
 },
 "nbformat": 4,
 "nbformat_minor": 5
}
