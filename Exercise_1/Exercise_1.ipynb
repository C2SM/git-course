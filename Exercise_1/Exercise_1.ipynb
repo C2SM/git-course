{
 "cells": [
  {
   "cell_type": "markdown",
   "id": "greatest-yugoslavia",
   "metadata": {},
   "source": [
    "## Exercise 1\n",
    "\n",
    "## Goals\n",
    "* Create Git repository from scratch\n",
    "* Track changes in files using `git add`, `git status` and `git commit`\n",
    "* Know state of Git repo using `git diff` and `git log`\n",
    "\n",
    "## Structure\n",
    "This exercise consists of short descriptions about a specific git command, followed by a practical part where you can execute appropriate Git commands. \n",
    "In order to allow a smooth exercise, there are some functions written by C2SM in the file *helpers.sh* that are **NOT** part of Git. For this exercise we use the following functions from that file:\n",
    "   * **init_exercise:** It will create the *work* directory and navigate into it \n",
    "   * **reset:** It will delete the *work* folder and enable you a clean restart of the exercise in case you completely mess it up.\n",
    "   \n",
    "In the following (and all further exercises), all text enclosed with `<>` denotes a placeholder to be replaced by a specific string appropriate in **your** context.\n",
    "\n",
    "### Start exercises in correct folder\n",
    "This exercise (and all further exercises) assume that the shell is already located in the folder of the exercise notebooks. It could happen, for some reason, that the notebook does not by default switch to the folder of the notebook. In that case you need to manually change the directory first in order to do the exercises.\n",
    "\n",
    "If the command  \n",
    "\n",
    "`pwd`  \n",
    "returns something similar to    \n",
    "`/home/juckerj/git-course/Exercise_1`    \n",
    "everything is fine.\n",
    "\n",
    "In case it returns only    \n",
    "`/home/juckerj`  \n",
    "please go the right directory.\n",
    "\n",
    "### Initialization"
   ]
  },
  {
   "cell_type": "code",
   "execution_count": null,
   "id": "aggressive-newcastle",
   "metadata": {},
   "outputs": [],
   "source": [
    "# check current directory with \"pwd\"\n",
    "pwd\n",
    "# go to folder of this exercise using \"cd\"\n"
   ]
  },
  {
   "cell_type": "code",
   "execution_count": null,
   "id": "integrated-popularity",
   "metadata": {},
   "outputs": [],
   "source": [
    "# execute this code at the very beginning to initialize the exercise properly\n",
    "source ../helpers.sh\n",
    "init_exercise"
   ]
  },
  {
   "cell_type": "markdown",
   "id": "handed-solomon",
   "metadata": {},
   "source": [
    "***\n",
    "### Optional: clear notebook and restart\n",
    "**In case you mess up your notebook completely,  \n",
    "execute** ***reset*** **in the following cell. This will restore a clean environment!**"
   ]
  },
  {
   "cell_type": "code",
   "execution_count": null,
   "id": "compressed-tooth",
   "metadata": {},
   "outputs": [],
   "source": [
    "## only execute in case of (serious) trouble ##\n",
    "## it will delete your entire work directory ##\n",
    "reset"
   ]
  },
  {
   "cell_type": "markdown",
   "id": "extreme-elements",
   "metadata": {},
   "source": [
    "***\n",
    "## Exercise"
   ]
  },
  {
   "cell_type": "markdown",
   "id": "defc889c",
   "metadata": {},
   "source": [
    "### Global Git configuration settings\n",
    "Before we start to use Git, we are specifying a few global configuration settings. This has to be done only once and will be saved for all your future sessions.\n",
    "\n",
    "First of all, we need to tell Git who we are.\n",
    "To do so, execute the lines below with your credentials:\n",
    "```\n",
    "git config --global user.name \"<John Doe>\"\n",
    "git config --global user.email \"<my_name@some.domain>\"\n",
    "```\n",
    "**Note:** The email must be identical to the one that is used for your Github account."
   ]
  },
  {
   "cell_type": "code",
   "execution_count": null,
   "id": "b35065ff",
   "metadata": {},
   "outputs": [],
   "source": [
    "# tell Git who you are\n"
   ]
  },
  {
   "cell_type": "markdown",
   "id": "6852b073",
   "metadata": {},
   "source": [
    "At the end of this course, you will learn something about repository managers like Github. Recently, they changed their naming policy for the initial branch from 'master' to 'main'. Therefore, we want to tell Git to also set our default branch name to 'main'. \n",
    "\n",
    "**Note:** Check out the official Git documentation (https://git-scm.com/docs/git-init#Documentation/git-init.txt--bltbranch-namegt)."
   ]
  },
  {
   "cell_type": "code",
   "execution_count": null,
   "id": "narrow-clarity",
   "metadata": {},
   "outputs": [],
   "source": [
    "# Set main as the default branch name\n",
    "git config --global init.defaultBranch main"
   ]
  },
  {
   "cell_type": "markdown",
   "id": "b16c9a3c",
   "metadata": {},
   "source": [
    "### Create Git repository from scratch"
   ]
  },
  {
   "cell_type": "code",
   "execution_count": null,
   "id": "broad-sword",
   "metadata": {},
   "outputs": [],
   "source": [
    "# create new folder (e.g. <git_repo>) and enter it\n"
   ]
  },
  {
   "cell_type": "code",
   "execution_count": null,
   "id": "6cabbc0b",
   "metadata": {},
   "outputs": [],
   "source": [
    "# use the command \"git init\" to initiate your first Git-repository\n",
    "git init"
   ]
  },
  {
   "cell_type": "markdown",
   "id": "affecting-layout",
   "metadata": {},
   "source": [
    "You should now get an output similar to that:\n",
    "```\n",
    "Initialized empty Git repository in /Users/juckerj/Desktop/git_course/Exercise_1/work/git_repo/.git/\n",
    "```\n",
    "### Track changes in files using git add and git commit\n",
    "\n",
    "In a next step you will add some files to you repository.  \n",
    "To do so, we make use of the *echo* command in combination with the \">\" operator to direct its\n",
    "output to a file."
   ]
  },
  {
   "cell_type": "code",
   "execution_count": null,
   "id": "further-joining",
   "metadata": {},
   "outputs": [],
   "source": [
    "# to create a new file use the echo-command\n",
    "# echo \"<my text for file>\" > first_file\n"
   ]
  },
  {
   "cell_type": "code",
   "execution_count": null,
   "id": "authorized-despite",
   "metadata": {},
   "outputs": [],
   "source": [
    "# use echo and \">\" again to create a second text file\n"
   ]
  },
  {
   "cell_type": "code",
   "execution_count": null,
   "id": "expected-humanitarian",
   "metadata": {},
   "outputs": [],
   "source": [
    "# check the status of your Git-repository with \"git status\"\n",
    "\n"
   ]
  },
  {
   "cell_type": "markdown",
   "id": "baking-internet",
   "metadata": {},
   "source": [
    "You should now get an output similar to:\n",
    "\n",
    "\n",
    "```\n",
    "On branch main\n",
    "\n",
    "No commits yet\n",
    "\n",
    "Untracked files:\n",
    "  (use \"git add <file>...\" to include in what will be committed)\n",
    "\tfirst_file\n",
    "\tsecond_file\n",
    "\n",
    "nothing added to commit but untracked files present (use \"git add\" to track)\n",
    "```\n",
    "\n",
    "\n",
    "Git recognized these two new files, but the files are not yet included in the repository.\n"
   ]
  },
  {
   "cell_type": "code",
   "execution_count": null,
   "id": "comfortable-polls",
   "metadata": {},
   "outputs": [],
   "source": [
    "# add the files using \"git add\"\n",
    "\n",
    "# check your actions with \"git status\" again\n"
   ]
  },
  {
   "cell_type": "markdown",
   "id": "developing-reducing",
   "metadata": {},
   "source": [
    "Your output should look as follows:\n",
    "\n",
    "```\n",
    "On branch main\n",
    "\n",
    "No commits yet\n",
    "\n",
    "Changes to be committed:\n",
    "  (use \"git rm --cached <file>...\" to unstage)\n",
    "\tnew file:   first_file\n",
    "\tnew file:   second_file\n",
    "```\n",
    "\n",
    "The last thing to do is to commit these files.  "
   ]
  },
  {
   "cell_type": "code",
   "execution_count": null,
   "id": "written-childhood",
   "metadata": {},
   "outputs": [],
   "source": [
    "# use 'git commit -m \"<meaningful message>\"'\n"
   ]
  },
  {
   "cell_type": "markdown",
   "id": "derived-explorer",
   "metadata": {},
   "source": [
    "**Congrats!**  \n",
    "Your files are included in the Git repository.\n",
    "\n",
    "\n",
    "\n",
    "### Know state of Git repository using git diff and git log\n",
    "For now, we have two files in our Git repository.  \n",
    "Let's see what happens when we modify them. We therefore use the \">>\" operator to append a new line of text to our files."
   ]
  },
  {
   "cell_type": "code",
   "execution_count": null,
   "id": "powered-province",
   "metadata": {},
   "outputs": [],
   "source": [
    "# append a new line of text with \"echo\" and \">>\"\n",
    "\n"
   ]
  },
  {
   "cell_type": "code",
   "execution_count": null,
   "id": "current-shelter",
   "metadata": {},
   "outputs": [],
   "source": [
    "# check state of you repository with \"git status\"\n",
    "\n"
   ]
  },
  {
   "cell_type": "markdown",
   "id": "humanitarian-defense",
   "metadata": {},
   "source": [
    "Your output should look similar to:\n",
    "\n",
    "```\n",
    "On branch main\n",
    "Changes not staged for commit:\n",
    "  (use \"git add <file>...\" to update what will be committed)\n",
    "  (use \"git restore <file>...\" to discard changes in working directory)\n",
    "\tmodified:   first_file\n",
    "\n",
    "no changes added to commit (use \"git add\" and/or \"git commit -a\")\n",
    "```\n",
    "\n",
    "\n",
    "At some point you forget about the additional line we just added.  \n",
    "Git provides a command to check, what new changes are contained in a file:   \n",
    "**git diff**"
   ]
  },
  {
   "cell_type": "code",
   "execution_count": null,
   "id": "confidential-soundtrack",
   "metadata": {},
   "outputs": [],
   "source": [
    "# see local changes of modified file with \"git diff your_filename\"\n",
    "\n"
   ]
  },
  {
   "cell_type": "markdown",
   "id": "enabling-shirt",
   "metadata": {},
   "source": [
    "In the output\n",
    "\n",
    "```\n",
    "diff --git a/first_file b/first_file\n",
    "index 3829ab8..a32d2f3 100644\n",
    "--- a/first_file\n",
    "+++ b/first_file\n",
    "@@ -1 +1,2 @@\n",
    " myfirstline\n",
    "+mysecondline\n",
    "```\n",
    "\n",
    "we see a lot of information. But all we care at the moment is the last line:  \n",
    "The + indicates that we have a new line in our file.\n",
    "\n",
    "\n",
    "Because Git is so easy, we modify the second file as well."
   ]
  },
  {
   "cell_type": "code",
   "execution_count": null,
   "id": "involved-plaintiff",
   "metadata": {},
   "outputs": [],
   "source": [
    "# add a new line in the second file as well\n",
    "\n"
   ]
  },
  {
   "cell_type": "markdown",
   "id": "featured-indie",
   "metadata": {},
   "source": [
    "The next lecture is starting soon, so let's add and commit our changes for safety reasons in Git."
   ]
  },
  {
   "cell_type": "code",
   "execution_count": null,
   "id": "voluntary-negotiation",
   "metadata": {},
   "outputs": [],
   "source": [
    "# add you two modified files with \"git add\"\n",
    "\n",
    "\n",
    "# git status to check if your action was successful\n",
    "\n"
   ]
  },
  {
   "cell_type": "code",
   "execution_count": null,
   "id": "sublime-council",
   "metadata": {},
   "outputs": [],
   "source": [
    "# use 'git commit -m \"<meaningful message>\"' to commit your files\n",
    "\n"
   ]
  },
  {
   "cell_type": "markdown",
   "id": "dedicated-indian",
   "metadata": {},
   "source": [
    "**Congrats!**   \n",
    "But how many commits do I already have in this repository?\n",
    "Git does all this tracking for us!   \n",
    "\n",
    "`git log` allows us to look back in time and explore what commits are contained in our repository.\n"
   ]
  },
  {
   "cell_type": "code",
   "execution_count": null,
   "id": "romantic-sharing",
   "metadata": {},
   "outputs": [],
   "source": [
    "# type git log to get an overview of the (very short) \n",
    "# life of your repository\n",
    "\n"
   ]
  },
  {
   "cell_type": "markdown",
   "id": "ignored-local",
   "metadata": {},
   "source": [
    "Below you see an example how your log could look like:\n",
    "\n",
    "```\n",
    "commit 26c65dd070e995db55ac46d76cdb5052da03f5cb (HEAD -> main)\n",
    "Author: juckerj <jonas.jucker@env.ethz.ch>\n",
    "Date:   Tue Feb 23 17:16:03 2021 +0100\n",
    "\n",
    "    second commit\n",
    "\n",
    "commit 495eb9387e4407f3accb57a8f29d7362eead85bb\n",
    "Author: juckerj <jonas.jucker@env.ethz.ch>\n",
    "Date:   Tue Feb 23 16:09:54 2021 +0100\n",
    "\n",
    "    test\n",
    "```\n",
    "\n",
    "We see the unique hash of each commit, its author as well as the date of the commit.\n",
    "Those are all very useful things as we will see later in this course."
   ]
  }
 ],
 "metadata": {
  "kernelspec": {
   "display_name": "Bash",
   "language": "bash",
   "name": "bash"
  },
  "language_info": {
   "codemirror_mode": "shell",
   "file_extension": ".sh",
   "mimetype": "text/x-sh",
   "name": "bash"
  }
 },
 "nbformat": 4,
 "nbformat_minor": 5
}
