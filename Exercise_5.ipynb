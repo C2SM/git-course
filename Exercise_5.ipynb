{
 "cells": [
  {
   "cell_type": "markdown",
   "id": "rural-movement",
   "metadata": {},
   "source": [
    "# Exercise 5\n",
    "\n",
    "# Goals\n",
    "* Add a remote repository\n",
    "* Examine remote branches\n",
    "* Exchange information with a remote repository\n",
    "\n",
    "### Initialization"
   ]
  },
  {
   "cell_type": "code",
   "execution_count": null,
   "id": "compatible-vancouver",
   "metadata": {},
   "outputs": [],
   "source": [
    "# execute this code at the very beginning to get access to the helper functions\n",
    "source helpers.sh"
   ]
  },
  {
   "cell_type": "markdown",
   "id": "fiscal-honolulu",
   "metadata": {},
   "source": [
    "***\n",
    "### Optional: clear notebook and restart\n",
    "**In case you mess up your notebook completely,  \n",
    "execute** ***reset*** **in the following cell. This will restore a clean environment!**\n"
   ]
  },
  {
   "cell_type": "code",
   "execution_count": null,
   "id": "middle-meditation",
   "metadata": {},
   "outputs": [],
   "source": [
    "## only execute in case of (serious) trouble ##\n",
    "## it will delete your entire work-directory ##\n",
    "reset"
   ]
  },
  {
   "cell_type": "markdown",
   "id": "sound-bearing",
   "metadata": {},
   "source": [
    "***\n",
    "## Exercise\n",
    "\n",
    "In this exercise we are going to use the same simple repository that we used in Exercise 2. Let's initialize it with our helper function.   \n"
   ]
  },
  {
   "cell_type": "code",
   "execution_count": null,
   "id": "auburn-kelly",
   "metadata": {},
   "outputs": [],
   "source": [
    "# this line will setup the simple Git-repository from Exercise 2 for you\n",
    "init_simple_repo_remote"
   ]
  },
  {
   "cell_type": "markdown",
   "id": "particular-clark",
   "metadata": {},
   "source": [
    "### Add a remote repository\n",
    "\n",
    "Let's add a remote repository to our local repository.  \n",
    "\n",
    "The setup script has already created one that you can use at: ../party_planning_remote"
   ]
  },
  {
   "cell_type": "code",
   "execution_count": null,
   "id": "musical-contents",
   "metadata": {},
   "outputs": [],
   "source": [
    "# use \"git remote add remote_name remote_path\" to add the remote \n"
   ]
  },
  {
   "cell_type": "code",
   "execution_count": null,
   "id": "expanded-latex",
   "metadata": {},
   "outputs": [],
   "source": [
    "# use \"git remote -v\" to check that the remote was added correctly\n"
   ]
  },
  {
   "cell_type": "markdown",
   "id": "neither-wednesday",
   "metadata": {
    "tags": []
   },
   "source": [
    "The output should look something like this:\n",
    "```\n",
    "test  ../party_planning_remote (fetch)\n",
    "test  ../party_planning_remote (push)\n",
    "```"
   ]
  },
  {
   "cell_type": "markdown",
   "id": "academic-restriction",
   "metadata": {
    "tags": []
   },
   "source": [
    "### Get information from remote\n",
    "\n",
    "So far all we have done is given our local repository the location of the remote repository.  Now, we should get the information from the remote repository.\n",
    "\n",
    "\n"
   ]
  },
  {
   "cell_type": "code",
   "execution_count": null,
   "id": "approximate-thriller",
   "metadata": {},
   "outputs": [],
   "source": [
    "# use \"git fetch remote_name\" to get information from the remote\n"
   ]
  },
  {
   "cell_type": "code",
   "execution_count": null,
   "id": "historical-british",
   "metadata": {},
   "outputs": [],
   "source": [
    "# use \"git branch -a\" to view ALL of the branches in your local repository\n"
   ]
  },
  {
   "cell_type": "markdown",
   "id": "racial-kinase",
   "metadata": {},
   "source": [
    "The output should look like this:\n",
    "```\n",
    "* master\n",
    "  remotes/test/master\n",
    "  remotes/test/updated_flyers\n",
    "```\n",
    "\n",
    "You can see that you now have local branches (master), and remote branches (remotes/remote_name/branch_name).  \n",
    "\n",
    "\n",
    "### Add to local repository\n",
    "\n",
    "The remote repository has a branch called \"updated_flyers\".\n",
    "Let's check out this branch to work on it.  "
   ]
  },
  {
   "cell_type": "code",
   "execution_count": null,
   "id": "vertical-bloom",
   "metadata": {},
   "outputs": [],
   "source": [
    "# use \"git checkout updated_flyers\"\n"
   ]
  },
  {
   "cell_type": "markdown",
   "id": "standing-agent",
   "metadata": {},
   "source": [
    "The output should look like this:\n",
    "```\n",
    "Branch 'updated_flyers' set up to track remote branch 'updated_flyers' from 'test'.\n",
    "Switched to a new branch 'updated_flyers'\n",
    "```\n",
    "\n",
    "Git has automatically created a local branch in our local repository that tracks the remote branch from the remote repository.  You can also tell git explicitly to track a remote branch with a local one with the following command: \n",
    "```\n",
    "git checkout --track remote_name/branch_name\n",
    "```\n",
    "\n",
    "Next, let's make a change in the \"updated_flyers\" branch.  "
   ]
  },
  {
   "cell_type": "markdown",
   "id": "attractive-shadow",
   "metadata": {},
   "source": [
    "Make a change in your local repository.\n",
    "Remember to do all modifications of the flyers directly via Jupyter Notebooks.\n",
    "   * Click on *File* -> *Open* in the headers section of the notebook\n",
    "   * Go to folder *work* and enter *party_planning*\n",
    "   * Open *flyer_A*\n",
    "   * Add more information to your flyer, i.e. music, dresscode, etc.\n",
    "   \n",
    "**Don't forget to save your modifications before coming back!**"
   ]
  },
  {
   "cell_type": "code",
   "execution_count": 6,
   "id": "abstract-parker",
   "metadata": {},
   "outputs": [],
   "source": [
    "# add and commit your changes\n"
   ]
  },
  {
   "cell_type": "code",
   "execution_count": 6,
   "id": "hundred-greeting",
   "metadata": {},
   "outputs": [],
   "source": [
    "# check the status of your repository\n"
   ]
  },
  {
   "cell_type": "markdown",
   "id": "weighted-humanitarian",
   "metadata": {},
   "source": [
    "The output should look like this:\n",
    "```\n",
    "On branch updated_flyers\n",
    "Your branch is ahead of 'test/updated_flyers' by 1 commit.\n",
    "  (use \"git push\" to publish your local commits)\n",
    "\n",
    "nothing to commit, working tree clean\n",
    "```"
   ]
  },
  {
   "cell_type": "markdown",
   "id": "brown-guitar",
   "metadata": {},
   "source": [
    "### Send information to remote repository\n",
    "\n",
    "Finally, we will send the changes we made to the remote repository.  "
   ]
  },
  {
   "cell_type": "code",
   "execution_count": 6,
   "id": "distant-spending",
   "metadata": {},
   "outputs": [],
   "source": [
    "# use \"git push remote_name branch_name\"  \n"
   ]
  },
  {
   "cell_type": "markdown",
   "id": "historic-market",
   "metadata": {},
   "source": [
    "The output should look something like this:\n",
    "\n",
    "```\n",
    "Enumerating objects: 5, done.\n",
    "Counting objects: 100% (5/5), done.\n",
    "Delta compression using up to 8 threads\n",
    "Compressing objects: 100% (3/3), done.\n",
    "Writing objects: 100% (3/3), 306 bytes | 306.00 KiB/s, done.\n",
    "Total 3 (delta 0), reused 0 (delta 0)\n",
    "To ../party_planning_remote\n",
    "   4f64811..a2244c4  updated_flyers -> updated_flyers\n",
    "```"
   ]
  }
 ],
 "metadata": {
  "kernelspec": {
   "display_name": "Bash",
   "language": "bash",
   "name": "bash"
  },
  "language_info": {
   "codemirror_mode": "shell",
   "file_extension": ".sh",
   "mimetype": "text/x-sh",
   "name": "bash"
  }
 },
 "nbformat": 4,
 "nbformat_minor": 5
}
