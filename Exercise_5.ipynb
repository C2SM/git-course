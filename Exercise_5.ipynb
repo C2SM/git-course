{
 "cells": [
  {
   "cell_type": "markdown",
   "id": "attempted-eagle",
   "metadata": {},
   "source": [
    "## Exercise 5\n",
    "\n",
    "## Goals\n",
    "* Access code from a git web interface\n",
    "* Push code changes to a git web interface\n",
    "* Examine the code repository on a git web interface"
   ]
  },
  {
   "cell_type": "code",
   "execution_count": null,
   "id": "express-trail",
   "metadata": {},
   "outputs": [],
   "source": [
    "# execute this code at the very beginning to get access to the helper functions\n",
    "source helpers.sh"
   ]
  },
  {
   "cell_type": "markdown",
   "id": "aggressive-belfast",
   "metadata": {},
   "source": [
    "### Important Remark:\n",
    "**In case you mess up your notebook completely,  \n",
    "execute** ***reset*** **below this cell, it will restore a clean environment!**"
   ]
  },
  {
   "cell_type": "code",
   "execution_count": null,
   "id": "incorrect-discretion",
   "metadata": {},
   "outputs": [],
   "source": [
    "## only execute in case of (serious) trouble ##\n",
    "## it will delete your entire work-directory ##\n",
    "reset"
   ]
  },
  {
   "cell_type": "markdown",
   "id": "authorized-transport",
   "metadata": {},
   "source": [
    "In this exercise we are going to work with a repository we are hosting on the Github website.\n",
    "\n",
    "First, let's make a fork of the repository so that we can have our own copy to work with.  To do this, open another tab in your browser and navigate here: github.com:kosterried/git-repo.git\n",
    "\n",
    "Use the web interface to make a fork:\n",
    "\n",
    "SCREENSHOT\n",
    "\n",
    "You can find the path to your fork on the website:\n",
    "\n",
    "SCREENSHOT\n",
    "\n",
    "\n",
    "Next, copy your forked repository to your local workspace."
   ]
  },
  {
   "cell_type": "code",
   "execution_count": null,
   "id": "skilled-science",
   "metadata": {},
   "outputs": [],
   "source": [
    "# use \"git clone path_to_repository\" to download your forked repository\n"
   ]
  },
  {
   "cell_type": "code",
   "execution_count": null,
   "id": "drawn-british",
   "metadata": {},
   "outputs": [],
   "source": [
    "# use \"cd\" to enter the repository\n"
   ]
  },
  {
   "cell_type": "markdown",
   "id": "cardiac-projector",
   "metadata": {},
   "source": [
    "Let's examine the repository.  Does it have any remotes?  What branches are in it?  "
   ]
  },
  {
   "cell_type": "code",
   "execution_count": null,
   "id": "alternate-sheffield",
   "metadata": {},
   "outputs": [],
   "source": [
    "# use \"git remote -v\", \"git branch -a\", and \"git status\" to examine the repository\n"
   ]
  },
  {
   "cell_type": "markdown",
   "id": "colored-machine",
   "metadata": {},
   "source": [
    "You should have seen that your local repository has a remote called \"origin\", which points to your fork on Github.  This is the default behavior when you use git clone to copy a repository.  \n",
    "\n",
    "Next, let's make a new branch and add a commit to it.  "
   ]
  },
  {
   "cell_type": "code",
   "execution_count": null,
   "id": "considerable-commercial",
   "metadata": {},
   "outputs": [],
   "source": [
    "# use \"git checkout -b branch_name\" to make a new branch\n"
   ]
  },
  {
   "cell_type": "markdown",
   "id": "rational-syria",
   "metadata": {},
   "source": [
    "Make a change in your local repository.\n",
    "Remember to do all modifications of the flyers directly via Jupyter Notebooks.\n",
    "   * Click on *File* -> *Open* in the headers section of the notebook\n",
    "   * Go to folder *work* and enter *party_planning*\n",
    "   * Open *flyer_A*\n",
    "   * Add more information to your flyer, i.e. music, dresscode, etc.\n",
    "   \n",
    "**Don't forget to save your modifications before coming back!**"
   ]
  },
  {
   "cell_type": "code",
   "execution_count": 6,
   "id": "disturbed-franchise",
   "metadata": {},
   "outputs": [],
   "source": [
    "# add and commit your changes\n"
   ]
  },
  {
   "cell_type": "markdown",
   "id": "conventional-lease",
   "metadata": {},
   "source": [
    "Now, let's send our new branch to our Github fork.   "
   ]
  },
  {
   "cell_type": "code",
   "execution_count": 6,
   "id": "phantom-lightning",
   "metadata": {},
   "outputs": [],
   "source": [
    "# use \"git push origin branch_name\" \n"
   ]
  }
 ],
 "metadata": {
  "kernelspec": {
   "display_name": "Bash",
   "language": "bash",
   "name": "bash"
  },
  "language_info": {
   "codemirror_mode": "shell",
   "file_extension": ".sh",
   "mimetype": "text/x-sh",
   "name": "bash"
  }
 },
 "nbformat": 4,
 "nbformat_minor": 5
}
