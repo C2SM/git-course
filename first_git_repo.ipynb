{
 "cells": [
  {
   "cell_type": "markdown",
   "id": "professional-short",
   "metadata": {},
   "source": [
    "## Your first Git-Repository\n",
    "In this excercise you will make your first Git-Repository\n",
    "and get familier with the basic Git-commands\n",
    "\n",
    "#### Go to root folder and delete all stuff in work folder"
   ]
  },
  {
   "cell_type": "code",
   "execution_count": 1,
   "id": "musical-thomson",
   "metadata": {},
   "outputs": [],
   "source": [
    "cd /Users/juckerj/Desktop/git_course/notebook && rm -rf work/*"
   ]
  },
  {
   "cell_type": "code",
   "execution_count": 2,
   "id": "promising-potato",
   "metadata": {},
   "outputs": [],
   "source": [
    "cd work && mkdir -p git_repo && cd git_repo"
   ]
  },
  {
   "cell_type": "markdown",
   "id": "hybrid-complexity",
   "metadata": {},
   "source": [
    "#### create README.md with a small description, init your git and add the README.md to git"
   ]
  },
  {
   "cell_type": "code",
   "execution_count": 3,
   "id": "coated-underground",
   "metadata": {},
   "outputs": [],
   "source": [
    "echo \"Yeah, my first file ever in Git\" > README.md"
   ]
  },
  {
   "cell_type": "code",
   "execution_count": 4,
   "id": "weekly-furniture",
   "metadata": {},
   "outputs": [
    {
     "name": "stdout",
     "output_type": "stream",
     "text": [
      "Initialized empty Git repository in /Users/juckerj/Desktop/git_course/notebook/work/git_repo/.git/\n"
     ]
    }
   ],
   "source": [
    "git init"
   ]
  },
  {
   "cell_type": "code",
   "execution_count": 5,
   "id": "tropical-reliance",
   "metadata": {},
   "outputs": [],
   "source": [
    "git add README.md"
   ]
  },
  {
   "cell_type": "markdown",
   "id": "rocky-analysis",
   "metadata": {},
   "source": [
    "#### check if your file is really added"
   ]
  },
  {
   "cell_type": "code",
   "execution_count": 6,
   "id": "joint-values",
   "metadata": {},
   "outputs": [
    {
     "name": "stdout",
     "output_type": "stream",
     "text": [
      "On branch master\n",
      "\n",
      "No commits yet\n",
      "\n",
      "Changes to be committed:\n",
      "  (use \"git rm --cached <file>...\" to unstage)\n",
      "\t\u001b[32mnew file:   README.md\u001b[m\n",
      "\n"
     ]
    }
   ],
   "source": [
    "git status"
   ]
  },
  {
   "cell_type": "code",
   "execution_count": 7,
   "id": "monthly-lobby",
   "metadata": {},
   "outputs": [
    {
     "name": "stdout",
     "output_type": "stream",
     "text": [
      "[master (root-commit) 1f8c465] Initial commit\n",
      " 1 file changed, 1 insertion(+)\n",
      " create mode 100644 README.md\n"
     ]
    }
   ],
   "source": [
    "git commit -m \"Initial commit\""
   ]
  },
  {
   "cell_type": "markdown",
   "id": "necessary-theme",
   "metadata": {},
   "source": [
    "#### Congrats! Your file is included in the Git-repository"
   ]
  },
  {
   "cell_type": "code",
   "execution_count": 8,
   "id": "pregnant-narrative",
   "metadata": {},
   "outputs": [
    {
     "name": "stdout",
     "output_type": "stream",
     "text": [
      "\u001b[33mcommit 1f8c46534c986956f4be898b159fa431fb1c3161\u001b[m\u001b[33m (\u001b[m\u001b[1;36mHEAD -> \u001b[m\u001b[1;32mmaster\u001b[m\u001b[33m)\u001b[m\n",
      "Author: juckerj <jonas.jucker@env.ethz.ch>\n",
      "Date:   Fri Feb 19 10:25:05 2021 +0100\n",
      "\n",
      "    Initial commit\n"
     ]
    }
   ],
   "source": [
    "git log"
   ]
  },
  {
   "cell_type": "markdown",
   "id": "unique-embassy",
   "metadata": {},
   "source": [
    "### Now we extend the README.md with another line of text..."
   ]
  },
  {
   "cell_type": "code",
   "execution_count": 9,
   "id": "monetary-repository",
   "metadata": {},
   "outputs": [],
   "source": [
    "echo \"my first change to track in Git\" >> README.md"
   ]
  },
  {
   "cell_type": "code",
   "execution_count": 10,
   "id": "major-sensitivity",
   "metadata": {},
   "outputs": [
    {
     "name": "stdout",
     "output_type": "stream",
     "text": [
      "On branch master\n",
      "Changes not staged for commit:\n",
      "  (use \"git add <file>...\" to update what will be committed)\n",
      "  (use \"git restore <file>...\" to discard changes in working directory)\n",
      "\t\u001b[31mmodified:   README.md\u001b[m\n",
      "\n",
      "no changes added to commit (use \"git add\" and/or \"git commit -a\")\n",
      "\u001b[1mdiff --git a/README.md b/README.md\u001b[m\n",
      "\u001b[1mindex 3a8da3c..8a69e1d 100644\u001b[m\n",
      "\u001b[1m--- a/README.md\u001b[m\n",
      "\u001b[1m+++ b/README.md\u001b[m\n",
      "\u001b[36m@@ -1 +1,2 @@\u001b[m\n",
      " Yeah, my first file ever in Git\u001b[m\n",
      "\u001b[32m+\u001b[m\u001b[32mmy first change to track in Git\u001b[m\n"
     ]
    }
   ],
   "source": [
    "git status\n",
    "git diff"
   ]
  },
  {
   "cell_type": "code",
   "execution_count": 11,
   "id": "meaning-specific",
   "metadata": {},
   "outputs": [
    {
     "name": "stdout",
     "output_type": "stream",
     "text": [
      "[master da6f830] second commit\n",
      " 1 file changed, 1 insertion(+)\n"
     ]
    }
   ],
   "source": [
    "git add README.md && git commit -m \"second commit\""
   ]
  },
  {
   "cell_type": "code",
   "execution_count": 12,
   "id": "solid-citizenship",
   "metadata": {},
   "outputs": [
    {
     "name": "stdout",
     "output_type": "stream",
     "text": [
      "\u001b[33mcommit da6f830c9f11b163ddd6d91c7d9725f4f17c8645\u001b[m\u001b[33m (\u001b[m\u001b[1;36mHEAD -> \u001b[m\u001b[1;32mmaster\u001b[m\u001b[33m)\u001b[m\n",
      "Author: juckerj <jonas.jucker@env.ethz.ch>\n",
      "Date:   Fri Feb 19 10:25:57 2021 +0100\n",
      "\n",
      "    second commit\n",
      "\n",
      "\u001b[33mcommit 1f8c46534c986956f4be898b159fa431fb1c3161\u001b[m\n",
      "Author: juckerj <jonas.jucker@env.ethz.ch>\n",
      "Date:   Fri Feb 19 10:25:05 2021 +0100\n",
      "\n",
      "    Initial commit\n"
     ]
    }
   ],
   "source": [
    "git log"
   ]
  },
  {
   "cell_type": "code",
   "execution_count": null,
   "id": "provincial-singing",
   "metadata": {},
   "outputs": [],
   "source": []
  }
 ],
 "metadata": {
  "kernelspec": {
   "display_name": "Bash",
   "language": "bash",
   "name": "bash"
  },
  "language_info": {
   "codemirror_mode": "shell",
   "file_extension": ".sh",
   "mimetype": "text/x-sh",
   "name": "bash"
  }
 },
 "nbformat": 4,
 "nbformat_minor": 5
}
